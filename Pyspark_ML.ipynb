{
  "nbformat": 4,
  "nbformat_minor": 0,
  "metadata": {
    "colab": {
      "provenance": [],
      "authorship_tag": "ABX9TyMd3Vo0bHN1OFbLbf9OhxpA",
      "include_colab_link": true
    },
    "kernelspec": {
      "name": "python3",
      "display_name": "Python 3"
    },
    "language_info": {
      "name": "python"
    }
  },
  "cells": [
    {
      "cell_type": "markdown",
      "metadata": {
        "id": "view-in-github",
        "colab_type": "text"
      },
      "source": [
        "<a href=\"https://colab.research.google.com/github/HAQ-NAWAZ-MALIK/Projects-2025/blob/main/Pyspark_ML.ipynb\" target=\"_parent\"><img src=\"https://colab.research.google.com/assets/colab-badge.svg\" alt=\"Open In Colab\"/></a>"
      ]
    },
    {
      "cell_type": "code",
      "execution_count": 1,
      "metadata": {
        "colab": {
          "base_uri": "https://localhost:8080/"
        },
        "id": "rqLzNdvhEN_T",
        "outputId": "edee324a-85db-4cce-f8da-f545c62a6466"
      },
      "outputs": [
        {
          "output_type": "stream",
          "name": "stdout",
          "text": [
            "Spark version: 3.5.5\n",
            "Spark UI available at: http://d26f916083fa:4040\n"
          ]
        }
      ],
      "source": [
        "# Comprehensive PySpark ML Lab\n",
        "# ===========================\n",
        "\n",
        "# Cell 1: Setup and Initialization\n",
        "# ---------------------------------\n",
        "from pyspark.sql import SparkSession\n",
        "from pyspark.ml import Pipeline\n",
        "from pyspark.ml.feature import StringIndexer, VectorAssembler, StandardScaler, OneHotEncoder\n",
        "from pyspark.ml.classification import LogisticRegression, RandomForestClassifier, GBTClassifier\n",
        "from pyspark.ml.regression import LinearRegression, RandomForestRegressor, GBTRegressor\n",
        "from pyspark.ml.clustering import KMeans\n",
        "from pyspark.ml.evaluation import MulticlassClassificationEvaluator, RegressionEvaluator, ClusteringEvaluator\n",
        "from pyspark.ml.tuning import ParamGridBuilder, CrossValidator\n",
        "from pyspark.sql.functions import col, expr, when, udf\n",
        "from pyspark.sql.types import DoubleType, StringType, IntegerType\n",
        "import matplotlib.pyplot as plt\n",
        "import seaborn as sns\n",
        "import pandas as pd\n",
        "import numpy as np\n",
        "\n",
        "# Initialize a Spark session\n",
        "spark = SparkSession.builder \\\n",
        "    .appName(\"Comprehensive Spark ML Lab\") \\\n",
        "    .config(\"spark.executor.memory\", \"2g\") \\\n",
        "    .config(\"spark.driver.memory\", \"2g\") \\\n",
        "    .master(\"local[*]\") \\\n",
        "    .getOrCreate()\n",
        "\n",
        "print(\"Spark version:\", spark.version)\n",
        "print(\"Spark UI available at:\", spark.sparkContext.uiWebUrl)"
      ]
    },
    {
      "cell_type": "code",
      "source": [
        "\n",
        "# Cell 2: Load Dataset - Classification Example with Iris dataset\n",
        "# --------------------------------------------------------------\n",
        "# Load the popular Iris dataset directly from UCI repository\n",
        "iris_url = \"https://archive.ics.uci.edu/ml/machine-learning-databases/iris/iris.data\"\n",
        "column_names = [\"sepal_length\", \"sepal_width\", \"petal_length\", \"petal_width\", \"species\"]\n",
        "\n",
        "# Load data using Spark's read.csv\n",
        "iris_df = spark.read.csv(iris_url, header=False, inferSchema=True)\n",
        "iris_df = iris_df.toDF(*column_names)\n",
        "\n",
        "# Show the dataset\n",
        "print(\"Iris Dataset:\")\n",
        "iris_df.show(5)\n",
        "print(\"Schema:\")\n",
        "iris_df.printSchema()"
      ],
      "metadata": {
        "colab": {
          "base_uri": "https://localhost:8080/",
          "height": 654
        },
        "id": "znexEBL9FjFA",
        "outputId": "3f07c93b-5206-4627-a506-adcf18d89f64"
      },
      "execution_count": 2,
      "outputs": [
        {
          "output_type": "error",
          "ename": "UnsupportedOperationException",
          "evalue": "None",
          "traceback": [
            "\u001b[0;31m---------------------------------------------------------------------------\u001b[0m",
            "\u001b[0;31mUnsupportedOperationException\u001b[0m             Traceback (most recent call last)",
            "\u001b[0;32m<ipython-input-2-92d63f89a4ed>\u001b[0m in \u001b[0;36m<cell line: 0>\u001b[0;34m()\u001b[0m\n\u001b[1;32m      6\u001b[0m \u001b[0;34m\u001b[0m\u001b[0m\n\u001b[1;32m      7\u001b[0m \u001b[0;31m# Load data using Spark's read.csv\u001b[0m\u001b[0;34m\u001b[0m\u001b[0;34m\u001b[0m\u001b[0m\n\u001b[0;32m----> 8\u001b[0;31m \u001b[0miris_df\u001b[0m \u001b[0;34m=\u001b[0m \u001b[0mspark\u001b[0m\u001b[0;34m.\u001b[0m\u001b[0mread\u001b[0m\u001b[0;34m.\u001b[0m\u001b[0mcsv\u001b[0m\u001b[0;34m(\u001b[0m\u001b[0miris_url\u001b[0m\u001b[0;34m,\u001b[0m \u001b[0mheader\u001b[0m\u001b[0;34m=\u001b[0m\u001b[0;32mFalse\u001b[0m\u001b[0;34m,\u001b[0m \u001b[0minferSchema\u001b[0m\u001b[0;34m=\u001b[0m\u001b[0;32mTrue\u001b[0m\u001b[0;34m)\u001b[0m\u001b[0;34m\u001b[0m\u001b[0;34m\u001b[0m\u001b[0m\n\u001b[0m\u001b[1;32m      9\u001b[0m \u001b[0miris_df\u001b[0m \u001b[0;34m=\u001b[0m \u001b[0miris_df\u001b[0m\u001b[0;34m.\u001b[0m\u001b[0mtoDF\u001b[0m\u001b[0;34m(\u001b[0m\u001b[0;34m*\u001b[0m\u001b[0mcolumn_names\u001b[0m\u001b[0;34m)\u001b[0m\u001b[0;34m\u001b[0m\u001b[0;34m\u001b[0m\u001b[0m\n\u001b[1;32m     10\u001b[0m \u001b[0;34m\u001b[0m\u001b[0m\n",
            "\u001b[0;32m/usr/local/lib/python3.11/dist-packages/pyspark/sql/readwriter.py\u001b[0m in \u001b[0;36mcsv\u001b[0;34m(self, path, schema, sep, encoding, quote, escape, comment, header, inferSchema, ignoreLeadingWhiteSpace, ignoreTrailingWhiteSpace, nullValue, nanValue, positiveInf, negativeInf, dateFormat, timestampFormat, maxColumns, maxCharsPerColumn, maxMalformedLogPerPartition, mode, columnNameOfCorruptRecord, multiLine, charToEscapeQuoteEscaping, samplingRatio, enforceSchema, emptyValue, locale, lineSep, pathGlobFilter, recursiveFileLookup, modifiedBefore, modifiedAfter, unescapedQuoteHandling)\u001b[0m\n\u001b[1;32m    738\u001b[0m         \u001b[0;32mif\u001b[0m \u001b[0mtype\u001b[0m\u001b[0;34m(\u001b[0m\u001b[0mpath\u001b[0m\u001b[0;34m)\u001b[0m \u001b[0;34m==\u001b[0m \u001b[0mlist\u001b[0m\u001b[0;34m:\u001b[0m\u001b[0;34m\u001b[0m\u001b[0;34m\u001b[0m\u001b[0m\n\u001b[1;32m    739\u001b[0m             \u001b[0;32massert\u001b[0m \u001b[0mself\u001b[0m\u001b[0;34m.\u001b[0m\u001b[0m_spark\u001b[0m\u001b[0;34m.\u001b[0m\u001b[0m_sc\u001b[0m\u001b[0;34m.\u001b[0m\u001b[0m_jvm\u001b[0m \u001b[0;32mis\u001b[0m \u001b[0;32mnot\u001b[0m \u001b[0;32mNone\u001b[0m\u001b[0;34m\u001b[0m\u001b[0;34m\u001b[0m\u001b[0m\n\u001b[0;32m--> 740\u001b[0;31m             \u001b[0;32mreturn\u001b[0m \u001b[0mself\u001b[0m\u001b[0;34m.\u001b[0m\u001b[0m_df\u001b[0m\u001b[0;34m(\u001b[0m\u001b[0mself\u001b[0m\u001b[0;34m.\u001b[0m\u001b[0m_jreader\u001b[0m\u001b[0;34m.\u001b[0m\u001b[0mcsv\u001b[0m\u001b[0;34m(\u001b[0m\u001b[0mself\u001b[0m\u001b[0;34m.\u001b[0m\u001b[0m_spark\u001b[0m\u001b[0;34m.\u001b[0m\u001b[0m_sc\u001b[0m\u001b[0;34m.\u001b[0m\u001b[0m_jvm\u001b[0m\u001b[0;34m.\u001b[0m\u001b[0mPythonUtils\u001b[0m\u001b[0;34m.\u001b[0m\u001b[0mtoSeq\u001b[0m\u001b[0;34m(\u001b[0m\u001b[0mpath\u001b[0m\u001b[0;34m)\u001b[0m\u001b[0;34m)\u001b[0m\u001b[0;34m)\u001b[0m\u001b[0;34m\u001b[0m\u001b[0;34m\u001b[0m\u001b[0m\n\u001b[0m\u001b[1;32m    741\u001b[0m         \u001b[0;32melif\u001b[0m \u001b[0misinstance\u001b[0m\u001b[0;34m(\u001b[0m\u001b[0mpath\u001b[0m\u001b[0;34m,\u001b[0m \u001b[0mRDD\u001b[0m\u001b[0;34m)\u001b[0m\u001b[0;34m:\u001b[0m\u001b[0;34m\u001b[0m\u001b[0;34m\u001b[0m\u001b[0m\n\u001b[1;32m    742\u001b[0m \u001b[0;34m\u001b[0m\u001b[0m\n",
            "\u001b[0;32m/usr/local/lib/python3.11/dist-packages/py4j/java_gateway.py\u001b[0m in \u001b[0;36m__call__\u001b[0;34m(self, *args)\u001b[0m\n\u001b[1;32m   1320\u001b[0m \u001b[0;34m\u001b[0m\u001b[0m\n\u001b[1;32m   1321\u001b[0m         \u001b[0manswer\u001b[0m \u001b[0;34m=\u001b[0m \u001b[0mself\u001b[0m\u001b[0;34m.\u001b[0m\u001b[0mgateway_client\u001b[0m\u001b[0;34m.\u001b[0m\u001b[0msend_command\u001b[0m\u001b[0;34m(\u001b[0m\u001b[0mcommand\u001b[0m\u001b[0;34m)\u001b[0m\u001b[0;34m\u001b[0m\u001b[0;34m\u001b[0m\u001b[0m\n\u001b[0;32m-> 1322\u001b[0;31m         return_value = get_return_value(\n\u001b[0m\u001b[1;32m   1323\u001b[0m             answer, self.gateway_client, self.target_id, self.name)\n\u001b[1;32m   1324\u001b[0m \u001b[0;34m\u001b[0m\u001b[0m\n",
            "\u001b[0;32m/usr/local/lib/python3.11/dist-packages/pyspark/errors/exceptions/captured.py\u001b[0m in \u001b[0;36mdeco\u001b[0;34m(*a, **kw)\u001b[0m\n\u001b[1;32m    183\u001b[0m                 \u001b[0;31m# Hide where the exception came from that shows a non-Pythonic\u001b[0m\u001b[0;34m\u001b[0m\u001b[0;34m\u001b[0m\u001b[0m\n\u001b[1;32m    184\u001b[0m                 \u001b[0;31m# JVM exception message.\u001b[0m\u001b[0;34m\u001b[0m\u001b[0;34m\u001b[0m\u001b[0m\n\u001b[0;32m--> 185\u001b[0;31m                 \u001b[0;32mraise\u001b[0m \u001b[0mconverted\u001b[0m \u001b[0;32mfrom\u001b[0m \u001b[0;32mNone\u001b[0m\u001b[0;34m\u001b[0m\u001b[0;34m\u001b[0m\u001b[0m\n\u001b[0m\u001b[1;32m    186\u001b[0m             \u001b[0;32melse\u001b[0m\u001b[0;34m:\u001b[0m\u001b[0;34m\u001b[0m\u001b[0;34m\u001b[0m\u001b[0m\n\u001b[1;32m    187\u001b[0m                 \u001b[0;32mraise\u001b[0m\u001b[0;34m\u001b[0m\u001b[0;34m\u001b[0m\u001b[0m\n",
            "\u001b[0;31mUnsupportedOperationException\u001b[0m: None"
          ]
        }
      ]
    },
    {
      "source": [
        "import requests\n",
        "import io\n",
        "\n",
        "# Cell 2: Load Dataset - Classification Example with Iris dataset\n",
        "# --------------------------------------------------------------\n",
        "# Load the popular Iris dataset directly from UCI repository\n",
        "iris_url = \"https://archive.ics.uci.edu/ml/machine-learning-databases/iris/iris.data\"\n",
        "column_names = [\"sepal_length\", \"sepal_width\", \"petal_length\", \"petal_width\", \"species\"]\n",
        "\n",
        "# Fetch data from the URL\n",
        "response = requests.get(iris_url)\n",
        "response.raise_for_status()  # Raise HTTPError for bad responses (4xx or 5xx)\n",
        "iris_data = response.text\n",
        "\n",
        "# Create a file-like object from the data\n",
        "iris_file = io.StringIO(iris_data)\n",
        "\n",
        "# Load data using Spark's read.csv from the file-like object\n",
        "iris_df = spark.read.csv(iris_file, header=False, inferSchema=True)\n",
        "iris_df = iris_df.toDF(*column_names)\n",
        "\n",
        "# Show the dataset\n",
        "print(\"Iris Dataset:\")\n",
        "iris_df.show(5)\n",
        "print(\"Schema:\")\n",
        "iris_df.printSchema()"
      ],
      "cell_type": "code",
      "metadata": {
        "colab": {
          "base_uri": "https://localhost:8080/",
          "height": 994
        },
        "id": "j1PJQQ3rF78n",
        "outputId": "90d6340a-feda-41a6-b61f-099e1671cbbe"
      },
      "execution_count": 3,
      "outputs": [
        {
          "output_type": "error",
          "ename": "PySparkTypeError",
          "evalue": "[NOT_STR_OR_LIST_OF_RDD] Argument `path` should be a str or list[RDD], got StringIO.",
          "traceback": [
            "\u001b[0;31m---------------------------------------------------------------------------\u001b[0m",
            "\u001b[0;31mPySparkTypeError\u001b[0m                          Traceback (most recent call last)",
            "\u001b[0;32m<ipython-input-3-346d39b0216c>\u001b[0m in \u001b[0;36m<cell line: 0>\u001b[0;34m()\u001b[0m\n\u001b[1;32m     17\u001b[0m \u001b[0;34m\u001b[0m\u001b[0m\n\u001b[1;32m     18\u001b[0m \u001b[0;31m# Load data using Spark's read.csv from the file-like object\u001b[0m\u001b[0;34m\u001b[0m\u001b[0;34m\u001b[0m\u001b[0m\n\u001b[0;32m---> 19\u001b[0;31m \u001b[0miris_df\u001b[0m \u001b[0;34m=\u001b[0m \u001b[0mspark\u001b[0m\u001b[0;34m.\u001b[0m\u001b[0mread\u001b[0m\u001b[0;34m.\u001b[0m\u001b[0mcsv\u001b[0m\u001b[0;34m(\u001b[0m\u001b[0miris_file\u001b[0m\u001b[0;34m,\u001b[0m \u001b[0mheader\u001b[0m\u001b[0;34m=\u001b[0m\u001b[0;32mFalse\u001b[0m\u001b[0;34m,\u001b[0m \u001b[0minferSchema\u001b[0m\u001b[0;34m=\u001b[0m\u001b[0;32mTrue\u001b[0m\u001b[0;34m)\u001b[0m\u001b[0;34m\u001b[0m\u001b[0;34m\u001b[0m\u001b[0m\n\u001b[0m\u001b[1;32m     20\u001b[0m \u001b[0miris_df\u001b[0m \u001b[0;34m=\u001b[0m \u001b[0miris_df\u001b[0m\u001b[0;34m.\u001b[0m\u001b[0mtoDF\u001b[0m\u001b[0;34m(\u001b[0m\u001b[0;34m*\u001b[0m\u001b[0mcolumn_names\u001b[0m\u001b[0;34m)\u001b[0m\u001b[0;34m\u001b[0m\u001b[0;34m\u001b[0m\u001b[0m\n\u001b[1;32m     21\u001b[0m \u001b[0;34m\u001b[0m\u001b[0m\n",
            "\u001b[0;32m/usr/local/lib/python3.11/dist-packages/pyspark/sql/readwriter.py\u001b[0m in \u001b[0;36mcsv\u001b[0;34m(self, path, schema, sep, encoding, quote, escape, comment, header, inferSchema, ignoreLeadingWhiteSpace, ignoreTrailingWhiteSpace, nullValue, nanValue, positiveInf, negativeInf, dateFormat, timestampFormat, maxColumns, maxCharsPerColumn, maxMalformedLogPerPartition, mode, columnNameOfCorruptRecord, multiLine, charToEscapeQuoteEscaping, samplingRatio, enforceSchema, emptyValue, locale, lineSep, pathGlobFilter, recursiveFileLookup, modifiedBefore, modifiedAfter, unescapedQuoteHandling)\u001b[0m\n\u001b[1;32m    761\u001b[0m             \u001b[0;32mreturn\u001b[0m \u001b[0mself\u001b[0m\u001b[0;34m.\u001b[0m\u001b[0m_df\u001b[0m\u001b[0;34m(\u001b[0m\u001b[0mself\u001b[0m\u001b[0;34m.\u001b[0m\u001b[0m_jreader\u001b[0m\u001b[0;34m.\u001b[0m\u001b[0mcsv\u001b[0m\u001b[0;34m(\u001b[0m\u001b[0mjdataset\u001b[0m\u001b[0;34m)\u001b[0m\u001b[0;34m)\u001b[0m\u001b[0;34m\u001b[0m\u001b[0;34m\u001b[0m\u001b[0m\n\u001b[1;32m    762\u001b[0m         \u001b[0;32melse\u001b[0m\u001b[0;34m:\u001b[0m\u001b[0;34m\u001b[0m\u001b[0;34m\u001b[0m\u001b[0m\n\u001b[0;32m--> 763\u001b[0;31m             raise PySparkTypeError(\n\u001b[0m\u001b[1;32m    764\u001b[0m                 \u001b[0merror_class\u001b[0m\u001b[0;34m=\u001b[0m\u001b[0;34m\"NOT_STR_OR_LIST_OF_RDD\"\u001b[0m\u001b[0;34m,\u001b[0m\u001b[0;34m\u001b[0m\u001b[0;34m\u001b[0m\u001b[0m\n\u001b[1;32m    765\u001b[0m                 message_parameters={\n",
            "\u001b[0;31mPySparkTypeError\u001b[0m: [NOT_STR_OR_LIST_OF_RDD] Argument `path` should be a str or list[RDD], got StringIO."
          ]
        }
      ]
    },
    {
      "source": [
        "import requests\n",
        "import io\n",
        "\n",
        "# Cell 2: Load Dataset - Classification Example with Iris dataset\n",
        "# --------------------------------------------------------------\n",
        "# Load the popular Iris dataset directly from UCI repository\n",
        "iris_url = \"https://archive.ics.uci.edu/ml/machine-learning-databases/iris/iris.data\"\n",
        "column_names = [\"sepal_length\", \"sepal_width\", \"petal_length\", \"petal_width\", \"species\"]\n",
        "\n",
        "# Fetch data from the URL\n",
        "response = requests.get(iris_url)\n",
        "response.raise_for_status()  # Raise HTTPError for bad responses (4xx or 5xx)\n",
        "iris_data = response.text\n",
        "\n",
        "# Create a temporary file to store the data\n",
        "import tempfile\n",
        "with tempfile.NamedTemporaryFile(mode='w', delete=False) as temp_file:\n",
        "    temp_file.write(iris_data)\n",
        "    temp_file_path = temp_file.name\n",
        "\n",
        "# Load data using Spark's read.csv from the temporary file path\n",
        "iris_df = spark.read.csv(temp_file_path, header=False, inferSchema=True)\n",
        "iris_df = iris_df.toDF(*column_names)\n",
        "\n",
        "# Show the dataset\n",
        "print(\"Iris Dataset:\")\n",
        "iris_df.show(5)\n",
        "print(\"Schema:\")\n",
        "iris_df.printSchema()"
      ],
      "cell_type": "code",
      "metadata": {
        "colab": {
          "base_uri": "https://localhost:8080/"
        },
        "id": "qx1CRfMCGQWu",
        "outputId": "2120e1dc-5d0a-4645-84c0-b50bb91b1b2e"
      },
      "execution_count": 4,
      "outputs": [
        {
          "output_type": "stream",
          "name": "stdout",
          "text": [
            "Iris Dataset:\n",
            "+------------+-----------+------------+-----------+-----------+\n",
            "|sepal_length|sepal_width|petal_length|petal_width|    species|\n",
            "+------------+-----------+------------+-----------+-----------+\n",
            "|         5.1|        3.5|         1.4|        0.2|Iris-setosa|\n",
            "|         4.9|        3.0|         1.4|        0.2|Iris-setosa|\n",
            "|         4.7|        3.2|         1.3|        0.2|Iris-setosa|\n",
            "|         4.6|        3.1|         1.5|        0.2|Iris-setosa|\n",
            "|         5.0|        3.6|         1.4|        0.2|Iris-setosa|\n",
            "+------------+-----------+------------+-----------+-----------+\n",
            "only showing top 5 rows\n",
            "\n",
            "Schema:\n",
            "root\n",
            " |-- sepal_length: double (nullable = true)\n",
            " |-- sepal_width: double (nullable = true)\n",
            " |-- petal_length: double (nullable = true)\n",
            " |-- petal_width: double (nullable = true)\n",
            " |-- species: string (nullable = true)\n",
            "\n"
          ]
        }
      ]
    },
    {
      "cell_type": "code",
      "source": [
        "# Cell 3: Exploratory Data Analysis (EDA)\n",
        "# ---------------------------------------\n",
        "# Convert to Pandas for visualization\n",
        "iris_pd = iris_df.toPandas()\n",
        "\n",
        "# Display summary statistics\n",
        "print(\"Summary Statistics:\")\n",
        "iris_df.describe().show()\n",
        "\n",
        "# Count classes\n",
        "print(\"Class Distribution:\")\n",
        "iris_df.groupBy(\"species\").count().show()\n",
        "\n",
        "# Sample visualization (run in local mode)\n",
        "def visualize_iris():\n",
        "    # Create a pairplot\n",
        "    sns.pairplot(iris_pd, hue=\"species\", height=2.5)\n",
        "    plt.title(\"Iris Dataset Pairplot\")\n",
        "    plt.tight_layout()\n",
        "    plt.show()\n",
        "\n",
        "    # Feature distributions by class\n",
        "    fig, axes = plt.subplots(2, 2, figsize=(12, 10))\n",
        "    features = [\"sepal_length\", \"sepal_width\", \"petal_length\", \"petal_width\"]\n",
        "\n",
        "    for i, feature in enumerate(features):\n",
        "        row, col = i // 2, i % 2\n",
        "        sns.boxplot(x=\"species\", y=feature, data=iris_pd, ax=axes[row, col])\n",
        "        axes[row, col].set_title(f\"{feature} by Species\")\n",
        "\n",
        "    plt.tight_layout()\n",
        "    plt.show()\n",
        "\n",
        "# Call the visualization function (comment out when running on cluster)\n",
        "# visualize_iris()"
      ],
      "metadata": {
        "colab": {
          "base_uri": "https://localhost:8080/"
        },
        "id": "S0IrAJT5FjqN",
        "outputId": "d85b65a9-ff91-40b1-ce90-0b592cb6e385"
      },
      "execution_count": 5,
      "outputs": [
        {
          "output_type": "stream",
          "name": "stdout",
          "text": [
            "Summary Statistics:\n",
            "+-------+------------------+-------------------+------------------+------------------+--------------+\n",
            "|summary|      sepal_length|        sepal_width|      petal_length|       petal_width|       species|\n",
            "+-------+------------------+-------------------+------------------+------------------+--------------+\n",
            "|  count|               150|                150|               150|               150|           150|\n",
            "|   mean| 5.843333333333335| 3.0540000000000007|3.7586666666666693|1.1986666666666672|          NULL|\n",
            "| stddev|0.8280661279778637|0.43359431136217375| 1.764420419952262|0.7631607417008414|          NULL|\n",
            "|    min|               4.3|                2.0|               1.0|               0.1|   Iris-setosa|\n",
            "|    max|               7.9|                4.4|               6.9|               2.5|Iris-virginica|\n",
            "+-------+------------------+-------------------+------------------+------------------+--------------+\n",
            "\n",
            "Class Distribution:\n",
            "+---------------+-----+\n",
            "|        species|count|\n",
            "+---------------+-----+\n",
            "| Iris-virginica|   50|\n",
            "|    Iris-setosa|   50|\n",
            "|Iris-versicolor|   50|\n",
            "+---------------+-----+\n",
            "\n"
          ]
        }
      ]
    },
    {
      "cell_type": "code",
      "source": [
        "# Cell 4: Data Preprocessing Pipeline\n",
        "# -----------------------------------\n",
        "# Create a feature processing pipeline for the Iris dataset\n",
        "\n",
        "# 1. Convert string labels to indices\n",
        "label_indexer = StringIndexer(inputCol=\"species\", outputCol=\"label\", handleInvalid=\"keep\")\n",
        "\n",
        "# 2. Combine features into a vector\n",
        "feature_cols = [\"sepal_length\", \"sepal_width\", \"petal_length\", \"petal_width\"]\n",
        "assembler = VectorAssembler(inputCols=feature_cols, outputCol=\"features_raw\")\n",
        "\n",
        "# 3. Standardize features\n",
        "scaler = StandardScaler(inputCol=\"features_raw\", outputCol=\"features\", withStd=True, withMean=True)\n",
        "\n",
        "# Create the preprocessing pipeline\n",
        "preprocessing_pipeline = Pipeline(stages=[label_indexer, assembler, scaler])\n",
        "\n",
        "# Fit the pipeline to the data\n",
        "preprocessing_model = preprocessing_pipeline.fit(iris_df)\n",
        "processed_data = preprocessing_model.transform(iris_df)\n",
        "\n",
        "# Show the processed data\n",
        "print(\"Processed Data:\")\n",
        "processed_data.select(\"features\", \"label\", \"species\").show(5)"
      ],
      "metadata": {
        "colab": {
          "base_uri": "https://localhost:8080/"
        },
        "id": "TlzBUgQzFj1F",
        "outputId": "18071a37-8941-47df-a2c6-f78ae5b9b8aa"
      },
      "execution_count": 6,
      "outputs": [
        {
          "output_type": "stream",
          "name": "stdout",
          "text": [
            "Processed Data:\n",
            "+--------------------+-----+-----------+\n",
            "|            features|label|    species|\n",
            "+--------------------+-----+-----------+\n",
            "|[-0.8976738791967...|  0.0|Iris-setosa|\n",
            "|[-1.1392004834649...|  0.0|Iris-setosa|\n",
            "|[-1.3807270877331...|  0.0|Iris-setosa|\n",
            "|[-1.5014903898672...|  0.0|Iris-setosa|\n",
            "|[-1.0184371813308...|  0.0|Iris-setosa|\n",
            "+--------------------+-----+-----------+\n",
            "only showing top 5 rows\n",
            "\n"
          ]
        }
      ]
    },
    {
      "cell_type": "code",
      "source": [
        "# Cell 5: Train-Test Split\n",
        "# ------------------------\n",
        "# Split the data into training and test sets\n",
        "(train_data, test_data) = processed_data.randomSplit([0.8, 0.2], seed=42)\n",
        "\n",
        "print(f\"Training Data Count: {train_data.count()}\")\n",
        "print(f\"Test Data Count: {test_data.count()}\")"
      ],
      "metadata": {
        "colab": {
          "base_uri": "https://localhost:8080/"
        },
        "id": "tvLYSt4sGtYu",
        "outputId": "17f609b2-cad6-4b79-9f49-41be8feac9a7"
      },
      "execution_count": 7,
      "outputs": [
        {
          "output_type": "stream",
          "name": "stdout",
          "text": [
            "Training Data Count: 126\n",
            "Test Data Count: 24\n"
          ]
        }
      ]
    },
    {
      "cell_type": "code",
      "source": [
        "# Cell 6: Classification Models\n",
        "# ----------------------------\n",
        "# 1. Logistic Regression\n",
        "lr = LogisticRegression(featuresCol=\"features\", labelCol=\"label\", maxIter=10, regParam=0.1)\n",
        "lr_model = lr.fit(train_data)\n",
        "\n",
        "# Evaluate the model\n",
        "lr_predictions = lr_model.transform(test_data)\n",
        "lr_predictions.select(\"label\", \"prediction\", \"species\").show(10)\n",
        "\n",
        "# Calculate evaluation metrics\n",
        "evaluator = MulticlassClassificationEvaluator(\n",
        "    labelCol=\"label\",\n",
        "    predictionCol=\"prediction\",\n",
        "    metricName=\"accuracy\")\n",
        "\n",
        "lr_accuracy = evaluator.evaluate(lr_predictions)\n",
        "print(f\"Logistic Regression Accuracy: {lr_accuracy:.4f}\")\n",
        "\n",
        "# Display the model coefficients and intercept\n",
        "print(\"Coefficients: \")\n",
        "for i, coef in enumerate(lr_model.coefficientMatrix.toArray()):\n",
        "    print(f\"Class {i}: {coef}\")\n",
        "print(f\"Intercepts: {lr_model.interceptVector}\")\n",
        "\n",
        "# 2. Random Forest Classifier\n",
        "rf = RandomForestClassifier(\n",
        "    featuresCol=\"features\",\n",
        "    labelCol=\"label\",\n",
        "    numTrees=10,\n",
        "    maxDepth=5,\n",
        "    seed=42)\n",
        "\n",
        "rf_model = rf.fit(train_data)\n",
        "rf_predictions = rf_model.transform(test_data)\n",
        "\n",
        "rf_accuracy = evaluator.evaluate(rf_predictions)\n",
        "print(f\"Random Forest Accuracy: {rf_accuracy:.4f}\")\n",
        "\n",
        "# Feature importance\n",
        "rf_importance = rf_model.featureImportances\n",
        "for i, importance in enumerate(rf_importance):\n",
        "    print(f\"Feature {feature_cols[i]}: {importance:.4f}\")\n",
        "\n",
        "# 3. Gradient-Boosted Tree Classifier\n",
        "gbt = GBTClassifier(\n",
        "    featuresCol=\"features\",\n",
        "    labelCol=\"label\",\n",
        "    maxIter=10,\n",
        "    maxDepth=5,\n",
        "    seed=42)\n",
        "\n",
        "gbt_model = gbt.fit(train_data)\n",
        "gbt_predictions = gbt_model.transform(test_data)\n",
        "\n",
        "gbt_accuracy = evaluator.evaluate(gbt_predictions)\n",
        "print(f\"GBT Classifier Accuracy: {gbt_accuracy:.4f}\")"
      ],
      "metadata": {
        "colab": {
          "base_uri": "https://localhost:8080/",
          "height": 1000
        },
        "id": "Vy1Mh6-PGtky",
        "outputId": "4bd09e77-d4b1-4421-e392-dc044ae55907"
      },
      "execution_count": 8,
      "outputs": [
        {
          "output_type": "stream",
          "name": "stdout",
          "text": [
            "+-----+----------+---------------+\n",
            "|label|prediction|        species|\n",
            "+-----+----------+---------------+\n",
            "|  0.0|       0.0|    Iris-setosa|\n",
            "|  0.0|       0.0|    Iris-setosa|\n",
            "|  0.0|       0.0|    Iris-setosa|\n",
            "|  0.0|       0.0|    Iris-setosa|\n",
            "|  0.0|       0.0|    Iris-setosa|\n",
            "|  1.0|       1.0|Iris-versicolor|\n",
            "|  0.0|       0.0|    Iris-setosa|\n",
            "|  0.0|       0.0|    Iris-setosa|\n",
            "|  0.0|       0.0|    Iris-setosa|\n",
            "|  1.0|       1.0|Iris-versicolor|\n",
            "+-----+----------+---------------+\n",
            "only showing top 10 rows\n",
            "\n",
            "Logistic Regression Accuracy: 1.0000\n",
            "Coefficients: \n",
            "Class 0: [-0.46945241  0.43463717 -0.70657548 -0.65697507]\n",
            "Class 1: [ 0.13384701 -0.35907134  0.08185295 -0.158005  ]\n",
            "Class 2: [ 0.33835446 -0.08785433  0.6325168   0.8223808 ]\n",
            "Class 3: [-0.00274906  0.0122885  -0.00779426 -0.00740073]\n",
            "Intercepts: [0.9366283321158813,1.823937659162212,0.9329839149049904,-3.693549906183084]\n",
            "Random Forest Accuracy: 0.9583\n",
            "Feature sepal_length: 0.0545\n",
            "Feature sepal_width: 0.0157\n",
            "Feature petal_length: 0.3342\n",
            "Feature petal_width: 0.5956\n"
          ]
        },
        {
          "output_type": "error",
          "ename": "Py4JJavaError",
          "evalue": "An error occurred while calling o545.fit.\n: org.apache.spark.SparkException: Job aborted due to stage failure: Task 0 in stage 55.0 failed 1 times, most recent failure: Lost task 0.0 in stage 55.0 (TID 49) (d26f916083fa executor driver): java.lang.RuntimeException: Labels MUST be in {0, 1}, but got 2.0\n\tat org.apache.spark.sql.catalyst.expressions.GeneratedClass$GeneratedIteratorForCodegenStage1.project_doConsume_0$(Unknown Source)\n\tat org.apache.spark.sql.catalyst.expressions.GeneratedClass$GeneratedIteratorForCodegenStage1.processNext(Unknown Source)\n\tat org.apache.spark.sql.execution.BufferedRowIterator.hasNext(BufferedRowIterator.java:43)\n\tat org.apache.spark.sql.execution.WholeStageCodegenEvaluatorFactory$WholeStageCodegenPartitionEvaluator$$anon$1.hasNext(WholeStageCodegenEvaluatorFactory.scala:43)\n\tat scala.collection.Iterator$$anon$10.hasNext(Iterator.scala:460)\n\tat scala.collection.Iterator$$anon$10.hasNext(Iterator.scala:460)\n\tat scala.collection.Iterator$$anon$10.hasNext(Iterator.scala:460)\n\tat scala.collection.Iterator$$anon$10.hasNext(Iterator.scala:460)\n\tat scala.collection.Iterator.foreach(Iterator.scala:943)\n\tat scala.collection.Iterator.foreach$(Iterator.scala:943)\n\tat scala.collection.AbstractIterator.foreach(Iterator.scala:1431)\n\tat scala.collection.TraversableOnce.foldLeft(TraversableOnce.scala:199)\n\tat scala.collection.TraversableOnce.foldLeft$(TraversableOnce.scala:192)\n\tat scala.collection.AbstractIterator.foldLeft(Iterator.scala:1431)\n\tat scala.collection.TraversableOnce.aggregate(TraversableOnce.scala:260)\n\tat scala.collection.TraversableOnce.aggregate$(TraversableOnce.scala:260)\n\tat scala.collection.AbstractIterator.aggregate(Iterator.scala:1431)\n\tat org.apache.spark.rdd.RDD.$anonfun$aggregate$2(RDD.scala:1226)\n\tat org.apache.spark.SparkContext.$anonfun$runJob$6(SparkContext.scala:2487)\n\tat org.apache.spark.scheduler.ResultTask.runTask(ResultTask.scala:93)\n\tat org.apache.spark.TaskContext.runTaskWithListeners(TaskContext.scala:166)\n\tat org.apache.spark.scheduler.Task.run(Task.scala:141)\n\tat org.apache.spark.executor.Executor$TaskRunner.$anonfun$run$4(Executor.scala:620)\n\tat org.apache.spark.util.SparkErrorUtils.tryWithSafeFinally(SparkErrorUtils.scala:64)\n\tat org.apache.spark.util.SparkErrorUtils.tryWithSafeFinally$(SparkErrorUtils.scala:61)\n\tat org.apache.spark.util.Utils$.tryWithSafeFinally(Utils.scala:94)\n\tat org.apache.spark.executor.Executor$TaskRunner.run(Executor.scala:623)\n\tat java.base/java.util.concurrent.ThreadPoolExecutor.runWorker(ThreadPoolExecutor.java:1128)\n\tat java.base/java.util.concurrent.ThreadPoolExecutor$Worker.run(ThreadPoolExecutor.java:628)\n\tat java.base/java.lang.Thread.run(Thread.java:829)\n\nDriver stacktrace:\n\tat org.apache.spark.scheduler.DAGScheduler.failJobAndIndependentStages(DAGScheduler.scala:2856)\n\tat org.apache.spark.scheduler.DAGScheduler.$anonfun$abortStage$2(DAGScheduler.scala:2792)\n\tat org.apache.spark.scheduler.DAGScheduler.$anonfun$abortStage$2$adapted(DAGScheduler.scala:2791)\n\tat scala.collection.mutable.ResizableArray.foreach(ResizableArray.scala:62)\n\tat scala.collection.mutable.ResizableArray.foreach$(ResizableArray.scala:55)\n\tat scala.collection.mutable.ArrayBuffer.foreach(ArrayBuffer.scala:49)\n\tat org.apache.spark.scheduler.DAGScheduler.abortStage(DAGScheduler.scala:2791)\n\tat org.apache.spark.scheduler.DAGScheduler.$anonfun$handleTaskSetFailed$1(DAGScheduler.scala:1247)\n\tat org.apache.spark.scheduler.DAGScheduler.$anonfun$handleTaskSetFailed$1$adapted(DAGScheduler.scala:1247)\n\tat scala.Option.foreach(Option.scala:407)\n\tat org.apache.spark.scheduler.DAGScheduler.handleTaskSetFailed(DAGScheduler.scala:1247)\n\tat org.apache.spark.scheduler.DAGSchedulerEventProcessLoop.doOnReceive(DAGScheduler.scala:3060)\n\tat org.apache.spark.scheduler.DAGSchedulerEventProcessLoop.onReceive(DAGScheduler.scala:2994)\n\tat org.apache.spark.scheduler.DAGSchedulerEventProcessLoop.onReceive(DAGScheduler.scala:2983)\n\tat org.apache.spark.util.EventLoop$$anon$1.run(EventLoop.scala:49)\n\tat org.apache.spark.scheduler.DAGScheduler.runJob(DAGScheduler.scala:989)\n\tat org.apache.spark.SparkContext.runJob(SparkContext.scala:2393)\n\tat org.apache.spark.SparkContext.runJob(SparkContext.scala:2488)\n\tat org.apache.spark.rdd.RDD.$anonfun$aggregate$1(RDD.scala:1228)\n\tat org.apache.spark.rdd.RDDOperationScope$.withScope(RDDOperationScope.scala:151)\n\tat org.apache.spark.rdd.RDDOperationScope$.withScope(RDDOperationScope.scala:112)\n\tat org.apache.spark.rdd.RDD.withScope(RDD.scala:410)\n\tat org.apache.spark.rdd.RDD.aggregate(RDD.scala:1221)\n\tat org.apache.spark.ml.tree.impl.DecisionTreeMetadata$.buildMetadata(DecisionTreeMetadata.scala:125)\n\tat org.apache.spark.ml.tree.impl.GradientBoostedTrees$.boost(GradientBoostedTrees.scala:333)\n\tat org.apache.spark.ml.tree.impl.GradientBoostedTrees$.run(GradientBoostedTrees.scala:61)\n\tat org.apache.spark.ml.classification.GBTClassifier.$anonfun$train$1(GBTClassifier.scala:201)\n\tat org.apache.spark.ml.util.Instrumentation$.$anonfun$instrumented$1(Instrumentation.scala:191)\n\tat scala.util.Try$.apply(Try.scala:213)\n\tat org.apache.spark.ml.util.Instrumentation$.instrumented(Instrumentation.scala:191)\n\tat org.apache.spark.ml.classification.GBTClassifier.train(GBTClassifier.scala:170)\n\tat org.apache.spark.ml.classification.GBTClassifier.train(GBTClassifier.scala:58)\n\tat org.apache.spark.ml.Predictor.fit(Predictor.scala:114)\n\tat java.base/jdk.internal.reflect.NativeMethodAccessorImpl.invoke0(Native Method)\n\tat java.base/jdk.internal.reflect.NativeMethodAccessorImpl.invoke(NativeMethodAccessorImpl.java:62)\n\tat java.base/jdk.internal.reflect.DelegatingMethodAccessorImpl.invoke(DelegatingMethodAccessorImpl.java:43)\n\tat java.base/java.lang.reflect.Method.invoke(Method.java:566)\n\tat py4j.reflection.MethodInvoker.invoke(MethodInvoker.java:244)\n\tat py4j.reflection.ReflectionEngine.invoke(ReflectionEngine.java:374)\n\tat py4j.Gateway.invoke(Gateway.java:282)\n\tat py4j.commands.AbstractCommand.invokeMethod(AbstractCommand.java:132)\n\tat py4j.commands.CallCommand.execute(CallCommand.java:79)\n\tat py4j.ClientServerConnection.waitForCommands(ClientServerConnection.java:182)\n\tat py4j.ClientServerConnection.run(ClientServerConnection.java:106)\n\tat java.base/java.lang.Thread.run(Thread.java:829)\nCaused by: java.lang.RuntimeException: Labels MUST be in {0, 1}, but got 2.0\n\tat org.apache.spark.sql.catalyst.expressions.GeneratedClass$GeneratedIteratorForCodegenStage1.project_doConsume_0$(Unknown Source)\n\tat org.apache.spark.sql.catalyst.expressions.GeneratedClass$GeneratedIteratorForCodegenStage1.processNext(Unknown Source)\n\tat org.apache.spark.sql.execution.BufferedRowIterator.hasNext(BufferedRowIterator.java:43)\n\tat org.apache.spark.sql.execution.WholeStageCodegenEvaluatorFactory$WholeStageCodegenPartitionEvaluator$$anon$1.hasNext(WholeStageCodegenEvaluatorFactory.scala:43)\n\tat scala.collection.Iterator$$anon$10.hasNext(Iterator.scala:460)\n\tat scala.collection.Iterator$$anon$10.hasNext(Iterator.scala:460)\n\tat scala.collection.Iterator$$anon$10.hasNext(Iterator.scala:460)\n\tat scala.collection.Iterator$$anon$10.hasNext(Iterator.scala:460)\n\tat scala.collection.Iterator.foreach(Iterator.scala:943)\n\tat scala.collection.Iterator.foreach$(Iterator.scala:943)\n\tat scala.collection.AbstractIterator.foreach(Iterator.scala:1431)\n\tat scala.collection.TraversableOnce.foldLeft(TraversableOnce.scala:199)\n\tat scala.collection.TraversableOnce.foldLeft$(TraversableOnce.scala:192)\n\tat scala.collection.AbstractIterator.foldLeft(Iterator.scala:1431)\n\tat scala.collection.TraversableOnce.aggregate(TraversableOnce.scala:260)\n\tat scala.collection.TraversableOnce.aggregate$(TraversableOnce.scala:260)\n\tat scala.collection.AbstractIterator.aggregate(Iterator.scala:1431)\n\tat org.apache.spark.rdd.RDD.$anonfun$aggregate$2(RDD.scala:1226)\n\tat org.apache.spark.SparkContext.$anonfun$runJob$6(SparkContext.scala:2487)\n\tat org.apache.spark.scheduler.ResultTask.runTask(ResultTask.scala:93)\n\tat org.apache.spark.TaskContext.runTaskWithListeners(TaskContext.scala:166)\n\tat org.apache.spark.scheduler.Task.run(Task.scala:141)\n\tat org.apache.spark.executor.Executor$TaskRunner.$anonfun$run$4(Executor.scala:620)\n\tat org.apache.spark.util.SparkErrorUtils.tryWithSafeFinally(SparkErrorUtils.scala:64)\n\tat org.apache.spark.util.SparkErrorUtils.tryWithSafeFinally$(SparkErrorUtils.scala:61)\n\tat org.apache.spark.util.Utils$.tryWithSafeFinally(Utils.scala:94)\n\tat org.apache.spark.executor.Executor$TaskRunner.run(Executor.scala:623)\n\tat java.base/java.util.concurrent.ThreadPoolExecutor.runWorker(ThreadPoolExecutor.java:1128)\n\tat java.base/java.util.concurrent.ThreadPoolExecutor$Worker.run(ThreadPoolExecutor.java:628)\n\t... 1 more\n",
          "traceback": [
            "\u001b[0;31m---------------------------------------------------------------------------\u001b[0m",
            "\u001b[0;31mPy4JJavaError\u001b[0m                             Traceback (most recent call last)",
            "\u001b[0;32m<ipython-input-8-291f86b1d69b>\u001b[0m in \u001b[0;36m<cell line: 0>\u001b[0;34m()\u001b[0m\n\u001b[1;32m     51\u001b[0m     seed=42)\n\u001b[1;32m     52\u001b[0m \u001b[0;34m\u001b[0m\u001b[0m\n\u001b[0;32m---> 53\u001b[0;31m \u001b[0mgbt_model\u001b[0m \u001b[0;34m=\u001b[0m \u001b[0mgbt\u001b[0m\u001b[0;34m.\u001b[0m\u001b[0mfit\u001b[0m\u001b[0;34m(\u001b[0m\u001b[0mtrain_data\u001b[0m\u001b[0;34m)\u001b[0m\u001b[0;34m\u001b[0m\u001b[0;34m\u001b[0m\u001b[0m\n\u001b[0m\u001b[1;32m     54\u001b[0m \u001b[0mgbt_predictions\u001b[0m \u001b[0;34m=\u001b[0m \u001b[0mgbt_model\u001b[0m\u001b[0;34m.\u001b[0m\u001b[0mtransform\u001b[0m\u001b[0;34m(\u001b[0m\u001b[0mtest_data\u001b[0m\u001b[0;34m)\u001b[0m\u001b[0;34m\u001b[0m\u001b[0;34m\u001b[0m\u001b[0m\n\u001b[1;32m     55\u001b[0m \u001b[0;34m\u001b[0m\u001b[0m\n",
            "\u001b[0;32m/usr/local/lib/python3.11/dist-packages/pyspark/ml/base.py\u001b[0m in \u001b[0;36mfit\u001b[0;34m(self, dataset, params)\u001b[0m\n\u001b[1;32m    203\u001b[0m                 \u001b[0;32mreturn\u001b[0m \u001b[0mself\u001b[0m\u001b[0;34m.\u001b[0m\u001b[0mcopy\u001b[0m\u001b[0;34m(\u001b[0m\u001b[0mparams\u001b[0m\u001b[0;34m)\u001b[0m\u001b[0;34m.\u001b[0m\u001b[0m_fit\u001b[0m\u001b[0;34m(\u001b[0m\u001b[0mdataset\u001b[0m\u001b[0;34m)\u001b[0m\u001b[0;34m\u001b[0m\u001b[0;34m\u001b[0m\u001b[0m\n\u001b[1;32m    204\u001b[0m             \u001b[0;32melse\u001b[0m\u001b[0;34m:\u001b[0m\u001b[0;34m\u001b[0m\u001b[0;34m\u001b[0m\u001b[0m\n\u001b[0;32m--> 205\u001b[0;31m                 \u001b[0;32mreturn\u001b[0m \u001b[0mself\u001b[0m\u001b[0;34m.\u001b[0m\u001b[0m_fit\u001b[0m\u001b[0;34m(\u001b[0m\u001b[0mdataset\u001b[0m\u001b[0;34m)\u001b[0m\u001b[0;34m\u001b[0m\u001b[0;34m\u001b[0m\u001b[0m\n\u001b[0m\u001b[1;32m    206\u001b[0m         \u001b[0;32melse\u001b[0m\u001b[0;34m:\u001b[0m\u001b[0;34m\u001b[0m\u001b[0;34m\u001b[0m\u001b[0m\n\u001b[1;32m    207\u001b[0m             raise TypeError(\n",
            "\u001b[0;32m/usr/local/lib/python3.11/dist-packages/pyspark/ml/wrapper.py\u001b[0m in \u001b[0;36m_fit\u001b[0;34m(self, dataset)\u001b[0m\n\u001b[1;32m    379\u001b[0m \u001b[0;34m\u001b[0m\u001b[0m\n\u001b[1;32m    380\u001b[0m     \u001b[0;32mdef\u001b[0m \u001b[0m_fit\u001b[0m\u001b[0;34m(\u001b[0m\u001b[0mself\u001b[0m\u001b[0;34m,\u001b[0m \u001b[0mdataset\u001b[0m\u001b[0;34m:\u001b[0m \u001b[0mDataFrame\u001b[0m\u001b[0;34m)\u001b[0m \u001b[0;34m->\u001b[0m \u001b[0mJM\u001b[0m\u001b[0;34m:\u001b[0m\u001b[0;34m\u001b[0m\u001b[0;34m\u001b[0m\u001b[0m\n\u001b[0;32m--> 381\u001b[0;31m         \u001b[0mjava_model\u001b[0m \u001b[0;34m=\u001b[0m \u001b[0mself\u001b[0m\u001b[0;34m.\u001b[0m\u001b[0m_fit_java\u001b[0m\u001b[0;34m(\u001b[0m\u001b[0mdataset\u001b[0m\u001b[0;34m)\u001b[0m\u001b[0;34m\u001b[0m\u001b[0;34m\u001b[0m\u001b[0m\n\u001b[0m\u001b[1;32m    382\u001b[0m         \u001b[0mmodel\u001b[0m \u001b[0;34m=\u001b[0m \u001b[0mself\u001b[0m\u001b[0;34m.\u001b[0m\u001b[0m_create_model\u001b[0m\u001b[0;34m(\u001b[0m\u001b[0mjava_model\u001b[0m\u001b[0;34m)\u001b[0m\u001b[0;34m\u001b[0m\u001b[0;34m\u001b[0m\u001b[0m\n\u001b[1;32m    383\u001b[0m         \u001b[0;32mreturn\u001b[0m \u001b[0mself\u001b[0m\u001b[0;34m.\u001b[0m\u001b[0m_copyValues\u001b[0m\u001b[0;34m(\u001b[0m\u001b[0mmodel\u001b[0m\u001b[0;34m)\u001b[0m\u001b[0;34m\u001b[0m\u001b[0;34m\u001b[0m\u001b[0m\n",
            "\u001b[0;32m/usr/local/lib/python3.11/dist-packages/pyspark/ml/wrapper.py\u001b[0m in \u001b[0;36m_fit_java\u001b[0;34m(self, dataset)\u001b[0m\n\u001b[1;32m    376\u001b[0m \u001b[0;34m\u001b[0m\u001b[0m\n\u001b[1;32m    377\u001b[0m         \u001b[0mself\u001b[0m\u001b[0;34m.\u001b[0m\u001b[0m_transfer_params_to_java\u001b[0m\u001b[0;34m(\u001b[0m\u001b[0;34m)\u001b[0m\u001b[0;34m\u001b[0m\u001b[0;34m\u001b[0m\u001b[0m\n\u001b[0;32m--> 378\u001b[0;31m         \u001b[0;32mreturn\u001b[0m \u001b[0mself\u001b[0m\u001b[0;34m.\u001b[0m\u001b[0m_java_obj\u001b[0m\u001b[0;34m.\u001b[0m\u001b[0mfit\u001b[0m\u001b[0;34m(\u001b[0m\u001b[0mdataset\u001b[0m\u001b[0;34m.\u001b[0m\u001b[0m_jdf\u001b[0m\u001b[0;34m)\u001b[0m\u001b[0;34m\u001b[0m\u001b[0;34m\u001b[0m\u001b[0m\n\u001b[0m\u001b[1;32m    379\u001b[0m \u001b[0;34m\u001b[0m\u001b[0m\n\u001b[1;32m    380\u001b[0m     \u001b[0;32mdef\u001b[0m \u001b[0m_fit\u001b[0m\u001b[0;34m(\u001b[0m\u001b[0mself\u001b[0m\u001b[0;34m,\u001b[0m \u001b[0mdataset\u001b[0m\u001b[0;34m:\u001b[0m \u001b[0mDataFrame\u001b[0m\u001b[0;34m)\u001b[0m \u001b[0;34m->\u001b[0m \u001b[0mJM\u001b[0m\u001b[0;34m:\u001b[0m\u001b[0;34m\u001b[0m\u001b[0;34m\u001b[0m\u001b[0m\n",
            "\u001b[0;32m/usr/local/lib/python3.11/dist-packages/py4j/java_gateway.py\u001b[0m in \u001b[0;36m__call__\u001b[0;34m(self, *args)\u001b[0m\n\u001b[1;32m   1320\u001b[0m \u001b[0;34m\u001b[0m\u001b[0m\n\u001b[1;32m   1321\u001b[0m         \u001b[0manswer\u001b[0m \u001b[0;34m=\u001b[0m \u001b[0mself\u001b[0m\u001b[0;34m.\u001b[0m\u001b[0mgateway_client\u001b[0m\u001b[0;34m.\u001b[0m\u001b[0msend_command\u001b[0m\u001b[0;34m(\u001b[0m\u001b[0mcommand\u001b[0m\u001b[0;34m)\u001b[0m\u001b[0;34m\u001b[0m\u001b[0;34m\u001b[0m\u001b[0m\n\u001b[0;32m-> 1322\u001b[0;31m         return_value = get_return_value(\n\u001b[0m\u001b[1;32m   1323\u001b[0m             answer, self.gateway_client, self.target_id, self.name)\n\u001b[1;32m   1324\u001b[0m \u001b[0;34m\u001b[0m\u001b[0m\n",
            "\u001b[0;32m/usr/local/lib/python3.11/dist-packages/pyspark/errors/exceptions/captured.py\u001b[0m in \u001b[0;36mdeco\u001b[0;34m(*a, **kw)\u001b[0m\n\u001b[1;32m    177\u001b[0m     \u001b[0;32mdef\u001b[0m \u001b[0mdeco\u001b[0m\u001b[0;34m(\u001b[0m\u001b[0;34m*\u001b[0m\u001b[0ma\u001b[0m\u001b[0;34m:\u001b[0m \u001b[0mAny\u001b[0m\u001b[0;34m,\u001b[0m \u001b[0;34m**\u001b[0m\u001b[0mkw\u001b[0m\u001b[0;34m:\u001b[0m \u001b[0mAny\u001b[0m\u001b[0;34m)\u001b[0m \u001b[0;34m->\u001b[0m \u001b[0mAny\u001b[0m\u001b[0;34m:\u001b[0m\u001b[0;34m\u001b[0m\u001b[0;34m\u001b[0m\u001b[0m\n\u001b[1;32m    178\u001b[0m         \u001b[0;32mtry\u001b[0m\u001b[0;34m:\u001b[0m\u001b[0;34m\u001b[0m\u001b[0;34m\u001b[0m\u001b[0m\n\u001b[0;32m--> 179\u001b[0;31m             \u001b[0;32mreturn\u001b[0m \u001b[0mf\u001b[0m\u001b[0;34m(\u001b[0m\u001b[0;34m*\u001b[0m\u001b[0ma\u001b[0m\u001b[0;34m,\u001b[0m \u001b[0;34m**\u001b[0m\u001b[0mkw\u001b[0m\u001b[0;34m)\u001b[0m\u001b[0;34m\u001b[0m\u001b[0;34m\u001b[0m\u001b[0m\n\u001b[0m\u001b[1;32m    180\u001b[0m         \u001b[0;32mexcept\u001b[0m \u001b[0mPy4JJavaError\u001b[0m \u001b[0;32mas\u001b[0m \u001b[0me\u001b[0m\u001b[0;34m:\u001b[0m\u001b[0;34m\u001b[0m\u001b[0;34m\u001b[0m\u001b[0m\n\u001b[1;32m    181\u001b[0m             \u001b[0mconverted\u001b[0m \u001b[0;34m=\u001b[0m \u001b[0mconvert_exception\u001b[0m\u001b[0;34m(\u001b[0m\u001b[0me\u001b[0m\u001b[0;34m.\u001b[0m\u001b[0mjava_exception\u001b[0m\u001b[0;34m)\u001b[0m\u001b[0;34m\u001b[0m\u001b[0;34m\u001b[0m\u001b[0m\n",
            "\u001b[0;32m/usr/local/lib/python3.11/dist-packages/py4j/protocol.py\u001b[0m in \u001b[0;36mget_return_value\u001b[0;34m(answer, gateway_client, target_id, name)\u001b[0m\n\u001b[1;32m    324\u001b[0m             \u001b[0mvalue\u001b[0m \u001b[0;34m=\u001b[0m \u001b[0mOUTPUT_CONVERTER\u001b[0m\u001b[0;34m[\u001b[0m\u001b[0mtype\u001b[0m\u001b[0;34m]\u001b[0m\u001b[0;34m(\u001b[0m\u001b[0manswer\u001b[0m\u001b[0;34m[\u001b[0m\u001b[0;36m2\u001b[0m\u001b[0;34m:\u001b[0m\u001b[0;34m]\u001b[0m\u001b[0;34m,\u001b[0m \u001b[0mgateway_client\u001b[0m\u001b[0;34m)\u001b[0m\u001b[0;34m\u001b[0m\u001b[0;34m\u001b[0m\u001b[0m\n\u001b[1;32m    325\u001b[0m             \u001b[0;32mif\u001b[0m \u001b[0manswer\u001b[0m\u001b[0;34m[\u001b[0m\u001b[0;36m1\u001b[0m\u001b[0;34m]\u001b[0m \u001b[0;34m==\u001b[0m \u001b[0mREFERENCE_TYPE\u001b[0m\u001b[0;34m:\u001b[0m\u001b[0;34m\u001b[0m\u001b[0;34m\u001b[0m\u001b[0m\n\u001b[0;32m--> 326\u001b[0;31m                 raise Py4JJavaError(\n\u001b[0m\u001b[1;32m    327\u001b[0m                     \u001b[0;34m\"An error occurred while calling {0}{1}{2}.\\n\"\u001b[0m\u001b[0;34m.\u001b[0m\u001b[0;34m\u001b[0m\u001b[0;34m\u001b[0m\u001b[0m\n\u001b[1;32m    328\u001b[0m                     format(target_id, \".\", name), value)\n",
            "\u001b[0;31mPy4JJavaError\u001b[0m: An error occurred while calling o545.fit.\n: org.apache.spark.SparkException: Job aborted due to stage failure: Task 0 in stage 55.0 failed 1 times, most recent failure: Lost task 0.0 in stage 55.0 (TID 49) (d26f916083fa executor driver): java.lang.RuntimeException: Labels MUST be in {0, 1}, but got 2.0\n\tat org.apache.spark.sql.catalyst.expressions.GeneratedClass$GeneratedIteratorForCodegenStage1.project_doConsume_0$(Unknown Source)\n\tat org.apache.spark.sql.catalyst.expressions.GeneratedClass$GeneratedIteratorForCodegenStage1.processNext(Unknown Source)\n\tat org.apache.spark.sql.execution.BufferedRowIterator.hasNext(BufferedRowIterator.java:43)\n\tat org.apache.spark.sql.execution.WholeStageCodegenEvaluatorFactory$WholeStageCodegenPartitionEvaluator$$anon$1.hasNext(WholeStageCodegenEvaluatorFactory.scala:43)\n\tat scala.collection.Iterator$$anon$10.hasNext(Iterator.scala:460)\n\tat scala.collection.Iterator$$anon$10.hasNext(Iterator.scala:460)\n\tat scala.collection.Iterator$$anon$10.hasNext(Iterator.scala:460)\n\tat scala.collection.Iterator$$anon$10.hasNext(Iterator.scala:460)\n\tat scala.collection.Iterator.foreach(Iterator.scala:943)\n\tat scala.collection.Iterator.foreach$(Iterator.scala:943)\n\tat scala.collection.AbstractIterator.foreach(Iterator.scala:1431)\n\tat scala.collection.TraversableOnce.foldLeft(TraversableOnce.scala:199)\n\tat scala.collection.TraversableOnce.foldLeft$(TraversableOnce.scala:192)\n\tat scala.collection.AbstractIterator.foldLeft(Iterator.scala:1431)\n\tat scala.collection.TraversableOnce.aggregate(TraversableOnce.scala:260)\n\tat scala.collection.TraversableOnce.aggregate$(TraversableOnce.scala:260)\n\tat scala.collection.AbstractIterator.aggregate(Iterator.scala:1431)\n\tat org.apache.spark.rdd.RDD.$anonfun$aggregate$2(RDD.scala:1226)\n\tat org.apache.spark.SparkContext.$anonfun$runJob$6(SparkContext.scala:2487)\n\tat org.apache.spark.scheduler.ResultTask.runTask(ResultTask.scala:93)\n\tat org.apache.spark.TaskContext.runTaskWithListeners(TaskContext.scala:166)\n\tat org.apache.spark.scheduler.Task.run(Task.scala:141)\n\tat org.apache.spark.executor.Executor$TaskRunner.$anonfun$run$4(Executor.scala:620)\n\tat org.apache.spark.util.SparkErrorUtils.tryWithSafeFinally(SparkErrorUtils.scala:64)\n\tat org.apache.spark.util.SparkErrorUtils.tryWithSafeFinally$(SparkErrorUtils.scala:61)\n\tat org.apache.spark.util.Utils$.tryWithSafeFinally(Utils.scala:94)\n\tat org.apache.spark.executor.Executor$TaskRunner.run(Executor.scala:623)\n\tat java.base/java.util.concurrent.ThreadPoolExecutor.runWorker(ThreadPoolExecutor.java:1128)\n\tat java.base/java.util.concurrent.ThreadPoolExecutor$Worker.run(ThreadPoolExecutor.java:628)\n\tat java.base/java.lang.Thread.run(Thread.java:829)\n\nDriver stacktrace:\n\tat org.apache.spark.scheduler.DAGScheduler.failJobAndIndependentStages(DAGScheduler.scala:2856)\n\tat org.apache.spark.scheduler.DAGScheduler.$anonfun$abortStage$2(DAGScheduler.scala:2792)\n\tat org.apache.spark.scheduler.DAGScheduler.$anonfun$abortStage$2$adapted(DAGScheduler.scala:2791)\n\tat scala.collection.mutable.ResizableArray.foreach(ResizableArray.scala:62)\n\tat scala.collection.mutable.ResizableArray.foreach$(ResizableArray.scala:55)\n\tat scala.collection.mutable.ArrayBuffer.foreach(ArrayBuffer.scala:49)\n\tat org.apache.spark.scheduler.DAGScheduler.abortStage(DAGScheduler.scala:2791)\n\tat org.apache.spark.scheduler.DAGScheduler.$anonfun$handleTaskSetFailed$1(DAGScheduler.scala:1247)\n\tat org.apache.spark.scheduler.DAGScheduler.$anonfun$handleTaskSetFailed$1$adapted(DAGScheduler.scala:1247)\n\tat scala.Option.foreach(Option.scala:407)\n\tat org.apache.spark.scheduler.DAGScheduler.handleTaskSetFailed(DAGScheduler.scala:1247)\n\tat org.apache.spark.scheduler.DAGSchedulerEventProcessLoop.doOnReceive(DAGScheduler.scala:3060)\n\tat org.apache.spark.scheduler.DAGSchedulerEventProcessLoop.onReceive(DAGScheduler.scala:2994)\n\tat org.apache.spark.scheduler.DAGSchedulerEventProcessLoop.onReceive(DAGScheduler.scala:2983)\n\tat org.apache.spark.util.EventLoop$$anon$1.run(EventLoop.scala:49)\n\tat org.apache.spark.scheduler.DAGScheduler.runJob(DAGScheduler.scala:989)\n\tat org.apache.spark.SparkContext.runJob(SparkContext.scala:2393)\n\tat org.apache.spark.SparkContext.runJob(SparkContext.scala:2488)\n\tat org.apache.spark.rdd.RDD.$anonfun$aggregate$1(RDD.scala:1228)\n\tat org.apache.spark.rdd.RDDOperationScope$.withScope(RDDOperationScope.scala:151)\n\tat org.apache.spark.rdd.RDDOperationScope$.withScope(RDDOperationScope.scala:112)\n\tat org.apache.spark.rdd.RDD.withScope(RDD.scala:410)\n\tat org.apache.spark.rdd.RDD.aggregate(RDD.scala:1221)\n\tat org.apache.spark.ml.tree.impl.DecisionTreeMetadata$.buildMetadata(DecisionTreeMetadata.scala:125)\n\tat org.apache.spark.ml.tree.impl.GradientBoostedTrees$.boost(GradientBoostedTrees.scala:333)\n\tat org.apache.spark.ml.tree.impl.GradientBoostedTrees$.run(GradientBoostedTrees.scala:61)\n\tat org.apache.spark.ml.classification.GBTClassifier.$anonfun$train$1(GBTClassifier.scala:201)\n\tat org.apache.spark.ml.util.Instrumentation$.$anonfun$instrumented$1(Instrumentation.scala:191)\n\tat scala.util.Try$.apply(Try.scala:213)\n\tat org.apache.spark.ml.util.Instrumentation$.instrumented(Instrumentation.scala:191)\n\tat org.apache.spark.ml.classification.GBTClassifier.train(GBTClassifier.scala:170)\n\tat org.apache.spark.ml.classification.GBTClassifier.train(GBTClassifier.scala:58)\n\tat org.apache.spark.ml.Predictor.fit(Predictor.scala:114)\n\tat java.base/jdk.internal.reflect.NativeMethodAccessorImpl.invoke0(Native Method)\n\tat java.base/jdk.internal.reflect.NativeMethodAccessorImpl.invoke(NativeMethodAccessorImpl.java:62)\n\tat java.base/jdk.internal.reflect.DelegatingMethodAccessorImpl.invoke(DelegatingMethodAccessorImpl.java:43)\n\tat java.base/java.lang.reflect.Method.invoke(Method.java:566)\n\tat py4j.reflection.MethodInvoker.invoke(MethodInvoker.java:244)\n\tat py4j.reflection.ReflectionEngine.invoke(ReflectionEngine.java:374)\n\tat py4j.Gateway.invoke(Gateway.java:282)\n\tat py4j.commands.AbstractCommand.invokeMethod(AbstractCommand.java:132)\n\tat py4j.commands.CallCommand.execute(CallCommand.java:79)\n\tat py4j.ClientServerConnection.waitForCommands(ClientServerConnection.java:182)\n\tat py4j.ClientServerConnection.run(ClientServerConnection.java:106)\n\tat java.base/java.lang.Thread.run(Thread.java:829)\nCaused by: java.lang.RuntimeException: Labels MUST be in {0, 1}, but got 2.0\n\tat org.apache.spark.sql.catalyst.expressions.GeneratedClass$GeneratedIteratorForCodegenStage1.project_doConsume_0$(Unknown Source)\n\tat org.apache.spark.sql.catalyst.expressions.GeneratedClass$GeneratedIteratorForCodegenStage1.processNext(Unknown Source)\n\tat org.apache.spark.sql.execution.BufferedRowIterator.hasNext(BufferedRowIterator.java:43)\n\tat org.apache.spark.sql.execution.WholeStageCodegenEvaluatorFactory$WholeStageCodegenPartitionEvaluator$$anon$1.hasNext(WholeStageCodegenEvaluatorFactory.scala:43)\n\tat scala.collection.Iterator$$anon$10.hasNext(Iterator.scala:460)\n\tat scala.collection.Iterator$$anon$10.hasNext(Iterator.scala:460)\n\tat scala.collection.Iterator$$anon$10.hasNext(Iterator.scala:460)\n\tat scala.collection.Iterator$$anon$10.hasNext(Iterator.scala:460)\n\tat scala.collection.Iterator.foreach(Iterator.scala:943)\n\tat scala.collection.Iterator.foreach$(Iterator.scala:943)\n\tat scala.collection.AbstractIterator.foreach(Iterator.scala:1431)\n\tat scala.collection.TraversableOnce.foldLeft(TraversableOnce.scala:199)\n\tat scala.collection.TraversableOnce.foldLeft$(TraversableOnce.scala:192)\n\tat scala.collection.AbstractIterator.foldLeft(Iterator.scala:1431)\n\tat scala.collection.TraversableOnce.aggregate(TraversableOnce.scala:260)\n\tat scala.collection.TraversableOnce.aggregate$(TraversableOnce.scala:260)\n\tat scala.collection.AbstractIterator.aggregate(Iterator.scala:1431)\n\tat org.apache.spark.rdd.RDD.$anonfun$aggregate$2(RDD.scala:1226)\n\tat org.apache.spark.SparkContext.$anonfun$runJob$6(SparkContext.scala:2487)\n\tat org.apache.spark.scheduler.ResultTask.runTask(ResultTask.scala:93)\n\tat org.apache.spark.TaskContext.runTaskWithListeners(TaskContext.scala:166)\n\tat org.apache.spark.scheduler.Task.run(Task.scala:141)\n\tat org.apache.spark.executor.Executor$TaskRunner.$anonfun$run$4(Executor.scala:620)\n\tat org.apache.spark.util.SparkErrorUtils.tryWithSafeFinally(SparkErrorUtils.scala:64)\n\tat org.apache.spark.util.SparkErrorUtils.tryWithSafeFinally$(SparkErrorUtils.scala:61)\n\tat org.apache.spark.util.Utils$.tryWithSafeFinally(Utils.scala:94)\n\tat org.apache.spark.executor.Executor$TaskRunner.run(Executor.scala:623)\n\tat java.base/java.util.concurrent.ThreadPoolExecutor.runWorker(ThreadPoolExecutor.java:1128)\n\tat java.base/java.util.concurrent.ThreadPoolExecutor$Worker.run(ThreadPoolExecutor.java:628)\n\t... 1 more\n"
          ]
        }
      ]
    },
    {
      "source": [
        "# Cell 6: Classification Models\n",
        "# ----------------------------\n",
        "# ... (other code) ...\n",
        "\n",
        "# 3. Random Forest Classifier (for multi-class)\n",
        "gbt = RandomForestClassifier(  # Replace GBTClassifier with RandomForestClassifier\n",
        "    featuresCol=\"features\",\n",
        "    labelCol=\"label\",\n",
        "    numTrees=10,\n",
        "    maxDepth=5,\n",
        "    seed=42)\n",
        "\n",
        "gbt_model = gbt.fit(train_data)\n",
        "gbt_predictions = gbt_model.transform(test_data)\n",
        "\n",
        "gbt_accuracy = evaluator.evaluate(gbt_predictions)\n",
        "print(f\"Random Forest Classifier Accuracy: {gbt_accuracy:.4f}\")"
      ],
      "cell_type": "code",
      "metadata": {
        "colab": {
          "base_uri": "https://localhost:8080/"
        },
        "id": "041QuESoHsk4",
        "outputId": "42a38b7b-b5fd-48ce-cafc-67d761acc9de"
      },
      "execution_count": 9,
      "outputs": [
        {
          "output_type": "stream",
          "name": "stdout",
          "text": [
            "Random Forest Classifier Accuracy: 0.9583\n"
          ]
        }
      ]
    },
    {
      "cell_type": "code",
      "source": [
        "# Cell 7: Hyperparameter Tuning with Cross-Validation\n",
        "# --------------------------------------------------\n",
        "# Create a parameter grid for tuning the Random Forest model\n",
        "paramGrid = ParamGridBuilder() \\\n",
        "    .addGrid(rf.numTrees, [10, 20, 30]) \\\n",
        "    .addGrid(rf.maxDepth, [5, 10, 15]) \\\n",
        "    .build()\n",
        "\n",
        "# Create a 3-fold CrossValidator\n",
        "crossval = CrossValidator(\n",
        "    estimator=rf,\n",
        "    estimatorParamMaps=paramGrid,\n",
        "    evaluator=evaluator,\n",
        "    numFolds=3,\n",
        "    seed=42\n",
        ")\n",
        "\n",
        "# Run cross-validation and select the best model\n",
        "cv_model = crossval.fit(train_data)\n",
        "\n",
        "# Get the best model\n",
        "best_rf_model = cv_model.bestModel\n",
        "print(\"Best Random Forest Model Parameters:\")\n",
        "print(f\"Number of Trees: {best_rf_model.getNumTrees}\")\n",
        "print(f\"Max Depth: {best_rf_model.getMaxDepth()}\")\n",
        "\n",
        "# Make predictions with the best model\n",
        "best_predictions = best_rf_model.transform(test_data)\n",
        "best_accuracy = evaluator.evaluate(best_predictions)\n",
        "print(f\"Best Random Forest Accuracy: {best_accuracy:.4f}\")"
      ],
      "metadata": {
        "colab": {
          "base_uri": "https://localhost:8080/"
        },
        "id": "eqUuxR_TGtvf",
        "outputId": "0a803ba5-05d8-46d2-ab11-5de264707555"
      },
      "execution_count": 10,
      "outputs": [
        {
          "output_type": "stream",
          "name": "stdout",
          "text": [
            "Best Random Forest Model Parameters:\n",
            "Number of Trees: 30\n",
            "Max Depth: 5\n",
            "Best Random Forest Accuracy: 1.0000\n"
          ]
        }
      ]
    },
    {
      "cell_type": "code",
      "source": [
        "# Cell 8: Regression Example with California Housing Dataset\n",
        "# ---------------------------------------------------------\n",
        "# Load the California Housing dataset\n",
        "from sklearn.datasets import fetch_california_housing\n",
        "california = fetch_california_housing()\n",
        "\n",
        "# Convert to Pandas DataFrame first\n",
        "california_pd = pd.DataFrame(\n",
        "    data=np.c_[california.data, california.target],\n",
        "    columns=list(california.feature_names) + [\"price\"]\n",
        ")\n",
        "\n",
        "# Convert to Spark DataFrame\n",
        "california_df = spark.createDataFrame(california_pd)\n",
        "california_df.show(5)\n",
        "california_df.printSchema()\n",
        "\n",
        "# Print summary statistics\n",
        "california_df.describe().show()"
      ],
      "metadata": {
        "colab": {
          "base_uri": "https://localhost:8080/"
        },
        "id": "X90-PGQEFj-u",
        "outputId": "c16c7a0a-e885-4057-b80f-d50d85a1c679"
      },
      "execution_count": 11,
      "outputs": [
        {
          "output_type": "stream",
          "name": "stdout",
          "text": [
            "+------+--------+------------------+------------------+----------+------------------+--------+---------+-----+\n",
            "|MedInc|HouseAge|          AveRooms|         AveBedrms|Population|          AveOccup|Latitude|Longitude|price|\n",
            "+------+--------+------------------+------------------+----------+------------------+--------+---------+-----+\n",
            "|8.3252|    41.0| 6.984126984126984|1.0238095238095237|     322.0|2.5555555555555554|   37.88|  -122.23|4.526|\n",
            "|8.3014|    21.0| 6.238137082601054|0.9718804920913884|    2401.0| 2.109841827768014|   37.86|  -122.22|3.585|\n",
            "|7.2574|    52.0| 8.288135593220339| 1.073446327683616|     496.0|2.8022598870056497|   37.85|  -122.24|3.521|\n",
            "|5.6431|    52.0|5.8173515981735155|1.0730593607305936|     558.0| 2.547945205479452|   37.85|  -122.25|3.413|\n",
            "|3.8462|    52.0| 6.281853281853282|1.0810810810810811|     565.0|2.1814671814671813|   37.85|  -122.25|3.422|\n",
            "+------+--------+------------------+------------------+----------+------------------+--------+---------+-----+\n",
            "only showing top 5 rows\n",
            "\n",
            "root\n",
            " |-- MedInc: double (nullable = true)\n",
            " |-- HouseAge: double (nullable = true)\n",
            " |-- AveRooms: double (nullable = true)\n",
            " |-- AveBedrms: double (nullable = true)\n",
            " |-- Population: double (nullable = true)\n",
            " |-- AveOccup: double (nullable = true)\n",
            " |-- Latitude: double (nullable = true)\n",
            " |-- Longitude: double (nullable = true)\n",
            " |-- price: double (nullable = true)\n",
            "\n",
            "+-------+------------------+------------------+------------------+------------------+------------------+------------------+------------------+-------------------+------------------+\n",
            "|summary|            MedInc|          HouseAge|          AveRooms|         AveBedrms|        Population|          AveOccup|          Latitude|          Longitude|             price|\n",
            "+-------+------------------+------------------+------------------+------------------+------------------+------------------+------------------+-------------------+------------------+\n",
            "|  count|             20640|             20640|             20640|             20640|             20640|             20640|             20640|              20640|             20640|\n",
            "|   mean| 3.870671002906976|28.639486434108527| 5.428999742190385| 1.096675149606209|1425.4767441860465|3.0706551594363716|  35.6318614341086|-119.56970445736394|2.0685581690891293|\n",
            "| stddev|1.8998217179452666|12.585557612111632|2.4741731394243245|0.4739108567954673|1132.4621217653405|10.386049562213614|2.1359523974571313| 2.0035317235025842|1.1539561587441383|\n",
            "|    min|            0.4999|               1.0|0.8461538461538461|0.3333333333333333|               3.0|0.6923076923076923|             32.54|            -124.35|           0.14999|\n",
            "|    max|           15.0001|              52.0| 141.9090909090909| 34.06666666666667|           35682.0|1243.3333333333333|             41.95|            -114.31|           5.00001|\n",
            "+-------+------------------+------------------+------------------+------------------+------------------+------------------+------------------+-------------------+------------------+\n",
            "\n"
          ]
        }
      ]
    },
    {
      "cell_type": "code",
      "source": [
        "\n",
        "# Cell 9: Prepare Regression Data\n",
        "# -------------------------------\n",
        "# Prepare features for regression\n",
        "reg_feature_cols = california.feature_names\n",
        "reg_assembler = VectorAssembler(inputCols=reg_feature_cols, outputCol=\"features_raw\")\n",
        "reg_scaler = StandardScaler(inputCol=\"features_raw\", outputCol=\"features\", withStd=True, withMean=True)\n",
        "\n",
        "# Create preprocessing pipeline\n",
        "reg_preprocessing = Pipeline(stages=[reg_assembler, reg_scaler])\n",
        "\n",
        "# Apply preprocessing\n",
        "reg_preprocessing_model = reg_preprocessing.fit(california_df)\n",
        "reg_processed_data = reg_preprocessing_model.transform(california_df)\n",
        "\n",
        "# Split into training and test sets\n",
        "(reg_train_data, reg_test_data) = reg_processed_data.randomSplit([0.8, 0.2], seed=42)\n",
        "\n",
        "print(f\"Regression Training Data Count: {reg_train_data.count()}\")\n",
        "print(f\"Regression Test Data Count: {reg_test_data.count()}\")"
      ],
      "metadata": {
        "colab": {
          "base_uri": "https://localhost:8080/"
        },
        "id": "mVC-H5NpILJ7",
        "outputId": "7ae59488-17b3-44cc-bbc3-50c7acca81f6"
      },
      "execution_count": 12,
      "outputs": [
        {
          "output_type": "stream",
          "name": "stdout",
          "text": [
            "Regression Training Data Count: 16637\n",
            "Regression Test Data Count: 4003\n"
          ]
        }
      ]
    },
    {
      "cell_type": "code",
      "source": [
        "\n",
        "# Cell 10: Regression Models\n",
        "# -------------------------\n",
        "# 1. Linear Regression\n",
        "lin_reg = LinearRegression(\n",
        "    featuresCol=\"features\",\n",
        "    labelCol=\"price\",\n",
        "    maxIter=10,\n",
        "    regParam=0.1,\n",
        "    elasticNetParam=0.8\n",
        ")\n",
        "\n",
        "lin_reg_model = lin_reg.fit(reg_train_data)\n",
        "lin_reg_predictions = lin_reg_model.transform(reg_test_data)\n",
        "\n",
        "# Evaluate regression model\n",
        "reg_evaluator = RegressionEvaluator(\n",
        "    labelCol=\"price\",\n",
        "    predictionCol=\"prediction\",\n",
        "    metricName=\"rmse\"\n",
        ")\n",
        "\n",
        "lin_reg_rmse = reg_evaluator.evaluate(lin_reg_predictions)\n",
        "lin_reg_r2 = reg_evaluator.setMetricName(\"r2\").evaluate(lin_reg_predictions)\n",
        "\n",
        "print(f\"Linear Regression RMSE: {lin_reg_rmse:.4f}\")\n",
        "print(f\"Linear Regression R²: {lin_reg_r2:.4f}\")\n",
        "\n",
        "# Print model coefficients\n",
        "print(f\"Coefficients: {lin_reg_model.coefficients}\")\n",
        "print(f\"Intercept: {lin_reg_model.intercept}\")\n",
        "\n",
        "# 2. Random Forest Regressor\n",
        "rf_reg = RandomForestRegressor(\n",
        "    featuresCol=\"features\",\n",
        "    labelCol=\"price\",\n",
        "    numTrees=20,\n",
        "    maxDepth=5,\n",
        "    seed=42\n",
        ")\n",
        "\n",
        "rf_reg_model = rf_reg.fit(reg_train_data)\n",
        "rf_reg_predictions = rf_reg_model.transform(reg_test_data)\n",
        "\n",
        "rf_reg_rmse = reg_evaluator.setMetricName(\"rmse\").evaluate(rf_reg_predictions)\n",
        "rf_reg_r2 = reg_evaluator.setMetricName(\"r2\").evaluate(rf_reg_predictions)\n",
        "\n",
        "print(f\"Random Forest Regression RMSE: {rf_reg_rmse:.4f}\")\n",
        "print(f\"Random Forest Regression R²: {rf_reg_r2:.4f}\")\n",
        "\n",
        "# 3. Gradient-Boosted Tree Regressor\n",
        "gbt_reg = GBTRegressor(\n",
        "    featuresCol=\"features\",\n",
        "    labelCol=\"price\",\n",
        "    maxIter=10,\n",
        "    maxDepth=5,\n",
        "    seed=42\n",
        ")\n",
        "\n",
        "gbt_reg_model = gbt_reg.fit(reg_train_data)\n",
        "gbt_reg_predictions = gbt_reg_model.transform(reg_test_data)\n",
        "\n",
        "gbt_reg_rmse = reg_evaluator.setMetricName(\"rmse\").evaluate(gbt_reg_predictions)\n",
        "gbt_reg_r2 = reg_evaluator.setMetricName(\"r2\").evaluate(gbt_reg_predictions)\n",
        "\n",
        "print(f\"GBT Regression RMSE: {gbt_reg_rmse:.4f}\")\n",
        "print(f\"GBT Regression R²: {gbt_reg_r2:.4f}\")"
      ],
      "metadata": {
        "colab": {
          "base_uri": "https://localhost:8080/"
        },
        "id": "cpc5OuxYILVn",
        "outputId": "5c43220e-d3e9-49ba-ac26-7e88a9af7b0d"
      },
      "execution_count": 13,
      "outputs": [
        {
          "output_type": "stream",
          "name": "stdout",
          "text": [
            "Linear Regression RMSE: 0.8027\n",
            "Linear Regression R²: 0.5043\n",
            "Coefficients: [0.7148885738730185,0.12605272174131324,0.0,0.0,0.0,0.0,-0.027655161796489924,0.0]\n",
            "Intercept: 2.0691168143846763\n",
            "Random Forest Regression RMSE: 0.6859\n",
            "Random Forest Regression R²: 0.6382\n",
            "GBT Regression RMSE: 0.6165\n",
            "GBT Regression R²: 0.7077\n"
          ]
        }
      ]
    },
    {
      "cell_type": "code",
      "source": [
        "\n",
        "# Cell 11: Clustering Example with Synthetic Dataset\n",
        "# -------------------------------------------------\n",
        "# Create a synthetic dataset for clustering\n",
        "from sklearn.datasets import make_blobs\n",
        "\n",
        "# Generate synthetic data\n",
        "X, y = make_blobs(n_samples=300, centers=4, cluster_std=0.60, random_state=42)\n",
        "synthetic_pd = pd.DataFrame(X, columns=[\"feature1\", \"feature2\"])\n",
        "synthetic_pd[\"label\"] = y  # Adding true labels for evaluation purposes\n",
        "\n",
        "# Convert to Spark DataFrame\n",
        "synthetic_df = spark.createDataFrame(synthetic_pd)\n",
        "synthetic_df.show(5)"
      ],
      "metadata": {
        "colab": {
          "base_uri": "https://localhost:8080/"
        },
        "id": "JnscoSneILaz",
        "outputId": "c2fad258-1f3b-4fbc-943f-282460593695"
      },
      "execution_count": 14,
      "outputs": [
        {
          "output_type": "stream",
          "name": "stdout",
          "text": [
            "+-------------------+------------------+-----+\n",
            "|           feature1|          feature2|label|\n",
            "+-------------------+------------------+-----+\n",
            "| -9.113944296360156| 6.813616293819829|    3|\n",
            "| -9.354575775806381| 7.092789588960808|    3|\n",
            "|-2.0156706757908367| 8.281779938215708|    0|\n",
            "| -7.010235913087603|-6.220843482083633|    2|\n",
            "|-10.061202477742723| 6.718671128948261|    3|\n",
            "+-------------------+------------------+-----+\n",
            "only showing top 5 rows\n",
            "\n"
          ]
        }
      ]
    },
    {
      "cell_type": "code",
      "source": [
        "\n",
        "# Cell 12: Prepare Clustering Data\n",
        "# -------------------------------\n",
        "# Prepare features for clustering\n",
        "cluster_feature_cols = [\"feature1\", \"feature2\"]\n",
        "cluster_assembler = VectorAssembler(inputCols=cluster_feature_cols, outputCol=\"features\")\n",
        "\n",
        "# Apply feature assembler\n",
        "cluster_data = cluster_assembler.transform(synthetic_df)\n",
        "cluster_data.show(5)"
      ],
      "metadata": {
        "colab": {
          "base_uri": "https://localhost:8080/"
        },
        "id": "vIMMiXLPILeg",
        "outputId": "b350b8d1-fccb-444f-fc49-836256508e8d"
      },
      "execution_count": 15,
      "outputs": [
        {
          "output_type": "stream",
          "name": "stdout",
          "text": [
            "+-------------------+------------------+-----+--------------------+\n",
            "|           feature1|          feature2|label|            features|\n",
            "+-------------------+------------------+-----+--------------------+\n",
            "| -9.113944296360156| 6.813616293819829|    3|[-9.1139442963601...|\n",
            "| -9.354575775806381| 7.092789588960808|    3|[-9.3545757758063...|\n",
            "|-2.0156706757908367| 8.281779938215708|    0|[-2.0156706757908...|\n",
            "| -7.010235913087603|-6.220843482083633|    2|[-7.0102359130876...|\n",
            "|-10.061202477742723| 6.718671128948261|    3|[-10.061202477742...|\n",
            "+-------------------+------------------+-----+--------------------+\n",
            "only showing top 5 rows\n",
            "\n"
          ]
        }
      ]
    },
    {
      "cell_type": "code",
      "source": [
        "\n",
        "# Cell 13: K-Means Clustering\n",
        "# --------------------------\n",
        "# Train a K-means model with k=4\n",
        "kmeans = KMeans(\n",
        "    featuresCol=\"features\",\n",
        "    predictionCol=\"prediction\",\n",
        "    k=4,\n",
        "    seed=42,\n",
        "    maxIter=20,\n",
        "    tol=1e-4\n",
        ")\n",
        "\n",
        "kmeans_model = kmeans.fit(cluster_data)\n",
        "\n",
        "# Make predictions\n",
        "kmeans_predictions = kmeans_model.transform(cluster_data)\n",
        "kmeans_predictions.show(5)\n",
        "\n",
        "# Evaluate the clustering model\n",
        "cluster_evaluator = ClusteringEvaluator(\n",
        "    featuresCol=\"features\",\n",
        "    predictionCol=\"prediction\",\n",
        "    metricName=\"silhouette\"\n",
        ")\n",
        "\n",
        "silhouette = cluster_evaluator.evaluate(kmeans_predictions)\n",
        "print(f\"Silhouette score: {silhouette:.4f}\")\n",
        "\n",
        "# Get cluster centers\n",
        "centers = kmeans_model.clusterCenters()\n",
        "print(\"Cluster Centers:\")\n",
        "for i, center in enumerate(centers):\n",
        "    print(f\"Cluster {i}: {center}\")"
      ],
      "metadata": {
        "colab": {
          "base_uri": "https://localhost:8080/"
        },
        "id": "LEjEvlJNILgy",
        "outputId": "17960aee-603d-4ab5-af50-f63a4699e97d"
      },
      "execution_count": 16,
      "outputs": [
        {
          "output_type": "stream",
          "name": "stdout",
          "text": [
            "+-------------------+------------------+-----+--------------------+----------+\n",
            "|           feature1|          feature2|label|            features|prediction|\n",
            "+-------------------+------------------+-----+--------------------+----------+\n",
            "| -9.113944296360156| 6.813616293819829|    3|[-9.1139442963601...|         3|\n",
            "| -9.354575775806381| 7.092789588960808|    3|[-9.3545757758063...|         3|\n",
            "|-2.0156706757908367| 8.281779938215708|    0|[-2.0156706757908...|         0|\n",
            "| -7.010235913087603|-6.220843482083633|    2|[-7.0102359130876...|         1|\n",
            "|-10.061202477742723| 6.718671128948261|    3|[-10.061202477742...|         3|\n",
            "+-------------------+------------------+-----+--------------------+----------+\n",
            "only showing top 5 rows\n",
            "\n",
            "Silhouette score: 0.9784\n",
            "Cluster Centers:\n",
            "Cluster 0: [-2.60516878  8.99280115]\n",
            "Cluster 1: [-6.85126211 -6.85031833]\n",
            "Cluster 2: [4.68687447 2.01434593]\n",
            "Cluster 3: [-8.83456141  7.24430734]\n"
          ]
        }
      ]
    },
    {
      "cell_type": "code",
      "source": [
        "\n",
        "# Cell 14: Finding Optimal K for K-Means\n",
        "# -------------------------------------\n",
        "# Find the optimal number of clusters by evaluating silhouette scores\n",
        "silhouette_scores = []\n",
        "k_values = range(2, 11)\n",
        "\n",
        "for k in k_values:\n",
        "    kmeans = KMeans(featuresCol=\"features\", k=k, seed=42)\n",
        "    model = kmeans.fit(cluster_data)\n",
        "    predictions = model.transform(cluster_data)\n",
        "\n",
        "    evaluator = ClusteringEvaluator(\n",
        "        featuresCol=\"features\",\n",
        "        predictionCol=\"prediction\",\n",
        "        metricName=\"silhouette\"\n",
        "    )\n",
        "\n",
        "    silhouette = evaluator.evaluate(predictions)\n",
        "    silhouette_scores.append(silhouette)\n",
        "    print(f\"K={k}, Silhouette Score={silhouette:.4f}\")\n",
        "\n",
        "# Plot silhouette scores (when running locally)\n",
        "def plot_silhouette_scores():\n",
        "    plt.figure(figsize=(10, 6))\n",
        "    plt.plot(k_values, silhouette_scores, 'o-')\n",
        "    plt.xlabel('Number of Clusters (k)')\n",
        "    plt.ylabel('Silhouette Score')\n",
        "    plt.title('Silhouette Score vs. Number of Clusters')\n",
        "    plt.grid(True)\n",
        "    plt.show()"
      ],
      "metadata": {
        "colab": {
          "base_uri": "https://localhost:8080/"
        },
        "id": "17ulPJYLILj1",
        "outputId": "f340f04c-79bd-4629-cf46-4a73a74aec7d"
      },
      "execution_count": 17,
      "outputs": [
        {
          "output_type": "stream",
          "name": "stdout",
          "text": [
            "K=2, Silhouette Score=0.7224\n",
            "K=3, Silhouette Score=0.9126\n",
            "K=4, Silhouette Score=0.9784\n",
            "K=5, Silhouette Score=0.8557\n",
            "K=6, Silhouette Score=0.8626\n",
            "K=7, Silhouette Score=0.6092\n",
            "K=8, Silhouette Score=0.6235\n",
            "K=9, Silhouette Score=0.6116\n",
            "K=10, Silhouette Score=0.6127\n"
          ]
        }
      ]
    },
    {
      "cell_type": "code",
      "source": [
        "plot_silhouette_scores()"
      ],
      "metadata": {
        "colab": {
          "base_uri": "https://localhost:8080/",
          "height": 190
        },
        "id": "zz1nBeCaJMtv",
        "outputId": "bcb1a570-bc0c-458a-a367-f8fd952878e1"
      },
      "execution_count": 18,
      "outputs": [
        {
          "output_type": "display_data",
          "data": {
            "text/plain": [
              "<Figure size 1000x600 with 1 Axes>"
            ],
            "image/png": "[encoded data removed]"
          },
          "metadata": {}
        }
      ]
    },
    {
      "cell_type": "code",
      "source": [
        "# Cell 15: Visualize Clustering Results (when running locally)\n",
        "# -----------------------------------------------------------\n",
        "def visualize_clusters():\n",
        "    # Convert to pandas for visualization\n",
        "    cluster_pd = kmeans_predictions.toPandas()\n",
        "\n",
        "    # Plot the clusters\n",
        "    plt.figure(figsize=(10, 8))\n",
        "\n",
        "    # Plot points with predicted clusters\n",
        "    plt.subplot(1, 2, 1)\n",
        "    scatter = plt.scatter(cluster_pd[\"feature1\"], cluster_pd[\"feature2\"],\n",
        "                         c=cluster_pd[\"prediction\"], cmap=\"viridis\", alpha=0.8)\n",
        "\n",
        "    # Plot cluster centers\n",
        "    for i, center in enumerate(centers):\n",
        "        plt.scatter(center[0], center[1], s=200, c='red', marker='X',\n",
        "                    edgecolors='black', label=f'Cluster {i} center')\n",
        "\n",
        "    plt.title(\"K-means Clustering Results (k=4)\")\n",
        "    plt.xlabel(\"Feature 1\")\n",
        "    plt.ylabel(\"Feature 2\")\n",
        "    plt.legend()\n",
        "\n",
        "    # Plot points with true labels\n",
        "    plt.subplot(1, 2, 2)\n",
        "    scatter = plt.scatter(cluster_pd[\"feature1\"], cluster_pd[\"feature2\"],\n",
        "                         c=cluster_pd[\"label\"], cmap=\"viridis\", alpha=0.8)\n",
        "    plt.title(\"True Clusters\")\n",
        "    plt.xlabel(\"Feature 1\")\n",
        "    plt.ylabel(\"Feature 2\")\n",
        "\n",
        "    plt.tight_layout()\n",
        "    plt.show()"
      ],
      "metadata": {
        "id": "mQ1X-OicJM66"
      },
      "execution_count": 21,
      "outputs": []
    },
    {
      "cell_type": "code",
      "source": [
        "visualize_clusters()"
      ],
      "metadata": {
        "colab": {
          "base_uri": "https://localhost:8080/",
          "height": 233
        },
        "id": "xocUm9FSJNGe",
        "outputId": "7a5d2113-2380-45fb-ae5b-794038d5d0e4"
      },
      "execution_count": 22,
      "outputs": [
        {
          "output_type": "display_data",
          "data": {
            "text/plain": [
              "<Figure size 1000x800 with 2 Axes>"
            ],
            "image/png": "[encoded data removed]"
          },
          "metadata": {}
        }
      ]
    },
    {
      "cell_type": "code",
      "source": [],
      "metadata": {
        "id": "HICo6TPSKqqL"
      },
      "execution_count": null,
      "outputs": []
    },
    {
      "source": [
        "import requests\n",
        "import io\n",
        "import tempfile\n",
        "\n",
        "# Cell 16: Working with Categorical Features - Adult Income Dataset\n",
        "# ---------------------------------------------------------------\n",
        "# Load the Adult Income dataset - contains both categorical and numerical features\n",
        "adult_data_url = \"https://archive.ics.uci.edu/ml/machine-learning-databases/adult/adult.data\"\n",
        "adult_columns = [\n",
        "    \"age\", \"workclass\", \"fnlwgt\", \"education\", \"education_num\",\n",
        "    \"marital_status\", \"occupation\", \"relationship\", \"race\", \"sex\",\n",
        "    \"capital_gain\", \"capital_loss\", \"hours_per_week\", \"native_country\", \"income\"\n",
        "]\n",
        "\n",
        "# Fetch data from the URL\n",
        "response = requests.get(adult_data_url)\n",
        "response.raise_for_status()  # Raise HTTPError for bad responses (4xx or 5xx)\n",
        "adult_data = response.text\n",
        "\n",
        "# Create a temporary file to store the data\n",
        "with tempfile.NamedTemporaryFile(mode='w', delete=False) as temp_file:\n",
        "    temp_file.write(adult_data)\n",
        "    temp_file_path = temp_file.name\n",
        "\n",
        "# Load data using Spark's read.csv from the temporary file path\n",
        "adult_df = spark.read.csv(temp_file_path, header=False, inferSchema=True) # Use the temporary file path\n",
        "adult_df = adult_df.toDF(*adult_columns)\n",
        "\n",
        "print(\"Adult Income Dataset:\")\n",
        "adult_df.show(5)\n",
        "adult_df.printSchema()"
      ],
      "cell_type": "code",
      "metadata": {
        "colab": {
          "base_uri": "https://localhost:8080/"
        },
        "id": "IbLGATmxLI5n",
        "outputId": "2cdb58db-20ae-4334-898e-8b7b61954ee6"
      },
      "execution_count": 25,
      "outputs": [
        {
          "output_type": "stream",
          "name": "stdout",
          "text": [
            "Adult Income Dataset:\n",
            "+---+-----------------+--------+----------+-------------+-------------------+------------------+--------------+------+-------+------------+------------+--------------+--------------+------+\n",
            "|age|        workclass|  fnlwgt| education|education_num|     marital_status|        occupation|  relationship|  race|    sex|capital_gain|capital_loss|hours_per_week|native_country|income|\n",
            "+---+-----------------+--------+----------+-------------+-------------------+------------------+--------------+------+-------+------------+------------+--------------+--------------+------+\n",
            "| 39|        State-gov| 77516.0| Bachelors|         13.0|      Never-married|      Adm-clerical| Not-in-family| White|   Male|      2174.0|         0.0|          40.0| United-States| <=50K|\n",
            "| 50| Self-emp-not-inc| 83311.0| Bachelors|         13.0| Married-civ-spouse|   Exec-managerial|       Husband| White|   Male|         0.0|         0.0|          13.0| United-States| <=50K|\n",
            "| 38|          Private|215646.0|   HS-grad|          9.0|           Divorced| Handlers-cleaners| Not-in-family| White|   Male|         0.0|         0.0|          40.0| United-States| <=50K|\n",
            "| 53|          Private|234721.0|      11th|          7.0| Married-civ-spouse| Handlers-cleaners|       Husband| Black|   Male|         0.0|         0.0|          40.0| United-States| <=50K|\n",
            "| 28|          Private|338409.0| Bachelors|         13.0| Married-civ-spouse|    Prof-specialty|          Wife| Black| Female|         0.0|         0.0|          40.0|          Cuba| <=50K|\n",
            "+---+-----------------+--------+----------+-------------+-------------------+------------------+--------------+------+-------+------------+------------+--------------+--------------+------+\n",
            "only showing top 5 rows\n",
            "\n",
            "root\n",
            " |-- age: integer (nullable = true)\n",
            " |-- workclass: string (nullable = true)\n",
            " |-- fnlwgt: double (nullable = true)\n",
            " |-- education: string (nullable = true)\n",
            " |-- education_num: double (nullable = true)\n",
            " |-- marital_status: string (nullable = true)\n",
            " |-- occupation: string (nullable = true)\n",
            " |-- relationship: string (nullable = true)\n",
            " |-- race: string (nullable = true)\n",
            " |-- sex: string (nullable = true)\n",
            " |-- capital_gain: double (nullable = true)\n",
            " |-- capital_loss: double (nullable = true)\n",
            " |-- hours_per_week: double (nullable = true)\n",
            " |-- native_country: string (nullable = true)\n",
            " |-- income: string (nullable = true)\n",
            "\n"
          ]
        }
      ]
    },
    {
      "cell_type": "code",
      "source": [
        "\n",
        "# Cell 17: Handling Categorical Features\n",
        "# -------------------------------------\n",
        "# Identify categorical and numerical columns\n",
        "categorical_cols = [\"workclass\", \"education\", \"marital_status\", \"occupation\",\n",
        "                    \"relationship\", \"race\", \"sex\", \"native_country\"]\n",
        "numerical_cols = [\"age\", \"fnlwgt\", \"education_num\", \"capital_gain\",\n",
        "                  \"capital_loss\", \"hours_per_week\"]\n",
        "\n",
        "# Label indexing for the target\n",
        "label_indexer = StringIndexer(inputCol=\"income\", outputCol=\"label\")\n",
        "\n",
        "# String indexers for categorical features\n",
        "indexers = [StringIndexer(inputCol=col, outputCol=f\"{col}_index\", handleInvalid=\"keep\")\n",
        "            for col in categorical_cols]\n",
        "\n",
        "# One-hot encoding of indexed categorical features\n",
        "encoders = [OneHotEncoder(inputCol=f\"{col}_index\", outputCol=f\"{col}_vec\")\n",
        "            for col in categorical_cols]\n",
        "\n",
        "# Assemble all features (numerical + one-hot encoded)\n",
        "assembler_inputs = numerical_cols + [f\"{col}_vec\" for col in categorical_cols]\n",
        "assembler = VectorAssembler(inputCols=assembler_inputs, outputCol=\"features\")"
      ],
      "metadata": {
        "id": "r6P58ac3Kr2p"
      },
      "execution_count": 27,
      "outputs": []
    },
    {
      "cell_type": "code",
      "source": [
        "\n",
        "# Cell 18: Build Complete Pipeline with Categorical Features\n",
        "# --------------------------------------------------------\n",
        "# Create the pipeline with all preprocessing steps\n",
        "categorical_pipeline = Pipeline(stages=\n",
        "    indexers +  # String indexers\n",
        "    encoders +  # One-hot encoders\n",
        "    [assembler, label_indexer]  # Feature assembler and label indexer\n",
        ")\n",
        "\n",
        "# Apply the pipeline\n",
        "categorical_pipeline_model = categorical_pipeline.fit(adult_df)\n",
        "categorical_processed = categorical_pipeline_model.transform(adult_df)\n",
        "\n",
        "# Show the processed data\n",
        "print(\"Processed Adult Data:\")\n",
        "categorical_processed.select(\"features\", \"label\", \"income\").show(5)\n",
        "\n",
        "# Split data\n",
        "(adult_train, adult_test) = categorical_processed.randomSplit([0.8, 0.2], seed=42)"
      ],
      "metadata": {
        "colab": {
          "base_uri": "https://localhost:8080/"
        },
        "id": "6UH81pMMKr-t",
        "outputId": "8c9211e9-0cf2-4490-d6f6-c087c55ccafa"
      },
      "execution_count": 28,
      "outputs": [
        {
          "output_type": "stream",
          "name": "stdout",
          "text": [
            "Processed Adult Data:\n",
            "+--------------------+-----+------+\n",
            "|            features|label|income|\n",
            "+--------------------+-----+------+\n",
            "|(108,[0,1,2,3,5,1...|  0.0| <=50K|\n",
            "|(108,[0,1,2,5,7,1...|  0.0| <=50K|\n",
            "|(108,[0,1,2,5,6,1...|  0.0| <=50K|\n",
            "|(108,[0,1,2,5,6,2...|  0.0| <=50K|\n",
            "|(108,[0,1,2,5,6,1...|  0.0| <=50K|\n",
            "+--------------------+-----+------+\n",
            "only showing top 5 rows\n",
            "\n"
          ]
        }
      ]
    },
    {
      "cell_type": "code",
      "source": [
        "\n",
        "# Cell 19: Train Classification Model on Adult Dataset\n",
        "# --------------------------------------------------\n",
        "# Train a Random Forest model on the Adult dataset\n",
        "adult_rf = RandomForestClassifier(\n",
        "    featuresCol=\"features\",\n",
        "    labelCol=\"label\",\n",
        "    numTrees=20,\n",
        "    maxDepth=10,\n",
        "    seed=42\n",
        ")\n",
        "\n",
        "adult_rf_model = adult_rf.fit(adult_train)\n",
        "adult_predictions = adult_rf_model.transform(adult_test)\n",
        "\n",
        "# Evaluate the model\n",
        "adult_evaluator = MulticlassClassificationEvaluator(\n",
        "    labelCol=\"label\",\n",
        "    predictionCol=\"prediction\",\n",
        "    metricName=\"accuracy\"\n",
        ")\n",
        "\n",
        "adult_accuracy = adult_evaluator.evaluate(adult_predictions)\n",
        "print(f\"Random Forest Accuracy on Adult Dataset: {adult_accuracy:.4f}\")\n",
        "\n",
        "# Other evaluation metrics\n",
        "adult_evaluator.setMetricName(\"f1\")\n",
        "adult_f1 = adult_evaluator.evaluate(adult_predictions)\n",
        "print(f\"Random Forest F1 Score on Adult Dataset: {adult_f1:.4f}\")"
      ],
      "metadata": {
        "colab": {
          "base_uri": "https://localhost:8080/"
        },
        "id": "97MRgcfQLiIg",
        "outputId": "f7f8b5c9-8841-4e43-a785-e814cf2e7a40"
      },
      "execution_count": 29,
      "outputs": [
        {
          "output_type": "stream",
          "name": "stdout",
          "text": [
            "Random Forest Accuracy on Adult Dataset: 0.8455\n",
            "Random Forest F1 Score on Adult Dataset: 0.8341\n"
          ]
        }
      ]
    },
    {
      "cell_type": "code",
      "source": [
        "# Cell 20: Feature Importance Analysis\n",
        "# -----------------------------------\n",
        "# Get feature importance from the Random Forest model\n",
        "def analyze_feature_importance(model, feature_names):\n",
        "    # Get feature importance\n",
        "    importances = model.featureImportances\n",
        "\n",
        "    # Create a list of (feature, importance) tuples\n",
        "    feature_importance = [(feature, float(importance))\n",
        "                         for feature, importance in zip(feature_names, importances)]\n",
        "\n",
        "    # Sort by importance (descending)\n",
        "    feature_importance = sorted(feature_importance, key=lambda x: x[1], reverse=True)\n",
        "\n",
        "    return feature_importance\n",
        "\n",
        "# Get feature names (this is an approximation as one-hot encoding expands features)\n",
        "feature_names = numerical_cols + categorical_cols\n",
        "top_features = analyze_feature_importance(adult_rf_model, feature_names)\n",
        "\n",
        "print(\"Top 10 Features by Importance:\")\n",
        "for i, (feature, importance) in enumerate(top_features[:10]):\n",
        "    print(f\"{i+1}. {feature}: {importance:.4f}\")"
      ],
      "metadata": {
        "colab": {
          "base_uri": "https://localhost:8080/"
        },
        "id": "5pRz4SOLLiVq",
        "outputId": "ee1b97d7-1e71-48e1-d0da-ec93aa000b26"
      },
      "execution_count": 30,
      "outputs": [
        {
          "output_type": "stream",
          "name": "stdout",
          "text": [
            "Top 10 Features by Importance:\n",
            "1. capital_gain: 0.1149\n",
            "2. education_num: 0.1124\n",
            "3. age: 0.0953\n",
            "4. hours_per_week: 0.0475\n",
            "5. capital_loss: 0.0185\n",
            "6. race: 0.0107\n",
            "7. fnlwgt: 0.0070\n",
            "8. education: 0.0042\n",
            "9. sex: 0.0020\n",
            "10. occupation: 0.0017\n"
          ]
        }
      ]
    },
    {
      "source": [
        "# Cell 21: Model Saving and Loading\n",
        "# --------------------------------\n",
        "# Save the preprocessing pipeline and model\n",
        "from pyspark.ml.classification import RandomForestClassificationModel # Import RandomForestClassificationModel\n",
        "from pyspark.ml import PipelineModel # Import PipelineModel\n",
        "model_path = \"file:///tmp/spark_ml_adult_model\"\n",
        "preprocessing_path = \"file:///tmp/spark_ml_adult_preprocessing\"\n",
        "\n",
        "# Save the model\n",
        "adult_rf_model.write().overwrite().save(model_path)\n",
        "\n",
        "# Save the preprocessing pipeline\n",
        "categorical_pipeline_model.write().overwrite().save(preprocessing_path)\n",
        "\n",
        "# Load the model\n",
        "loaded_model = RandomForestClassificationModel.load(model_path)\n",
        "loaded_preprocessing = PipelineModel.load(preprocessing_path)"
      ],
      "cell_type": "code",
      "metadata": {
        "id": "OptBJvN4MOd7"
      },
      "execution_count": 32,
      "outputs": []
    },
    {
      "source": [
        "# Cell 22: Model Deployment - Batch Prediction\n",
        "# -------------------------------------------\n",
        "# Function to make batch predictions on new data\n",
        "def batch_predict(new_data, preprocessing_model, ml_model):\n",
        "    # Only apply preprocessing if the data hasn't been processed yet.\n",
        "    # Check if the 'features' column exists to determine if data has been preprocessed\n",
        "    if 'features' not in new_data.columns:\n",
        "        processed_data = preprocessing_model.transform(new_data)\n",
        "    else:\n",
        "        processed_data = new_data  # Data is already processed\n",
        "\n",
        "    # Make predictions\n",
        "    predictions = ml_model.transform(processed_data)\n",
        "\n",
        "    return predictions\n",
        "\n",
        "# Example with a sample of the test data\n",
        "sample_data = adult_test.limit(5)\n",
        "batch_results = batch_predict(sample_data, categorical_pipeline_model, adult_rf_model)\n",
        "\n",
        "# Show the prediction results\n",
        "batch_results.select(\"features\", \"label\", \"prediction\", \"probability\").show()"
      ],
      "cell_type": "code",
      "metadata": {
        "colab": {
          "base_uri": "https://localhost:8080/"
        },
        "id": "fs7srdchMlcN",
        "outputId": "60a2e080-20c8-4ede-fb4a-bcd6b5815d29"
      },
      "execution_count": 34,
      "outputs": [
        {
          "output_type": "stream",
          "name": "stdout",
          "text": [
            "+--------------------+-----+----------+--------------------+\n",
            "|            features|label|prediction|         probability|\n",
            "+--------------------+-----+----------+--------------------+\n",
            "|(108,[0,1,2,5,9,2...|  0.0|       0.0|[0.99220475351337...|\n",
            "|(108,[0,1,2,5,9,2...|  0.0|       0.0|[0.98797258577637...|\n",
            "|(108,[0,1,2,5,9,2...|  0.0|       0.0|[0.99220475351337...|\n",
            "|(108,[0,1,2,5,9,2...|  0.0|       0.0|[0.99022806220796...|\n",
            "|(108,[0,1,2,5,9,2...|  0.0|       0.0|[0.99294764905212...|\n",
            "+--------------------+-----+----------+--------------------+\n",
            "\n"
          ]
        }
      ]
    },
    {
      "cell_type": "code",
      "source": [
        "\n",
        "# Cell 23: Real-time Prediction with UDF\n",
        "# -------------------------------------\n",
        "# Create a UDF for real-time predictions\n",
        "from pyspark.sql.types import DoubleType, ArrayType\n",
        "\n",
        "# Create a model broadcast variable for efficiency\n",
        "model_broadcast = spark.sparkContext.broadcast(adult_rf_model)\n",
        "\n",
        "# Define prediction UDF\n",
        "@udf(returnType=DoubleType())\n",
        "def predict_income(features):\n",
        "    # Use the broadcasted model to make prediction\n",
        "    model = model_broadcast.value\n",
        "    prediction = model.predict(features)\n",
        "    return float(prediction)\n",
        "\n",
        "# Apply UDF for real-time predictions\n",
        "real_time_predictions = categorical_processed.withColumn(\n",
        "    \"rt_prediction\",\n",
        "    predict_income(col(\"features\"))\n",
        ")\n",
        "\n",
        "# Show real-time predictions\n",
        "real_time_predictions.select(\n",
        "    \"age\", \"workclass\", \"education\", \"income\", \"rt_prediction\"\n",
        ").show(10)"
      ],
      "metadata": {
        "colab": {
          "base_uri": "https://localhost:8080/",
          "height": 897
        },
        "id": "WelTHFF2Liwl",
        "outputId": "3f714d34-a64d-407f-ccc8-63361c9ae00c"
      },
      "execution_count": 43,
      "outputs": [
        {
          "output_type": "stream",
          "name": "stderr",
          "text": [
            "Traceback (most recent call last):\n",
            "  File \"/usr/local/lib/python3.11/dist-packages/pyspark/broadcast.py\", line 183, in dump\n",
            "    pickle.dump(value, f, pickle_protocol)\n",
            "TypeError: cannot pickle '_thread.RLock' object\n"
          ]
        },
        {
          "output_type": "error",
          "ename": "PicklingError",
          "evalue": "Could not serialize broadcast: TypeError: cannot pickle '_thread.RLock' object",
          "traceback": [
            "\u001b[0;31m---------------------------------------------------------------------------\u001b[0m",
            "\u001b[0;31mTypeError\u001b[0m                                 Traceback (most recent call last)",
            "\u001b[0;32m/usr/local/lib/python3.11/dist-packages/pyspark/broadcast.py\u001b[0m in \u001b[0;36mdump\u001b[0;34m(self, value, f)\u001b[0m\n\u001b[1;32m    182\u001b[0m         \u001b[0;32mtry\u001b[0m\u001b[0;34m:\u001b[0m\u001b[0;34m\u001b[0m\u001b[0;34m\u001b[0m\u001b[0m\n\u001b[0;32m--> 183\u001b[0;31m             \u001b[0mpickle\u001b[0m\u001b[0;34m.\u001b[0m\u001b[0mdump\u001b[0m\u001b[0;34m(\u001b[0m\u001b[0mvalue\u001b[0m\u001b[0;34m,\u001b[0m \u001b[0mf\u001b[0m\u001b[0;34m,\u001b[0m \u001b[0mpickle_protocol\u001b[0m\u001b[0;34m)\u001b[0m\u001b[0;34m\u001b[0m\u001b[0;34m\u001b[0m\u001b[0m\n\u001b[0m\u001b[1;32m    184\u001b[0m         \u001b[0;32mexcept\u001b[0m \u001b[0mpickle\u001b[0m\u001b[0;34m.\u001b[0m\u001b[0mPickleError\u001b[0m\u001b[0;34m:\u001b[0m\u001b[0;34m\u001b[0m\u001b[0;34m\u001b[0m\u001b[0m\n",
            "\u001b[0;31mTypeError\u001b[0m: cannot pickle '_thread.RLock' object",
            "\nDuring handling of the above exception, another exception occurred:\n",
            "\u001b[0;31mPicklingError\u001b[0m                             Traceback (most recent call last)",
            "\u001b[0;32m<ipython-input-43-ddf2bf9375e1>\u001b[0m in \u001b[0;36m<cell line: 0>\u001b[0;34m()\u001b[0m\n\u001b[1;32m      5\u001b[0m \u001b[0;34m\u001b[0m\u001b[0m\n\u001b[1;32m      6\u001b[0m \u001b[0;31m# Create a model broadcast variable for efficiency\u001b[0m\u001b[0;34m\u001b[0m\u001b[0;34m\u001b[0m\u001b[0m\n\u001b[0;32m----> 7\u001b[0;31m \u001b[0mmodel_broadcast\u001b[0m \u001b[0;34m=\u001b[0m \u001b[0mspark\u001b[0m\u001b[0;34m.\u001b[0m\u001b[0msparkContext\u001b[0m\u001b[0;34m.\u001b[0m\u001b[0mbroadcast\u001b[0m\u001b[0;34m(\u001b[0m\u001b[0madult_rf_model\u001b[0m\u001b[0;34m)\u001b[0m\u001b[0;34m\u001b[0m\u001b[0;34m\u001b[0m\u001b[0m\n\u001b[0m\u001b[1;32m      8\u001b[0m \u001b[0;34m\u001b[0m\u001b[0m\n\u001b[1;32m      9\u001b[0m \u001b[0;31m# Define prediction UDF\u001b[0m\u001b[0;34m\u001b[0m\u001b[0;34m\u001b[0m\u001b[0m\n",
            "\u001b[0;32m/usr/local/lib/python3.11/dist-packages/pyspark/context.py\u001b[0m in \u001b[0;36mbroadcast\u001b[0;34m(self, value)\u001b[0m\n\u001b[1;32m   1763\u001b[0m         \u001b[0;34m>>\u001b[0m\u001b[0;34m>\u001b[0m \u001b[0mbc\u001b[0m\u001b[0;34m.\u001b[0m\u001b[0mdestroy\u001b[0m\u001b[0;34m(\u001b[0m\u001b[0;34m)\u001b[0m\u001b[0;34m\u001b[0m\u001b[0;34m\u001b[0m\u001b[0m\n\u001b[1;32m   1764\u001b[0m         \"\"\"\n\u001b[0;32m-> 1765\u001b[0;31m         \u001b[0;32mreturn\u001b[0m \u001b[0mBroadcast\u001b[0m\u001b[0;34m(\u001b[0m\u001b[0mself\u001b[0m\u001b[0;34m,\u001b[0m \u001b[0mvalue\u001b[0m\u001b[0;34m,\u001b[0m \u001b[0mself\u001b[0m\u001b[0;34m.\u001b[0m\u001b[0m_pickled_broadcast_vars\u001b[0m\u001b[0;34m)\u001b[0m\u001b[0;34m\u001b[0m\u001b[0;34m\u001b[0m\u001b[0m\n\u001b[0m\u001b[1;32m   1766\u001b[0m \u001b[0;34m\u001b[0m\u001b[0m\n\u001b[1;32m   1767\u001b[0m     def accumulator(\n",
            "\u001b[0;32m/usr/local/lib/python3.11/dist-packages/pyspark/broadcast.py\u001b[0m in \u001b[0;36m__init__\u001b[0;34m(self, sc, value, pickle_registry, path, sock_file)\u001b[0m\n\u001b[1;32m    133\u001b[0m                 \u001b[0;31m# no encryption, we can just write pickled data directly to the file from python\u001b[0m\u001b[0;34m\u001b[0m\u001b[0;34m\u001b[0m\u001b[0m\n\u001b[1;32m    134\u001b[0m                 \u001b[0mbroadcast_out\u001b[0m \u001b[0;34m=\u001b[0m \u001b[0mf\u001b[0m\u001b[0;34m\u001b[0m\u001b[0;34m\u001b[0m\u001b[0m\n\u001b[0;32m--> 135\u001b[0;31m             \u001b[0mself\u001b[0m\u001b[0;34m.\u001b[0m\u001b[0mdump\u001b[0m\u001b[0;34m(\u001b[0m\u001b[0mvalue\u001b[0m\u001b[0;34m,\u001b[0m \u001b[0mbroadcast_out\u001b[0m\u001b[0;34m)\u001b[0m  \u001b[0;31m# type: ignore[arg-type]\u001b[0m\u001b[0;34m\u001b[0m\u001b[0;34m\u001b[0m\u001b[0m\n\u001b[0m\u001b[1;32m    136\u001b[0m             \u001b[0;32mif\u001b[0m \u001b[0msc\u001b[0m\u001b[0;34m.\u001b[0m\u001b[0m_encryption_enabled\u001b[0m\u001b[0;34m:\u001b[0m\u001b[0;34m\u001b[0m\u001b[0;34m\u001b[0m\u001b[0m\n\u001b[1;32m    137\u001b[0m                 \u001b[0mself\u001b[0m\u001b[0;34m.\u001b[0m\u001b[0m_python_broadcast\u001b[0m\u001b[0;34m.\u001b[0m\u001b[0mwaitTillDataReceived\u001b[0m\u001b[0;34m(\u001b[0m\u001b[0;34m)\u001b[0m\u001b[0;34m\u001b[0m\u001b[0;34m\u001b[0m\u001b[0m\n",
            "\u001b[0;32m/usr/local/lib/python3.11/dist-packages/pyspark/broadcast.py\u001b[0m in \u001b[0;36mdump\u001b[0;34m(self, value, f)\u001b[0m\n\u001b[1;32m    187\u001b[0m             \u001b[0mmsg\u001b[0m \u001b[0;34m=\u001b[0m \u001b[0;34m\"Could not serialize broadcast: %s: %s\"\u001b[0m \u001b[0;34m%\u001b[0m \u001b[0;34m(\u001b[0m\u001b[0me\u001b[0m\u001b[0;34m.\u001b[0m\u001b[0m__class__\u001b[0m\u001b[0;34m.\u001b[0m\u001b[0m__name__\u001b[0m\u001b[0;34m,\u001b[0m \u001b[0mstr\u001b[0m\u001b[0;34m(\u001b[0m\u001b[0me\u001b[0m\u001b[0;34m)\u001b[0m\u001b[0;34m)\u001b[0m\u001b[0;34m\u001b[0m\u001b[0;34m\u001b[0m\u001b[0m\n\u001b[1;32m    188\u001b[0m             \u001b[0mprint_exec\u001b[0m\u001b[0;34m(\u001b[0m\u001b[0msys\u001b[0m\u001b[0;34m.\u001b[0m\u001b[0mstderr\u001b[0m\u001b[0;34m)\u001b[0m\u001b[0;34m\u001b[0m\u001b[0;34m\u001b[0m\u001b[0m\n\u001b[0;32m--> 189\u001b[0;31m             \u001b[0;32mraise\u001b[0m \u001b[0mpickle\u001b[0m\u001b[0;34m.\u001b[0m\u001b[0mPicklingError\u001b[0m\u001b[0;34m(\u001b[0m\u001b[0mmsg\u001b[0m\u001b[0;34m)\u001b[0m\u001b[0;34m\u001b[0m\u001b[0;34m\u001b[0m\u001b[0m\n\u001b[0m\u001b[1;32m    190\u001b[0m         \u001b[0mf\u001b[0m\u001b[0;34m.\u001b[0m\u001b[0mclose\u001b[0m\u001b[0;34m(\u001b[0m\u001b[0;34m)\u001b[0m\u001b[0;34m\u001b[0m\u001b[0;34m\u001b[0m\u001b[0m\n\u001b[1;32m    191\u001b[0m \u001b[0;34m\u001b[0m\u001b[0m\n",
            "\u001b[0;31mPicklingError\u001b[0m: Could not serialize broadcast: TypeError: cannot pickle '_thread.RLock' object"
          ]
        }
      ]
    },
    {
      "cell_type": "code",
      "source": [
        "\n",
        "# Cell 24: Custom Evaluation Metrics\n",
        "# ---------------------------------\n",
        "# Function to calculate custom metrics\n",
        "def calculate_custom_metrics(predictions):\n",
        "    # Convert predictions to pandas for easier calculations\n",
        "    pred_pd = predictions.select(\"label\", \"prediction\").toPandas()\n",
        "\n",
        "    # True positives, false positives, true negatives, false negatives\n",
        "    tp = ((pred_pd[\"prediction\"] == 1) & (pred_pd[\"label\"] == 1)).sum()\n",
        "    fp = ((pred_pd[\"prediction\"] == 1) & (pred_pd[\"label\"] == 0)).sum()\n",
        "    tn = ((pred_pd[\"prediction\"] == 0) & (pred_pd[\"label\"] == 0)).sum()\n",
        "    fn = ((pred_pd[\"prediction\"] == 0) & (pred_pd[\"label\"] == 1)).sum()\n",
        "\n",
        "    # Calculate metrics\n",
        "    accuracy = (tp + tn) / (tp + tn + fp + fn)\n",
        "    precision = tp / (tp + fp) if (tp + fp) > 0 else 0\n",
        "    recall = tp / (tp + fn) if (tp + fn) > 0 else 0\n",
        "    f1 = 2 * precision * recall / (precision + recall) if (precision + recall) > 0 else 0\n",
        "\n",
        "    return {\n",
        "        \"accuracy\": accuracy,\n",
        "        \"precision\": precision,\n",
        "        \"recall\": recall,\n",
        "        \"f1\": f1,\n",
        "        \"confusion_matrix\": {\n",
        "            \"tp\": tp, \"fp\": fp,\n",
        "            \"tn\": tn, \"fn\": fn\n",
        "        }\n",
        "    }\n",
        "\n",
        "\n",
        "# Calculate custom metrics on the Adult dataset predictions\n",
        "custom_metrics = calculate_custom_metrics(adult_predictions)\n",
        "print(\"Custom Metrics:\")\n",
        "for metric, value in custom_metrics.items():\n",
        "    if metric != \"confusion_matrix\":\n",
        "        print(f\"{metric}: {value:.4f}\")\n",
        "    else:\n",
        "        print(f\"{metric}: {value}\")"
      ],
      "metadata": {
        "colab": {
          "base_uri": "https://localhost:8080/"
        },
        "id": "3TFPDHqHNzvf",
        "outputId": "160ed634-ca88-4c37-cefc-b461c06636b7"
      },
      "execution_count": 41,
      "outputs": [
        {
          "output_type": "stream",
          "name": "stdout",
          "text": [
            "Custom Metrics:\n",
            "accuracy: 0.8455\n",
            "precision: 0.7720\n",
            "recall: 0.5174\n",
            "f1: 0.6196\n",
            "confusion_matrix: {'tp': np.int64(816), 'fp': np.int64(241), 'tn': np.int64(4667), 'fn': np.int64(761)}\n"
          ]
        }
      ]
    },
    {
      "cell_type": "code",
      "source": [
        "\n",
        "# Cell 25: Clean up and Close\n",
        "# --------------------------\n",
        "# Stop the Spark session\n",
        "spark.stop()\n",
        "print(\"Spark session stopped.\")"
      ],
      "metadata": {
        "colab": {
          "base_uri": "https://localhost:8080/"
        },
        "id": "I3X7fPeFN0Fj",
        "outputId": "864b573b-c0bd-41f9-fe0e-e50bb413aaf4"
      },
      "execution_count": 42,
      "outputs": [
        {
          "output_type": "stream",
          "name": "stdout",
          "text": [
            "Spark session stopped.\n"
          ]
        }
      ]
    },
    {
      "cell_type": "code",
      "source": [],
      "metadata": {
        "id": "4r6ainybN0Qk"
      },
      "execution_count": null,
      "outputs": []
    },
    {
      "cell_type": "code",
      "source": [],
      "metadata": {
        "id": "q9Yf1poPN0Zy"
      },
      "execution_count": null,
      "outputs": []
    },
    {
      "cell_type": "code",
      "source": [],
      "metadata": {
        "id": "vYPkR2YtN0eQ"
      },
      "execution_count": null,
      "outputs": []
    },
    {
      "cell_type": "code",
      "source": [],
      "metadata": {
        "id": "peASqN6xN0h4"
      },
      "execution_count": null,
      "outputs": []
    }
  ]
}
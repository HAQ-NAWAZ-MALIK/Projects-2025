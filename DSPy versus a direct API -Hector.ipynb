{
  "cells": [
    {
      "cell_type": "markdown",
      "source": [
        "# **A comaprtive analysis DSPy versus a direct API **---- HECTOR ----HNM"
      ],
      "metadata": {
        "id": "KNtdzSGbBF_a"
      }
    },
    {
      "cell_type": "markdown",
      "source": [
        "**Install Required Libraries**"
      ],
      "metadata": {
        "id": "pN_8j6Pf9dvQ"
      }
    },
    {
      "cell_type": "code",
      "source": [
        "!pip install openai PyPDF2 matplotlib tiktoken\n",
        "!pip install dspy\n"
      ],
      "metadata": {
        "id": "IMcy1CUuxyJX",
        "outputId": "66192de2-5d97-405a-aa58-3fdbe562eef6",
        "colab": {
          "base_uri": "https://localhost:8080/"
        }
      },
      "execution_count": 1,
      "outputs": [
        {
          "output_type": "stream",
          "name": "stdout",
          "text": [
            "Requirement already satisfied: openai in /usr/local/lib/python3.11/dist-packages (1.61.1)\n",
            "Collecting PyPDF2\n",
            "  Downloading pypdf2-3.0.1-py3-none-any.whl.metadata (6.8 kB)\n",
            "Requirement already satisfied: matplotlib in /usr/local/lib/python3.11/dist-packages (3.10.0)\n",
            "Collecting tiktoken\n",
            "  Downloading tiktoken-0.9.0-cp311-cp311-manylinux_2_17_x86_64.manylinux2014_x86_64.whl.metadata (6.7 kB)\n",
            "Requirement already satisfied: anyio<5,>=3.5.0 in /usr/local/lib/python3.11/dist-packages (from openai) (3.7.1)\n",
            "Requirement already satisfied: distro<2,>=1.7.0 in /usr/local/lib/python3.11/dist-packages (from openai) (1.9.0)\n",
            "Requirement already satisfied: httpx<1,>=0.23.0 in /usr/local/lib/python3.11/dist-packages (from openai) (0.28.1)\n",
            "Requirement already satisfied: jiter<1,>=0.4.0 in /usr/local/lib/python3.11/dist-packages (from openai) (0.9.0)\n",
            "Requirement already satisfied: pydantic<3,>=1.9.0 in /usr/local/lib/python3.11/dist-packages (from openai) (2.10.6)\n",
            "Requirement already satisfied: sniffio in /usr/local/lib/python3.11/dist-packages (from openai) (1.3.1)\n",
            "Requirement already satisfied: tqdm>4 in /usr/local/lib/python3.11/dist-packages (from openai) (4.67.1)\n",
            "Requirement already satisfied: typing-extensions<5,>=4.11 in /usr/local/lib/python3.11/dist-packages (from openai) (4.12.2)\n",
            "Requirement already satisfied: contourpy>=1.0.1 in /usr/local/lib/python3.11/dist-packages (from matplotlib) (1.3.1)\n",
            "Requirement already satisfied: cycler>=0.10 in /usr/local/lib/python3.11/dist-packages (from matplotlib) (0.12.1)\n",
            "Requirement already satisfied: fonttools>=4.22.0 in /usr/local/lib/python3.11/dist-packages (from matplotlib) (4.56.0)\n",
            "Requirement already satisfied: kiwisolver>=1.3.1 in /usr/local/lib/python3.11/dist-packages (from matplotlib) (1.4.8)\n",
            "Requirement already satisfied: numpy>=1.23 in /usr/local/lib/python3.11/dist-packages (from matplotlib) (1.26.4)\n",
            "Requirement already satisfied: packaging>=20.0 in /usr/local/lib/python3.11/dist-packages (from matplotlib) (24.2)\n",
            "Requirement already satisfied: pillow>=8 in /usr/local/lib/python3.11/dist-packages (from matplotlib) (11.1.0)\n",
            "Requirement already satisfied: pyparsing>=2.3.1 in /usr/local/lib/python3.11/dist-packages (from matplotlib) (3.2.1)\n",
            "Requirement already satisfied: python-dateutil>=2.7 in /usr/local/lib/python3.11/dist-packages (from matplotlib) (2.8.2)\n",
            "Requirement already satisfied: regex>=2022.1.18 in /usr/local/lib/python3.11/dist-packages (from tiktoken) (2024.11.6)\n",
            "Requirement already satisfied: requests>=2.26.0 in /usr/local/lib/python3.11/dist-packages (from tiktoken) (2.32.3)\n",
            "Requirement already satisfied: idna>=2.8 in /usr/local/lib/python3.11/dist-packages (from anyio<5,>=3.5.0->openai) (3.10)\n",
            "Requirement already satisfied: certifi in /usr/local/lib/python3.11/dist-packages (from httpx<1,>=0.23.0->openai) (2025.1.31)\n",
            "Requirement already satisfied: httpcore==1.* in /usr/local/lib/python3.11/dist-packages (from httpx<1,>=0.23.0->openai) (1.0.7)\n",
            "Requirement already satisfied: h11<0.15,>=0.13 in /usr/local/lib/python3.11/dist-packages (from httpcore==1.*->httpx<1,>=0.23.0->openai) (0.14.0)\n",
            "Requirement already satisfied: annotated-types>=0.6.0 in /usr/local/lib/python3.11/dist-packages (from pydantic<3,>=1.9.0->openai) (0.7.0)\n",
            "Requirement already satisfied: pydantic-core==2.27.2 in /usr/local/lib/python3.11/dist-packages (from pydantic<3,>=1.9.0->openai) (2.27.2)\n",
            "Requirement already satisfied: six>=1.5 in /usr/local/lib/python3.11/dist-packages (from python-dateutil>=2.7->matplotlib) (1.17.0)\n",
            "Requirement already satisfied: charset-normalizer<4,>=2 in /usr/local/lib/python3.11/dist-packages (from requests>=2.26.0->tiktoken) (3.4.1)\n",
            "Requirement already satisfied: urllib3<3,>=1.21.1 in /usr/local/lib/python3.11/dist-packages (from requests>=2.26.0->tiktoken) (2.3.0)\n",
            "Downloading pypdf2-3.0.1-py3-none-any.whl (232 kB)\n",
            "\u001b[2K   \u001b[90m━━━━━━━━━━━━━━━━━━━━━━━━━━━━━━━━━━━━━━━━\u001b[0m \u001b[32m232.6/232.6 kB\u001b[0m \u001b[31m4.4 MB/s\u001b[0m eta \u001b[36m0:00:00\u001b[0m\n",
            "\u001b[?25hDownloading tiktoken-0.9.0-cp311-cp311-manylinux_2_17_x86_64.manylinux2014_x86_64.whl (1.2 MB)\n",
            "\u001b[2K   \u001b[90m━━━━━━━━━━━━━━━━━━━━━━━━━━━━━━━━━━━━━━━━\u001b[0m \u001b[32m1.2/1.2 MB\u001b[0m \u001b[31m23.3 MB/s\u001b[0m eta \u001b[36m0:00:00\u001b[0m\n",
            "\u001b[?25hInstalling collected packages: PyPDF2, tiktoken\n",
            "Successfully installed PyPDF2-3.0.1 tiktoken-0.9.0\n",
            "Collecting dspy\n",
            "  Downloading dspy-2.6.12-py3-none-any.whl.metadata (7.2 kB)\n",
            "Collecting backoff (from dspy)\n",
            "  Downloading backoff-2.2.1-py3-none-any.whl.metadata (14 kB)\n",
            "Requirement already satisfied: joblib~=1.3 in /usr/local/lib/python3.11/dist-packages (from dspy) (1.4.2)\n",
            "Requirement already satisfied: openai in /usr/local/lib/python3.11/dist-packages (from dspy) (1.61.1)\n",
            "Requirement already satisfied: pandas in /usr/local/lib/python3.11/dist-packages (from dspy) (2.2.2)\n",
            "Requirement already satisfied: regex in /usr/local/lib/python3.11/dist-packages (from dspy) (2024.11.6)\n",
            "Collecting ujson (from dspy)\n",
            "  Downloading ujson-5.10.0-cp311-cp311-manylinux_2_17_x86_64.manylinux2014_x86_64.whl.metadata (9.3 kB)\n",
            "Requirement already satisfied: tqdm in /usr/local/lib/python3.11/dist-packages (from dspy) (4.67.1)\n",
            "Collecting datasets>=2.14.6 (from dspy)\n",
            "  Downloading datasets-3.3.2-py3-none-any.whl.metadata (19 kB)\n",
            "Requirement already satisfied: requests in /usr/local/lib/python3.11/dist-packages (from dspy) (2.32.3)\n",
            "Collecting optuna (from dspy)\n",
            "  Downloading optuna-4.2.1-py3-none-any.whl.metadata (17 kB)\n",
            "Requirement already satisfied: pydantic~=2.0 in /usr/local/lib/python3.11/dist-packages (from dspy) (2.10.6)\n",
            "Collecting magicattr~=0.1.6 (from dspy)\n",
            "  Downloading magicattr-0.1.6-py2.py3-none-any.whl.metadata (3.2 kB)\n",
            "Collecting litellm<2.0.0,>=1.59.8 (from dspy)\n",
            "  Downloading litellm-1.63.8-py3-none-any.whl.metadata (36 kB)\n",
            "Collecting diskcache (from dspy)\n",
            "  Downloading diskcache-5.6.3-py3-none-any.whl.metadata (20 kB)\n",
            "Collecting json-repair (from dspy)\n",
            "  Downloading json_repair-0.39.1-py3-none-any.whl.metadata (11 kB)\n",
            "Requirement already satisfied: tenacity>=8.2.3 in /usr/local/lib/python3.11/dist-packages (from dspy) (9.0.0)\n",
            "Requirement already satisfied: anyio in /usr/local/lib/python3.11/dist-packages (from dspy) (3.7.1)\n",
            "Collecting asyncer==0.0.8 (from dspy)\n",
            "  Downloading asyncer-0.0.8-py3-none-any.whl.metadata (6.7 kB)\n",
            "Requirement already satisfied: cachetools in /usr/local/lib/python3.11/dist-packages (from dspy) (5.5.2)\n",
            "Requirement already satisfied: cloudpickle in /usr/local/lib/python3.11/dist-packages (from dspy) (3.1.1)\n",
            "Requirement already satisfied: idna>=2.8 in /usr/local/lib/python3.11/dist-packages (from anyio->dspy) (3.10)\n",
            "Requirement already satisfied: sniffio>=1.1 in /usr/local/lib/python3.11/dist-packages (from anyio->dspy) (1.3.1)\n",
            "Requirement already satisfied: filelock in /usr/local/lib/python3.11/dist-packages (from datasets>=2.14.6->dspy) (3.17.0)\n",
            "Requirement already satisfied: numpy>=1.17 in /usr/local/lib/python3.11/dist-packages (from datasets>=2.14.6->dspy) (1.26.4)\n",
            "Requirement already satisfied: pyarrow>=15.0.0 in /usr/local/lib/python3.11/dist-packages (from datasets>=2.14.6->dspy) (18.1.0)\n",
            "Collecting dill<0.3.9,>=0.3.0 (from datasets>=2.14.6->dspy)\n",
            "  Downloading dill-0.3.8-py3-none-any.whl.metadata (10 kB)\n",
            "Collecting xxhash (from datasets>=2.14.6->dspy)\n",
            "  Downloading xxhash-3.5.0-cp311-cp311-manylinux_2_17_x86_64.manylinux2014_x86_64.whl.metadata (12 kB)\n",
            "Collecting multiprocess<0.70.17 (from datasets>=2.14.6->dspy)\n",
            "  Downloading multiprocess-0.70.16-py311-none-any.whl.metadata (7.2 kB)\n",
            "Requirement already satisfied: fsspec<=2024.12.0,>=2023.1.0 in /usr/local/lib/python3.11/dist-packages (from fsspec[http]<=2024.12.0,>=2023.1.0->datasets>=2.14.6->dspy) (2024.10.0)\n",
            "Requirement already satisfied: aiohttp in /usr/local/lib/python3.11/dist-packages (from datasets>=2.14.6->dspy) (3.11.13)\n",
            "Requirement already satisfied: huggingface-hub>=0.24.0 in /usr/local/lib/python3.11/dist-packages (from datasets>=2.14.6->dspy) (0.28.1)\n",
            "Requirement already satisfied: packaging in /usr/local/lib/python3.11/dist-packages (from datasets>=2.14.6->dspy) (24.2)\n",
            "Requirement already satisfied: pyyaml>=5.1 in /usr/local/lib/python3.11/dist-packages (from datasets>=2.14.6->dspy) (6.0.2)\n",
            "Requirement already satisfied: click in /usr/local/lib/python3.11/dist-packages (from litellm<2.0.0,>=1.59.8->dspy) (8.1.8)\n",
            "Requirement already satisfied: httpx>=0.23.0 in /usr/local/lib/python3.11/dist-packages (from litellm<2.0.0,>=1.59.8->dspy) (0.28.1)\n",
            "Requirement already satisfied: importlib-metadata>=6.8.0 in /usr/local/lib/python3.11/dist-packages (from litellm<2.0.0,>=1.59.8->dspy) (8.6.1)\n",
            "Requirement already satisfied: jinja2<4.0.0,>=3.1.2 in /usr/local/lib/python3.11/dist-packages (from litellm<2.0.0,>=1.59.8->dspy) (3.1.6)\n",
            "Requirement already satisfied: jsonschema<5.0.0,>=4.22.0 in /usr/local/lib/python3.11/dist-packages (from litellm<2.0.0,>=1.59.8->dspy) (4.23.0)\n",
            "Collecting openai (from dspy)\n",
            "  Downloading openai-1.66.3-py3-none-any.whl.metadata (25 kB)\n",
            "Collecting python-dotenv>=0.2.0 (from litellm<2.0.0,>=1.59.8->dspy)\n",
            "  Downloading python_dotenv-1.0.1-py3-none-any.whl.metadata (23 kB)\n",
            "Requirement already satisfied: tiktoken>=0.7.0 in /usr/local/lib/python3.11/dist-packages (from litellm<2.0.0,>=1.59.8->dspy) (0.9.0)\n",
            "Requirement already satisfied: tokenizers in /usr/local/lib/python3.11/dist-packages (from litellm<2.0.0,>=1.59.8->dspy) (0.21.0)\n",
            "Requirement already satisfied: distro<2,>=1.7.0 in /usr/local/lib/python3.11/dist-packages (from openai->dspy) (1.9.0)\n",
            "Requirement already satisfied: jiter<1,>=0.4.0 in /usr/local/lib/python3.11/dist-packages (from openai->dspy) (0.9.0)\n",
            "Requirement already satisfied: typing-extensions<5,>=4.11 in /usr/local/lib/python3.11/dist-packages (from openai->dspy) (4.12.2)\n",
            "Requirement already satisfied: annotated-types>=0.6.0 in /usr/local/lib/python3.11/dist-packages (from pydantic~=2.0->dspy) (0.7.0)\n",
            "Requirement already satisfied: pydantic-core==2.27.2 in /usr/local/lib/python3.11/dist-packages (from pydantic~=2.0->dspy) (2.27.2)\n",
            "Requirement already satisfied: charset-normalizer<4,>=2 in /usr/local/lib/python3.11/dist-packages (from requests->dspy) (3.4.1)\n",
            "Requirement already satisfied: urllib3<3,>=1.21.1 in /usr/local/lib/python3.11/dist-packages (from requests->dspy) (2.3.0)\n",
            "Requirement already satisfied: certifi>=2017.4.17 in /usr/local/lib/python3.11/dist-packages (from requests->dspy) (2025.1.31)\n",
            "Collecting alembic>=1.5.0 (from optuna->dspy)\n",
            "  Downloading alembic-1.15.1-py3-none-any.whl.metadata (7.2 kB)\n",
            "Collecting colorlog (from optuna->dspy)\n",
            "  Downloading colorlog-6.9.0-py3-none-any.whl.metadata (10 kB)\n",
            "Requirement already satisfied: sqlalchemy>=1.4.2 in /usr/local/lib/python3.11/dist-packages (from optuna->dspy) (2.0.38)\n",
            "Requirement already satisfied: python-dateutil>=2.8.2 in /usr/local/lib/python3.11/dist-packages (from pandas->dspy) (2.8.2)\n",
            "Requirement already satisfied: pytz>=2020.1 in /usr/local/lib/python3.11/dist-packages (from pandas->dspy) (2025.1)\n",
            "Requirement already satisfied: tzdata>=2022.7 in /usr/local/lib/python3.11/dist-packages (from pandas->dspy) (2025.1)\n",
            "Collecting Mako (from alembic>=1.5.0->optuna->dspy)\n",
            "  Downloading Mako-1.3.9-py3-none-any.whl.metadata (2.9 kB)\n",
            "Requirement already satisfied: aiohappyeyeballs>=2.3.0 in /usr/local/lib/python3.11/dist-packages (from aiohttp->datasets>=2.14.6->dspy) (2.5.0)\n",
            "Requirement already satisfied: aiosignal>=1.1.2 in /usr/local/lib/python3.11/dist-packages (from aiohttp->datasets>=2.14.6->dspy) (1.3.2)\n",
            "Requirement already satisfied: attrs>=17.3.0 in /usr/local/lib/python3.11/dist-packages (from aiohttp->datasets>=2.14.6->dspy) (25.1.0)\n",
            "Requirement already satisfied: frozenlist>=1.1.1 in /usr/local/lib/python3.11/dist-packages (from aiohttp->datasets>=2.14.6->dspy) (1.5.0)\n",
            "Requirement already satisfied: multidict<7.0,>=4.5 in /usr/local/lib/python3.11/dist-packages (from aiohttp->datasets>=2.14.6->dspy) (6.1.0)\n",
            "Requirement already satisfied: propcache>=0.2.0 in /usr/local/lib/python3.11/dist-packages (from aiohttp->datasets>=2.14.6->dspy) (0.3.0)\n",
            "Requirement already satisfied: yarl<2.0,>=1.17.0 in /usr/local/lib/python3.11/dist-packages (from aiohttp->datasets>=2.14.6->dspy) (1.18.3)\n",
            "Requirement already satisfied: httpcore==1.* in /usr/local/lib/python3.11/dist-packages (from httpx>=0.23.0->litellm<2.0.0,>=1.59.8->dspy) (1.0.7)\n",
            "Requirement already satisfied: h11<0.15,>=0.13 in /usr/local/lib/python3.11/dist-packages (from httpcore==1.*->httpx>=0.23.0->litellm<2.0.0,>=1.59.8->dspy) (0.14.0)\n",
            "Requirement already satisfied: zipp>=3.20 in /usr/local/lib/python3.11/dist-packages (from importlib-metadata>=6.8.0->litellm<2.0.0,>=1.59.8->dspy) (3.21.0)\n",
            "Requirement already satisfied: MarkupSafe>=2.0 in /usr/local/lib/python3.11/dist-packages (from jinja2<4.0.0,>=3.1.2->litellm<2.0.0,>=1.59.8->dspy) (3.0.2)\n",
            "Requirement already satisfied: jsonschema-specifications>=2023.03.6 in /usr/local/lib/python3.11/dist-packages (from jsonschema<5.0.0,>=4.22.0->litellm<2.0.0,>=1.59.8->dspy) (2024.10.1)\n",
            "Requirement already satisfied: referencing>=0.28.4 in /usr/local/lib/python3.11/dist-packages (from jsonschema<5.0.0,>=4.22.0->litellm<2.0.0,>=1.59.8->dspy) (0.36.2)\n",
            "Requirement already satisfied: rpds-py>=0.7.1 in /usr/local/lib/python3.11/dist-packages (from jsonschema<5.0.0,>=4.22.0->litellm<2.0.0,>=1.59.8->dspy) (0.23.1)\n",
            "Requirement already satisfied: six>=1.5 in /usr/local/lib/python3.11/dist-packages (from python-dateutil>=2.8.2->pandas->dspy) (1.17.0)\n",
            "Requirement already satisfied: greenlet!=0.4.17 in /usr/local/lib/python3.11/dist-packages (from sqlalchemy>=1.4.2->optuna->dspy) (3.1.1)\n",
            "Downloading dspy-2.6.12-py3-none-any.whl (258 kB)\n",
            "\u001b[2K   \u001b[90m━━━━━━━━━━━━━━━━━━━━━━━━━━━━━━━━━━━━━━━━\u001b[0m \u001b[32m259.0/259.0 kB\u001b[0m \u001b[31m4.7 MB/s\u001b[0m eta \u001b[36m0:00:00\u001b[0m\n",
            "\u001b[?25hDownloading asyncer-0.0.8-py3-none-any.whl (9.2 kB)\n",
            "Downloading datasets-3.3.2-py3-none-any.whl (485 kB)\n",
            "\u001b[2K   \u001b[90m━━━━━━━━━━━━━━━━━━━━━━━━━━━━━━━━━━━━━━━━\u001b[0m \u001b[32m485.4/485.4 kB\u001b[0m \u001b[31m12.5 MB/s\u001b[0m eta \u001b[36m0:00:00\u001b[0m\n",
            "\u001b[?25hDownloading litellm-1.63.8-py3-none-any.whl (6.9 MB)\n",
            "\u001b[2K   \u001b[90m━━━━━━━━━━━━━━━━━━━━━━━━━━━━━━━━━━━━━━━━\u001b[0m \u001b[32m6.9/6.9 MB\u001b[0m \u001b[31m11.8 MB/s\u001b[0m eta \u001b[36m0:00:00\u001b[0m\n",
            "\u001b[?25hDownloading magicattr-0.1.6-py2.py3-none-any.whl (4.7 kB)\n",
            "Downloading openai-1.66.3-py3-none-any.whl (567 kB)\n",
            "\u001b[2K   \u001b[90m━━━━━━━━━━━━━━━━━━━━━━━━━━━━━━━━━━━━━━━━\u001b[0m \u001b[32m567.4/567.4 kB\u001b[0m \u001b[31m9.4 MB/s\u001b[0m eta \u001b[36m0:00:00\u001b[0m\n",
            "\u001b[?25hDownloading backoff-2.2.1-py3-none-any.whl (15 kB)\n",
            "Downloading diskcache-5.6.3-py3-none-any.whl (45 kB)\n",
            "\u001b[2K   \u001b[90m━━━━━━━━━━━━━━━━━━━━━━━━━━━━━━━━━━━━━━━━\u001b[0m \u001b[32m45.5/45.5 kB\u001b[0m \u001b[31m2.5 MB/s\u001b[0m eta \u001b[36m0:00:00\u001b[0m\n",
            "\u001b[?25hDownloading json_repair-0.39.1-py3-none-any.whl (20 kB)\n",
            "Downloading optuna-4.2.1-py3-none-any.whl (383 kB)\n",
            "\u001b[2K   \u001b[90m━━━━━━━━━━━━━━━━━━━━━━━━━━━━━━━━━━━━━━━━\u001b[0m \u001b[32m383.6/383.6 kB\u001b[0m \u001b[31m8.4 MB/s\u001b[0m eta \u001b[36m0:00:00\u001b[0m\n",
            "\u001b[?25hDownloading ujson-5.10.0-cp311-cp311-manylinux_2_17_x86_64.manylinux2014_x86_64.whl (53 kB)\n",
            "\u001b[2K   \u001b[90m━━━━━━━━━━━━━━━━━━━━━━━━━━━━━━━━━━━━━━━━\u001b[0m \u001b[32m53.6/53.6 kB\u001b[0m \u001b[31m3.9 MB/s\u001b[0m eta \u001b[36m0:00:00\u001b[0m\n",
            "\u001b[?25hDownloading alembic-1.15.1-py3-none-any.whl (231 kB)\n",
            "\u001b[2K   \u001b[90m━━━━━━━━━━━━━━━━━━━━━━━━━━━━━━━━━━━━━━━━\u001b[0m \u001b[32m231.8/231.8 kB\u001b[0m \u001b[31m8.4 MB/s\u001b[0m eta \u001b[36m0:00:00\u001b[0m\n",
            "\u001b[?25hDownloading dill-0.3.8-py3-none-any.whl (116 kB)\n",
            "\u001b[2K   \u001b[90m━━━━━━━━━━━━━━━━━━━━━━━━━━━━━━━━━━━━━━━━\u001b[0m \u001b[32m116.3/116.3 kB\u001b[0m \u001b[31m7.6 MB/s\u001b[0m eta \u001b[36m0:00:00\u001b[0m\n",
            "\u001b[?25hDownloading multiprocess-0.70.16-py311-none-any.whl (143 kB)\n",
            "\u001b[2K   \u001b[90m━━━━━━━━━━━━━━━━━━━━━━━━━━━━━━━━━━━━━━━━\u001b[0m \u001b[32m143.5/143.5 kB\u001b[0m \u001b[31m5.5 MB/s\u001b[0m eta \u001b[36m0:00:00\u001b[0m\n",
            "\u001b[?25hDownloading python_dotenv-1.0.1-py3-none-any.whl (19 kB)\n",
            "Downloading colorlog-6.9.0-py3-none-any.whl (11 kB)\n",
            "Downloading xxhash-3.5.0-cp311-cp311-manylinux_2_17_x86_64.manylinux2014_x86_64.whl (194 kB)\n",
            "\u001b[2K   \u001b[90m━━━━━━━━━━━━━━━━━━━━━━━━━━━━━━━━━━━━━━━━\u001b[0m \u001b[32m194.8/194.8 kB\u001b[0m \u001b[31m5.1 MB/s\u001b[0m eta \u001b[36m0:00:00\u001b[0m\n",
            "\u001b[?25hDownloading Mako-1.3.9-py3-none-any.whl (78 kB)\n",
            "\u001b[2K   \u001b[90m━━━━━━━━━━━━━━━━━━━━━━━━━━━━━━━━━━━━━━━━\u001b[0m \u001b[32m78.5/78.5 kB\u001b[0m \u001b[31m3.7 MB/s\u001b[0m eta \u001b[36m0:00:00\u001b[0m\n",
            "\u001b[?25hInstalling collected packages: magicattr, xxhash, ujson, python-dotenv, Mako, json-repair, diskcache, dill, colorlog, backoff, multiprocess, asyncer, alembic, optuna, openai, litellm, datasets, dspy\n",
            "  Attempting uninstall: openai\n",
            "    Found existing installation: openai 1.61.1\n",
            "    Uninstalling openai-1.61.1:\n",
            "      Successfully uninstalled openai-1.61.1\n",
            "Successfully installed Mako-1.3.9 alembic-1.15.1 asyncer-0.0.8 backoff-2.2.1 colorlog-6.9.0 datasets-3.3.2 dill-0.3.8 diskcache-5.6.3 dspy-2.6.12 json-repair-0.39.1 litellm-1.63.8 magicattr-0.1.6 multiprocess-0.70.16 openai-1.66.3 optuna-4.2.1 python-dotenv-1.0.1 ujson-5.10.0 xxhash-3.5.0\n"
          ]
        }
      ]
    },
    {
      "cell_type": "markdown",
      "source": [
        "**Setup OpenAI API and Import Libraries**"
      ],
      "metadata": {
        "id": "0I3yyxtj9sZf"
      }
    },
    {
      "cell_type": "code",
      "source": [
        "import openai\n",
        "import dspy\n",
        "import matplotlib.pyplot as plt\n",
        "\n",
        "# Set your OpenAI API key here\n",
        "openai.api_key = \"Your_API_KEY\"\n",
        "\n",
        "# Configure DSPy with your language model (using GPT-4)\n",
        "lm = dspy.LM(\"openai/gpt-4\", api_key=openai.api_key)\n",
        "dspy.configure(lm=lm)\n",
        "\n",
        "# For reproducibility\n",
        "import random\n",
        "random.seed(42)\n"
      ],
      "metadata": {
        "id": "wjvRkUrgzP7S"
      },
      "execution_count": 2,
      "outputs": []
    },
    {
      "cell_type": "markdown",
      "source": [
        "**Helper Function for Direct API Calls**"
      ],
      "metadata": {
        "id": "OTky9mn390cH"
      }
    },
    {
      "source": [
        "def direct_question_answering(question):\n",
        "    prompt = f\"Answer the following question clearly:\\n\\nQuestion: {question}\\nAnswer:\"\n",
        "    # Initialize the OpenAI client, passing the api_key explicitly\n",
        "    client = openai.OpenAI(api_key=openai.api_key)\n",
        "    # Use the new client.chat.completions.create method\n",
        "    response = client.chat.completions.create(\n",
        "        model=\"gpt-4\",\n",
        "        messages=[\n",
        "            {\"role\": \"system\", \"content\": \"You are an expert question answering assistant.\"},\n",
        "            {\"role\": \"user\", \"content\": prompt}\n",
        "        ],\n",
        "        max_tokens=50,\n",
        "        temperature=0.5\n",
        "    )\n",
        "    # Access the content using .content instead of ['content']\n",
        "    return response.choices[0].message.content.strip()\n",
        "\n",
        "def direct_summarization(passage):\n",
        "    prompt = (\n",
        "        \"You are an expert summarizer. Please provide a clear, structured, and comprehensive summary of the following text. \"\n",
        "        \"Use chain-of-thought reasoning to explain key points and then produce the final summary.\\n\\nPassage:\\n\" + passage\n",
        "    )\n",
        "    # Initialize the OpenAI client, passing the api_key explicitly\n",
        "    client = openai.OpenAI(api_key=openai.api_key)\n",
        "    # Use the new client.chat.completions.create method\n",
        "    response = client.chat.completions.create(\n",
        "        model=\"gpt-4\",\n",
        "        messages=[\n",
        "            {\"role\": \"system\", \"content\": \"You are a summarization expert.\"},\n",
        "            {\"role\": \"user\", \"content\": prompt}\n",
        "        ],\n",
        "        max_tokens=300,\n",
        "        temperature=0.7\n",
        "    )\n",
        "    # Access the content using .content instead of ['content']\n",
        "    return response.choices[0].message.content.strip()\n",
        "\n",
        "def direct_code_generation(description):\n",
        "    prompt = f\"Generate a Python function based on the following description:\\n\\nDescription: {description}\\n\\nCode:\"\n",
        "    # Initialize the OpenAI client, passing the api_key explicitly\n",
        "    client = openai.OpenAI(api_key=openai.api_key)\n",
        "    # Use the new client.chat.completions.create method\n",
        "    response = client.chat.completions.create(\n",
        "        model=\"gpt-4\",\n",
        "        messages=[\n",
        "            {\"role\": \"system\", \"content\": \"You are a coding expert.\"},\n",
        "            {\"role\": \"user\", \"content\": prompt}\n",
        "        ],\n",
        "        max_tokens=150,\n",
        "        temperature=0.3\n",
        "    )\n",
        "    # Access the content using .content instead of ['content']\n",
        "    return response.choices[0].message.content.strip()\n",
        "\n",
        "def direct_sentiment_classification(text):\n",
        "    prompt = (\n",
        "        \"Classify the sentiment of the following text as either positive, negative, or neutral. \"\n",
        "        \"Provide only the sentiment word.\\n\\nText: \" + text\n",
        "    )\n",
        "    # Initialize the OpenAI client, passing the api_key explicitly\n",
        "    client = openai.OpenAI(api_key=openai.api_key)\n",
        "    # Use the new client.chat.completions.create method\n",
        "    response = client.chat.completions.create(\n",
        "        model=\"gpt-4\",\n",
        "        messages=[\n",
        "            {\"role\": \"system\", \"content\": \"You are an expert sentiment analyzer.\"},\n",
        "            {\"role\": \"user\", \"content\": prompt}\n",
        "        ],\n",
        "        max_tokens=10,\n",
        "        temperature=0.3\n",
        "    )\n",
        "    # Access the content using .content instead of ['content']\n",
        "    return response.choices[0].message.content.strip()"
      ],
      "cell_type": "code",
      "metadata": {
        "id": "Y_FypVUv0oBH"
      },
      "execution_count": 11,
      "outputs": []
    },
    {
      "cell_type": "markdown",
      "source": [
        "**DSPy Modules for Each Task**"
      ],
      "metadata": {
        "id": "azFEUpeL-MPg"
      }
    },
    {
      "cell_type": "markdown",
      "source": [
        "**Question Answering Module**"
      ],
      "metadata": {
        "id": "aOVTw-kn-TZg"
      }
    },
    {
      "cell_type": "code",
      "source": [
        "# Using DSPy for Question Answering\n",
        "class QA_Signature(dspy.Signature):\n",
        "    question = dspy.InputField(desc=\"The question to answer.\")\n",
        "    answer: str = dspy.OutputField(desc=\"The answer to the question.\")\n",
        "\n",
        "qa_module = dspy.Predict(QA_Signature)\n",
        "\n",
        "# DSPy approach\n",
        "dspy_qa_output = qa_module(question=\"What is the capital of France?\").answer\n",
        "\n",
        "# Direct approach\n",
        "direct_qa_output = direct_question_answering(\"What is the capital of France?\")\n",
        "\n",
        "# Expected answer (for evaluation)\n",
        "expected_qa = \"Paris\"\n",
        "\n",
        "print(\"Question Answering Comparison:\")\n",
        "print(\"DSPy Output:\", dspy_qa_output)\n",
        "print(\"Direct API Output:\", direct_qa_output)\n",
        "\n",
        "# Simple evaluation: compute a binary score (1 if expected answer is found, 0 otherwise)\n",
        "def evaluate_answer(answer, expected):\n",
        "    return 1 if expected.lower() in answer.lower() else 0\n",
        "\n",
        "qa_score_dspy = evaluate_answer(dspy_qa_output, expected_qa)\n",
        "qa_score_direct = evaluate_answer(direct_qa_output, expected_qa)\n",
        "print(\"\\nEvaluation Scores:\")\n",
        "print(\"DSPy Score:\", qa_score_dspy)\n",
        "print(\"Direct Score:\", qa_score_direct)\n"
      ],
      "metadata": {
        "id": "yjCsp_E10L8Y",
        "outputId": "8e41a4c0-17d4-4fcd-8c49-1ac206c8c44a",
        "colab": {
          "base_uri": "https://localhost:8080/"
        }
      },
      "execution_count": 12,
      "outputs": [
        {
          "output_type": "stream",
          "name": "stdout",
          "text": [
            "Question Answering Comparison:\n",
            "DSPy Output: The capital of France is Paris.\n",
            "Direct API Output: The capital of France is Paris.\n",
            "\n",
            "Evaluation Scores:\n",
            "DSPy Score: 1\n",
            "Direct Score: 1\n"
          ]
        }
      ]
    },
    {
      "cell_type": "markdown",
      "source": [
        "\n",
        "**Text Summarization Module**"
      ],
      "metadata": {
        "id": "yCcmFNna-aZn"
      }
    },
    {
      "cell_type": "code",
      "source": [
        "# Sample passage for summarization\n",
        "passage = (\n",
        "    \"OpenAI has developed a series of groundbreaking language models that have advanced the field of natural language processing. \"\n",
        "    \"These models have been used in applications ranging from question answering and text summarization to code generation and creative writing. \"\n",
        "    \"The development of these models has also spurred research into improving model interpretability and reducing biases. \"\n",
        "    \"Recent innovations include GPT-4, which further pushes the boundaries of what artificial intelligence can achieve.\"\n",
        ")\n",
        "\n",
        "# Define a custom summarization signature using DSPy\n",
        "class SummarizeSignature(dspy.Signature):\n",
        "    passage = dspy.InputField(desc=\"Text to be summarized.\")\n",
        "    summary: str = dspy.OutputField(desc=\"The generated summary.\")\n",
        "\n",
        "summarizer_module = dspy.ChainOfThought(SummarizeSignature)\n",
        "\n",
        "# Custom prompt for summarization (using chain-of-thought reasoning)\n",
        "custom_summary_prompt = (\n",
        "    \"You are an expert summarizer. Use chain-of-thought reasoning to break down the passage and then generate a clear and structured summary. \"\n",
        "    \"Include key points about advancements, applications, and innovations.\\n\\nPassage:\\n\"\n",
        ")\n",
        "\n",
        "# DSPy approach\n",
        "dspy_summary = summarizer_module(passage=passage, prompt=custom_summary_prompt).summary\n",
        "\n",
        "# Direct approach\n",
        "direct_summary = direct_summarization(passage)\n",
        "\n",
        "print(\"Text Summarization Comparison:\")\n",
        "print(\"DSPy Summary:\\n\", dspy_summary)\n",
        "print(\"\\nDirect API Summary:\\n\", direct_summary)\n",
        "\n",
        "# Dummy evaluation: Count overlap in keywords (this is illustrative)\n",
        "def evaluate_summary(summary, keywords):\n",
        "    score = sum(1 for word in keywords if word.lower() in summary.lower())\n",
        "    return score\n",
        "\n",
        "keywords = [\"OpenAI\", \"language models\", \"applications\", \"GPT-4\", \"innovations\"]\n",
        "summary_score_dspy = evaluate_summary(dspy_summary, keywords)\n",
        "summary_score_direct = evaluate_summary(direct_summary, keywords)\n",
        "\n",
        "print(\"\\nEvaluation Scores:\")\n",
        "print(\"DSPy Summary Score:\", summary_score_dspy)\n",
        "print(\"Direct Summary Score:\", summary_score_direct)\n"
      ],
      "metadata": {
        "id": "nZ81Zq1d05_P",
        "outputId": "18a885bf-84f5-4d3b-e365-f3ff02325f40",
        "colab": {
          "base_uri": "https://localhost:8080/"
        }
      },
      "execution_count": 13,
      "outputs": [
        {
          "output_type": "stream",
          "name": "stdout",
          "text": [
            "Text Summarization Comparison:\n",
            "DSPy Summary:\n",
            " OpenAI has made significant strides in natural language processing with its series of groundbreaking language models. These models have diverse applications, including question answering, text summarization, code generation, and creative writing. Efforts are ongoing to improve model interpretability and reduce biases. The latest innovation, GPT-4, represents a new milestone in artificial intelligence capabilities.\n",
            "\n",
            "Direct API Summary:\n",
            " Summary:\n",
            "\n",
            "OpenAI has made significant strides in the realm of natural language processing by developing a series of revolutionary language models. These models serve diverse applications such as question answering, text summarization, code generation, and creative writing. Such advancements have triggered further research into enhancing the interpretability of these models and minimizing biases. The most recent innovation in this series is GPT-4, setting a new level of achievement for artificial intelligence.\n",
            "\n",
            "Evaluation Scores:\n",
            "DSPy Summary Score: 4\n",
            "Direct Summary Score: 4\n"
          ]
        }
      ]
    },
    {
      "cell_type": "markdown",
      "source": [
        "\n",
        "**Code Generation Module**"
      ],
      "metadata": {
        "id": "wyVukLOa-qiy"
      }
    },
    {
      "cell_type": "code",
      "source": [
        "# Description for code generation\n",
        "code_description = \"Write a Python function that takes a number as input and returns its square.\"\n",
        "\n",
        "# Define a custom code generation signature using DSPy\n",
        "class CodeGenSignature(dspy.Signature):\n",
        "    description = dspy.InputField(desc=\"Description of the code to generate.\")\n",
        "    code: str = dspy.OutputField(desc=\"The generated code snippet.\")\n",
        "\n",
        "codegen_module = dspy.Predict(CodeGenSignature)\n",
        "\n",
        "# DSPy approach\n",
        "dspy_code_output = codegen_module(description=code_description).code\n",
        "\n",
        "# Direct approach\n",
        "direct_code_output = direct_code_generation(code_description)\n",
        "\n",
        "print(\"Code Generation Comparison:\")\n",
        "print(\"DSPy Generated Code:\\n\", dspy_code_output)\n",
        "print(\"\\nDirect API Generated Code:\\n\", direct_code_output)\n",
        "\n",
        "# Dummy evaluation: Check if the word \"def\" is in the output as a proxy for valid Python function\n",
        "def evaluate_code(code):\n",
        "    return 1 if \"def \" in code else 0\n",
        "\n",
        "code_score_dspy = evaluate_code(dspy_code_output)\n",
        "code_score_direct = evaluate_code(direct_code_output)\n",
        "\n",
        "print(\"\\nEvaluation Scores:\")\n",
        "print(\"DSPy Code Score:\", code_score_dspy)\n",
        "print(\"Direct Code Score:\", code_score_direct)\n"
      ],
      "metadata": {
        "id": "PXD72KlL1KhI",
        "outputId": "cc215cfd-7c24-49d9-af61-7e4ed366b141",
        "colab": {
          "base_uri": "https://localhost:8080/"
        }
      },
      "execution_count": 14,
      "outputs": [
        {
          "output_type": "stream",
          "name": "stdout",
          "text": [
            "Code Generation Comparison:\n",
            "DSPy Generated Code:\n",
            " def square_number(num):\n",
            "    return num ** 2\n",
            "\n",
            "Direct API Generated Code:\n",
            " Here is the Python function based on your description:\n",
            "\n",
            "```python\n",
            "def square_number(num):\n",
            "    return num ** 2\n",
            "```\n",
            "\n",
            "Evaluation Scores:\n",
            "DSPy Code Score: 1\n",
            "Direct Code Score: 1\n"
          ]
        }
      ]
    },
    {
      "cell_type": "markdown",
      "source": [
        "\n",
        "**Sentiment Classification Module**\n"
      ],
      "metadata": {
        "id": "T2J4wQnG-ygo"
      }
    },
    {
      "cell_type": "code",
      "source": [
        "# Sample text for sentiment classification\n",
        "text_to_classify = \"I absolutely loved the new design and the user experience was fantastic!\"\n",
        "\n",
        "# Define a custom sentiment classification signature using DSPy\n",
        "from typing import Literal\n",
        "class SentimentSignature(dspy.Signature):\n",
        "    text = dspy.InputField(desc=\"Text for sentiment analysis.\")\n",
        "    sentiment: Literal['positive', 'negative', 'neutral'] = dspy.OutputField(desc=\"Predicted sentiment.\")\n",
        "\n",
        "sentiment_module = dspy.Predict(SentimentSignature)\n",
        "\n",
        "# DSPy approach\n",
        "dspy_sentiment_output = sentiment_module(text=text_to_classify).sentiment\n",
        "\n",
        "# Direct approach using our helper function\n",
        "direct_sentiment_output = direct_sentiment_classification(text_to_classify)\n",
        "\n",
        "print(\"Sentiment Classification Comparison:\")\n",
        "print(\"DSPy Sentiment:\", dspy_sentiment_output)\n",
        "print(\"Direct API Sentiment:\", direct_sentiment_output)\n",
        "\n",
        "# Dummy evaluation: expected sentiment is \"positive\"\n",
        "def evaluate_sentiment(sentiment, expected=\"positive\"):\n",
        "    return 1 if sentiment.lower() == expected.lower() else 0\n",
        "\n",
        "sentiment_score_dspy = evaluate_sentiment(dspy_sentiment_output)\n",
        "sentiment_score_direct = evaluate_sentiment(direct_sentiment_output)\n",
        "\n",
        "print(\"\\nEvaluation Scores:\")\n",
        "print(\"DSPy Sentiment Score:\", sentiment_score_dspy)\n",
        "print(\"Direct Sentiment Score:\", sentiment_score_direct)\n"
      ],
      "metadata": {
        "id": "SafEpdS91Rtw",
        "outputId": "c19b46f6-56da-4720-9300-a57b633381a6",
        "colab": {
          "base_uri": "https://localhost:8080/"
        }
      },
      "execution_count": 15,
      "outputs": [
        {
          "output_type": "stream",
          "name": "stdout",
          "text": [
            "Sentiment Classification Comparison:\n",
            "DSPy Sentiment: positive\n",
            "Direct API Sentiment: Positive\n",
            "\n",
            "Evaluation Scores:\n",
            "DSPy Sentiment Score: 1\n",
            "Direct Sentiment Score: 1\n"
          ]
        }
      ]
    },
    {
      "cell_type": "markdown",
      "source": [
        "**Benchmark for Each Task**"
      ],
      "metadata": {
        "id": "0zG7Og9Q-9hI"
      }
    },
    {
      "cell_type": "code",
      "source": [
        "import numpy as np\n",
        "\n",
        "# Collect scores (binary scores: 1 is good, 0 is not)\n",
        "tasks = [\"QA\", \"Summarization\", \"CodeGen\", \"Sentiment\"]\n",
        "scores_dspy = [qa_score_dspy, summary_score_dspy, code_score_dspy, sentiment_score_dspy]\n",
        "scores_direct = [qa_score_direct, summary_score_direct, code_score_direct, sentiment_score_direct]\n",
        "\n",
        "x = np.arange(len(tasks))  # task indices\n",
        "width = 0.35  # width of the bars\n",
        "\n",
        "fig, ax = plt.subplots(figsize=(8, 5))\n",
        "rects1 = ax.bar(x - width/2, scores_dspy, width, label='DSPy')\n",
        "rects2 = ax.bar(x + width/2, scores_direct, width, label='Direct API')\n",
        "\n",
        "# Add labels, title, and custom x-axis tick labels\n",
        "ax.set_ylabel('Evaluation Score')\n",
        "ax.set_title('Comparison of DSPy vs Direct API Approaches')\n",
        "ax.set_xticks(x)\n",
        "ax.set_xticklabels(tasks)\n",
        "ax.legend()\n",
        "\n",
        "# Annotate bars with scores\n",
        "def autolabel(rects):\n",
        "    for rect in rects:\n",
        "        height = rect.get_height()\n",
        "        ax.annotate(f'{height}',\n",
        "                    xy=(rect.get_x() + rect.get_width() / 2, height),\n",
        "                    xytext=(0, 3),  # 3 points vertical offset\n",
        "                    textcoords=\"offset points\",\n",
        "                    ha='center', va='bottom')\n",
        "\n",
        "autolabel(rects1)\n",
        "autolabel(rects2)\n",
        "\n",
        "plt.ylim(0, max(max(scores_dspy), max(scores_direct)) + 1)\n",
        "plt.show()\n"
      ],
      "metadata": {
        "id": "KgSekEjI1Xu_",
        "outputId": "83466c20-20c4-4005-b926-23e81c0f71e8",
        "colab": {
          "base_uri": "https://localhost:8080/",
          "height": 468
        }
      },
      "execution_count": 16,
      "outputs": [
        {
          "output_type": "display_data",
          "data": {
            "text/plain": [
              "<Figure size 800x500 with 1 Axes>"
            ],
            "image/png": "[encoded data removed]"
          },
          "metadata": {}
        }
      ]
    },
    {
      "cell_type": "markdown",
      "source": [
        "# Level    2      Evaluation"
      ],
      "metadata": {
        "id": "0MJ42tNK_Ceg"
      }
    },
    {
      "cell_type": "code",
      "source": [],
      "metadata": {
        "id": "8Tf0hzhk_eDo"
      },
      "execution_count": null,
      "outputs": []
    },
    {
      "cell_type": "markdown",
      "source": [
        "**Question Answering Module L2**"
      ],
      "metadata": {
        "id": "QdpMKm7e_erI"
      }
    },
    {
      "cell_type": "code",
      "source": [
        "class QA_Signature(dspy.Signature):\n",
        "    question = dspy.InputField(desc=\"The question to answer.\")\n",
        "    answer: str = dspy.OutputField(desc=\"The answer to the question.\")\n",
        "\n",
        "qa_module = dspy.Predict(QA_Signature)\n"
      ],
      "metadata": {
        "id": "NNef8sBL2h_4"
      },
      "execution_count": 17,
      "outputs": []
    },
    {
      "cell_type": "markdown",
      "source": [
        "**Text Summarization Module L2**"
      ],
      "metadata": {
        "id": "_8Kt9UpD_lFA"
      }
    },
    {
      "cell_type": "code",
      "source": [
        "class SummarizeSignature(dspy.Signature):\n",
        "    passage = dspy.InputField(desc=\"Text to be summarized.\")\n",
        "    summary: str = dspy.OutputField(desc=\"The generated summary.\")\n",
        "\n",
        "# Use ChainOfThought for in-depth summarization with reasoning.\n",
        "summarizer_module = dspy.ChainOfThought(SummarizeSignature)\n",
        "custom_summary_prompt = (\n",
        "    \"You are an expert summarizer. Use chain-of-thought reasoning to break down the passage, \"\n",
        "    \"explain key points (objectives, methodology, findings, conclusions), and then produce a clear, structured summary.\\n\\nPassage:\\n\"\n",
        ")\n"
      ],
      "metadata": {
        "id": "8Fh6pQFB2jTP"
      },
      "execution_count": 18,
      "outputs": []
    },
    {
      "cell_type": "markdown",
      "source": [
        "**Code Generation Module L2**"
      ],
      "metadata": {
        "id": "qHxxVhyn_s2Q"
      }
    },
    {
      "cell_type": "code",
      "source": [
        "class CodeGenSignature(dspy.Signature):\n",
        "    description = dspy.InputField(desc=\"Description of the code to generate.\")\n",
        "    code: str = dspy.OutputField(desc=\"The generated code snippet.\")\n",
        "\n",
        "codegen_module = dspy.Predict(CodeGenSignature)\n"
      ],
      "metadata": {
        "id": "QgMM5uds2mJv"
      },
      "execution_count": 19,
      "outputs": []
    },
    {
      "cell_type": "markdown",
      "source": [
        "**Sentiment Classification Module  L2**"
      ],
      "metadata": {
        "id": "xfxj6rPF_0oY"
      }
    },
    {
      "cell_type": "code",
      "source": [
        "from typing import Literal\n",
        "class SentimentSignature(dspy.Signature):\n",
        "    text = dspy.InputField(desc=\"Text for sentiment analysis.\")\n",
        "    sentiment: Literal['positive', 'negative', 'neutral'] = dspy.OutputField(desc=\"Predicted sentiment.\")\n",
        "\n",
        "sentiment_module = dspy.Predict(SentimentSignature)\n"
      ],
      "metadata": {
        "id": "HW6BNQBG2pJH"
      },
      "execution_count": 20,
      "outputs": []
    },
    {
      "cell_type": "markdown",
      "source": [
        "\n",
        "**L2 Benchmark Samples for Each Task**"
      ],
      "metadata": {
        "id": "lXfkcn17__7g"
      }
    },
    {
      "cell_type": "code",
      "source": [
        "# Question Answering Benchmarks\n",
        "qa_benchmarks = [\n",
        "    {\"question\": \"What is the capital of France?\", \"expected\": \"Paris\"},\n",
        "    {\"question\": \"Who wrote 'To Kill a Mockingbird'?\", \"expected\": \"Harper Lee\"},\n",
        "    {\"question\": \"What is the largest planet in our solar system?\", \"expected\": \"Jupiter\"},\n",
        "    {\"question\": \"In which year did the Titanic sink?\", \"expected\": \"1912\"}\n",
        "]\n",
        "\n",
        "# Text Summarization Benchmarks (passages and expected keywords for evaluation)\n",
        "summarization_benchmarks = [\n",
        "    {\"passage\": \"OpenAI has developed state-of-the-art language models like GPT-3 and GPT-4 that have revolutionized natural language processing.\",\n",
        "     \"keywords\": [\"OpenAI\", \"GPT-4\", \"revolutionized\", \"language models\", \"NLP\"]},\n",
        "    {\"passage\": \"The United Nations held a conference on climate change, discussing global warming and sustainable development.\",\n",
        "     \"keywords\": [\"United Nations\", \"climate change\", \"global warming\", \"sustainable development\"]},\n",
        "    {\"passage\": \"Recent research in quantum computing has shown promising results in solving complex problems.\",\n",
        "     \"keywords\": [\"quantum computing\", \"research\", \"promising\", \"complex problems\"]},\n",
        "    {\"passage\": \"The novel '1984' by George Orwell explores themes of surveillance, totalitarianism, and individual freedom.\",\n",
        "     \"keywords\": [\"1984\", \"George Orwell\", \"surveillance\", \"totalitarianism\", \"freedom\"]}\n",
        "]\n",
        "\n",
        "# Code Generation Benchmarks\n",
        "codegen_benchmarks = [\n",
        "    {\"description\": \"Write a Python function that returns the factorial of a number.\", \"expected_substring\": \"def\"},\n",
        "    {\"description\": \"Write a Python function that sorts a list of integers using bubble sort.\", \"expected_substring\": \"bubble\"},\n",
        "    {\"description\": \"Write a Python function that generates the Fibonacci sequence up to n.\", \"expected_substring\": \"Fibonacci\"},\n",
        "    {\"description\": \"Write a Python function that checks if a given string is a palindrome.\", \"expected_substring\": \"palindrome\"}\n",
        "]\n",
        "\n",
        "# Sentiment Classification Benchmarks\n",
        "sentiment_benchmarks = [\n",
        "    {\"text\": \"I absolutely loved the new movie, it was fantastic and inspiring!\", \"expected\": \"positive\"},\n",
        "    {\"text\": \"The service at the restaurant was terrible and the food was disappointing.\", \"expected\": \"negative\"},\n",
        "    {\"text\": \"The product is okay, not too bad but nothing exceptional.\", \"expected\": \"neutral\"},\n",
        "    {\"text\": \"I am not really sure how I feel about the new policy.\", \"expected\": \"neutral\"}\n",
        "]\n"
      ],
      "metadata": {
        "id": "wgeCkwSc2tDX"
      },
      "execution_count": 21,
      "outputs": []
    },
    {
      "cell_type": "markdown",
      "source": [
        "**Evaluation Helper Functions**\n"
      ],
      "metadata": {
        "id": "dsUVUdLEAJzQ"
      }
    },
    {
      "cell_type": "code",
      "source": [
        "def evaluate_answer(answer, expected):\n",
        "    # Return 1 if expected answer is found (case-insensitive), else 0.\n",
        "    return 1 if expected.lower() in answer.lower() else 0\n",
        "\n",
        "def evaluate_summary(summary, keywords):\n",
        "    # Simple score: count how many expected keywords appear in the summary.\n",
        "    return sum(1 for word in keywords if word.lower() in summary.lower())\n",
        "\n",
        "def evaluate_code(code, expected_substring):\n",
        "    # Check if expected substring (e.g., \"def\" or \"bubble\") is present.\n",
        "    return 1 if expected_substring.lower() in code.lower() else 0\n",
        "\n",
        "def evaluate_sentiment(sentiment, expected):\n",
        "    return 1 if sentiment.lower() == expected.lower() else 0\n"
      ],
      "metadata": {
        "id": "cwiktqVu2wbJ"
      },
      "execution_count": 22,
      "outputs": []
    },
    {
      "cell_type": "markdown",
      "source": [
        "**Benchmark – Question Answering Comparison**"
      ],
      "metadata": {
        "id": "9sws-fX6AQvw"
      }
    },
    {
      "cell_type": "code",
      "source": [
        "qa_results = []\n",
        "for sample in qa_benchmarks:\n",
        "    q = sample[\"question\"]\n",
        "    expected = sample[\"expected\"]\n",
        "\n",
        "    # DSPy approach\n",
        "    dspy_output = qa_module(question=q).answer\n",
        "    score_dspy = evaluate_answer(dspy_output, expected)\n",
        "\n",
        "    # Direct approach\n",
        "    direct_output = direct_question_answering(q)\n",
        "    score_direct = evaluate_answer(direct_output, expected)\n",
        "\n",
        "    qa_results.append({\n",
        "        \"question\": q,\n",
        "        \"expected\": expected,\n",
        "        \"dspy_output\": dspy_output,\n",
        "        \"direct_output\": direct_output,\n",
        "        \"dspy_score\": score_dspy,\n",
        "        \"direct_score\": score_direct\n",
        "    })\n",
        "\n",
        "# Print QA results\n",
        "print(\"Question Answering Benchmarks:\")\n",
        "for res in qa_results:\n",
        "    print(f\"Q: {res['question']}\")\n",
        "    print(f\"Expected: {res['expected']}\")\n",
        "    print(f\"DSPy: {res['dspy_output']} (Score: {res['dspy_score']})\")\n",
        "    print(f\"Direct: {res['direct_output']} (Score: {res['direct_score']})\")\n",
        "    print(\"-\" * 50)\n"
      ],
      "metadata": {
        "id": "3hbBO2B22zOQ",
        "outputId": "5b815fe0-7a40-4519-a2dd-ed5e2335cd49",
        "colab": {
          "base_uri": "https://localhost:8080/"
        }
      },
      "execution_count": 23,
      "outputs": [
        {
          "output_type": "stream",
          "name": "stdout",
          "text": [
            "Question Answering Benchmarks:\n",
            "Q: What is the capital of France?\n",
            "Expected: Paris\n",
            "DSPy: The capital of France is Paris. (Score: 1)\n",
            "Direct: The capital of France is Paris. (Score: 1)\n",
            "--------------------------------------------------\n",
            "Q: Who wrote 'To Kill a Mockingbird'?\n",
            "Expected: Harper Lee\n",
            "DSPy: Harper Lee (Score: 1)\n",
            "Direct: 'To Kill a Mockingbird' was written by Harper Lee. (Score: 1)\n",
            "--------------------------------------------------\n",
            "Q: What is the largest planet in our solar system?\n",
            "Expected: Jupiter\n",
            "DSPy: The largest planet in our solar system is Jupiter. (Score: 1)\n",
            "Direct: The largest planet in our solar system is Jupiter. (Score: 1)\n",
            "--------------------------------------------------\n",
            "Q: In which year did the Titanic sink?\n",
            "Expected: 1912\n",
            "DSPy: The Titanic sank in the year 1912. (Score: 1)\n",
            "Direct: The Titanic sank in the year 1912. (Score: 1)\n",
            "--------------------------------------------------\n"
          ]
        }
      ]
    },
    {
      "cell_type": "markdown",
      "source": [
        "**Benchmark – Text Summarization Comparison**"
      ],
      "metadata": {
        "id": "vMdb1OwcAa_B"
      }
    },
    {
      "cell_type": "code",
      "source": [
        "summ_results = []\n",
        "for sample in summarization_benchmarks:\n",
        "    passage = sample[\"passage\"]\n",
        "    keywords = sample[\"keywords\"]\n",
        "\n",
        "    # DSPy approach\n",
        "    dspy_summary = summarizer_module(passage=passage, prompt=custom_summary_prompt).summary\n",
        "    score_dspy = evaluate_summary(dspy_summary, keywords)\n",
        "\n",
        "    # Direct approach\n",
        "    direct_summary = direct_summarization(passage)\n",
        "    score_direct = evaluate_summary(direct_summary, keywords)\n",
        "\n",
        "    summ_results.append({\n",
        "        \"passage\": passage,\n",
        "        \"keywords\": keywords,\n",
        "        \"dspy_summary\": dspy_summary,\n",
        "        \"direct_summary\": direct_summary,\n",
        "        \"dspy_score\": score_dspy,\n",
        "        \"direct_score\": score_direct\n",
        "    })\n",
        "\n",
        "# Print Summarization results\n",
        "print(\"Text Summarization Benchmarks:\")\n",
        "for res in summ_results:\n",
        "    print(\"Passage:\", res[\"passage\"])\n",
        "    print(\"Expected Keywords:\", res[\"keywords\"])\n",
        "    print(\"DSPy Summary:\\n\", res[\"dspy_summary\"], f\"(Score: {res['dspy_score']})\")\n",
        "    print(\"Direct Summary:\\n\", res[\"direct_summary\"], f\"(Score: {res['direct_score']})\")\n",
        "    print(\"-\" * 50)\n"
      ],
      "metadata": {
        "id": "gATmywNE28vZ",
        "outputId": "cab8982d-b037-4bae-b9a6-3a03c1291e06",
        "colab": {
          "base_uri": "https://localhost:8080/"
        }
      },
      "execution_count": 24,
      "outputs": [
        {
          "output_type": "stream",
          "name": "stdout",
          "text": [
            "Text Summarization Benchmarks:\n",
            "Passage: OpenAI has developed state-of-the-art language models like GPT-3 and GPT-4 that have revolutionized natural language processing.\n",
            "Expected Keywords: ['OpenAI', 'GPT-4', 'revolutionized', 'language models', 'NLP']\n",
            "DSPy Summary:\n",
            " OpenAI has created advanced language models, GPT-3 and GPT-4, revolutionizing the field of natural language processing. (Score: 3)\n",
            "Direct Summary:\n",
            " The given text focuses on the significant advancements made by OpenAI in the field of natural language processing. It emphasizes the development of advanced language models, notably GPT-3 and GPT-4, which have been instrumental in revolutionizing this area.\n",
            "\n",
            "Summary:\n",
            "OpenAI, a leading entity in artificial intelligence, has pioneered the evolution of natural language processing by creating high-level language models, specifically GPT-3 and GPT-4. These advancements have marked a significant transformation in how natural language processing is practiced and understood. (Score: 3)\n",
            "--------------------------------------------------\n",
            "Passage: The United Nations held a conference on climate change, discussing global warming and sustainable development.\n",
            "Expected Keywords: ['United Nations', 'climate change', 'global warming', 'sustainable development']\n",
            "DSPy Summary:\n",
            " The United Nations conducted a conference addressing climate change, with a focus on global warming and sustainable development. (Score: 4)\n",
            "Direct Summary:\n",
            " The text discusses a conference conducted by the United Nations (UN) on the pressing issue of climate change. Two main topics of conversation at this event were global warming and sustainable development. The UN is presumably addressing these problems due to their global impact and the urgent need for solutions. \n",
            "\n",
            "Summary: The United Nations organized a conference to deliberate on climate change, with a particular focus on the critical issues of global warming and sustainable development. The aim was to foster discussions and find effective solutions to these globally impacting environmental concerns. (Score: 4)\n",
            "--------------------------------------------------\n",
            "Passage: Recent research in quantum computing has shown promising results in solving complex problems.\n",
            "Expected Keywords: ['quantum computing', 'research', 'promising', 'complex problems']\n",
            "DSPy Summary:\n",
            " Recent studies in the field of quantum computing have demonstrated promising outcomes in addressing complex issues. (Score: 2)\n",
            "Direct Summary:\n",
            " The text provides information about the latest progress in quantum computing research. It emphasizes that this domain has displayed notable promise in dealing with intricate issues. \n",
            "\n",
            "Summary:\n",
            "Recent studies in the field of quantum computing have demonstrated potential advancements. These studies have shown that quantum computing could be a powerful tool in resolving complex problems. (Score: 3)\n",
            "--------------------------------------------------\n",
            "Passage: The novel '1984' by George Orwell explores themes of surveillance, totalitarianism, and individual freedom.\n",
            "Expected Keywords: ['1984', 'George Orwell', 'surveillance', 'totalitarianism', 'freedom']\n",
            "DSPy Summary:\n",
            " George Orwell's '1984' delves into themes of surveillance, totalitarianism, and individual freedom. (Score: 5)\n",
            "Direct Summary:\n",
            " The text discusses George Orwell's novel, '1984', focusing on its central themes. Firstly, the book delves into surveillance, highlighting the constant watch over individuals in society. Secondly, it covers the theme of totalitarianism, revealing an oppressive regime where a single entity exercises absolute control. Lastly, it examines the concept of individual freedom, or the lack thereof within this oppressive regime. In summary, Orwell's '1984' is a thematic exploration of surveillance, totalitarianism, and the suppression of individual freedom. (Score: 5)\n",
            "--------------------------------------------------\n"
          ]
        }
      ]
    },
    {
      "cell_type": "markdown",
      "source": [
        "**Benchmark – Code Generation Comparison**"
      ],
      "metadata": {
        "id": "drsmHxwUAhEJ"
      }
    },
    {
      "cell_type": "code",
      "source": [
        "code_results = []\n",
        "for sample in codegen_benchmarks:\n",
        "    description = sample[\"description\"]\n",
        "    expected_substring = sample[\"expected_substring\"]\n",
        "\n",
        "    # DSPy approach\n",
        "    dspy_code = codegen_module(description=description).code\n",
        "    score_dspy = evaluate_code(dspy_code, expected_substring)\n",
        "\n",
        "    # Direct approach\n",
        "    direct_code = direct_code_generation(description)\n",
        "    score_direct = evaluate_code(direct_code, expected_substring)\n",
        "\n",
        "    code_results.append({\n",
        "        \"description\": description,\n",
        "        \"expected_substring\": expected_substring,\n",
        "        \"dspy_code\": dspy_code,\n",
        "        \"direct_code\": direct_code,\n",
        "        \"dspy_score\": score_dspy,\n",
        "        \"direct_score\": score_direct\n",
        "    })\n",
        "\n",
        "# Print Code Generation results\n",
        "print(\"Code Generation Benchmarks:\")\n",
        "for res in code_results:\n",
        "    print(\"Description:\", res[\"description\"])\n",
        "    print(\"Expected substring:\", res[\"expected_substring\"])\n",
        "    print(\"DSPy Code:\\n\", res[\"dspy_code\"], f\"(Score: {res['dspy_score']})\")\n",
        "    print(\"Direct Code:\\n\", res[\"direct_code\"], f\"(Score: {res['direct_score']})\")\n",
        "    print(\"-\" * 50)\n"
      ],
      "metadata": {
        "id": "NWjdcOl13Kkf",
        "outputId": "901164a6-fe97-47a7-c3aa-e67737cc161b",
        "colab": {
          "base_uri": "https://localhost:8080/"
        }
      },
      "execution_count": 25,
      "outputs": [
        {
          "output_type": "stream",
          "name": "stdout",
          "text": [
            "Code Generation Benchmarks:\n",
            "Description: Write a Python function that returns the factorial of a number.\n",
            "Expected substring: def\n",
            "DSPy Code:\n",
            " def factorial(n):\n",
            "    if n == 0:\n",
            "        return 1\n",
            "    else:\n",
            "        return n * factorial(n-1) (Score: 1)\n",
            "Direct Code:\n",
            " Here is a Python function that calculates the factorial of a number:\n",
            "\n",
            "```python\n",
            "def factorial(n):\n",
            "    if n == 0:\n",
            "        return 1\n",
            "    else:\n",
            "        return n * factorial(n-1)\n",
            "```\n",
            "\n",
            "This function uses recursion to calculate the factorial. It checks if the number is 0, in which case it returns 1 (since the factorial of 0 is 1). Otherwise, it multiplies the number by the factorial of the number minus 1. This process continues until it reaches 0, at which point it starts returning the results back up the chain. (Score: 1)\n",
            "--------------------------------------------------\n",
            "Description: Write a Python function that sorts a list of integers using bubble sort.\n",
            "Expected substring: bubble\n",
            "DSPy Code:\n",
            " def bubble_sort(lst):\n",
            "    n = len(lst)\n",
            "    for i in range(n):\n",
            "        for j in range(0, n-i-1):\n",
            "            if lst[j] > lst[j+1] :\n",
            "                lst[j], lst[j+1] = lst[j+1], lst[j]\n",
            "    return lst (Score: 1)\n",
            "Direct Code:\n",
            " Sure, here is a Python function that sorts a list of integers using bubble sort:\n",
            "\n",
            "```python\n",
            "def bubble_sort(lst):\n",
            "    n = len(lst)\n",
            "\n",
            "    for i in range(n):\n",
            "        for j in range(0, n - i - 1):\n",
            "            if lst[j] > lst[j + 1]:\n",
            "                lst[j], lst[j + 1] = lst[j + 1], lst[j]\n",
            "    return lst\n",
            "```\n",
            "\n",
            "You can use this function to sort a list of integers. For example:\n",
            "\n",
            "```python\n",
            "numbers = [64, 34, 25, 12, 22, 11, 90]\n",
            "print(bubble_sort(numbers))\n",
            "```\n",
            "\n",
            "This will output: `[11, 12, (Score: 1)\n",
            "--------------------------------------------------\n",
            "Description: Write a Python function that generates the Fibonacci sequence up to n.\n",
            "Expected substring: Fibonacci\n",
            "DSPy Code:\n",
            " def fibonacci(n):\n",
            "    sequence = [0, 1]\n",
            "    while len(sequence) < n:\n",
            "        sequence.append(sequence[-1] + sequence[-2])\n",
            "    return sequence[:n] (Score: 1)\n",
            "Direct Code:\n",
            " Sure, here is a Python function that generates the Fibonacci sequence up to n:\n",
            "\n",
            "```python\n",
            "def fibonacci(n):\n",
            "    sequence = []\n",
            "    a, b = 0, 1\n",
            "    while a < n:\n",
            "        sequence.append(a)\n",
            "        a, b = b, a + b\n",
            "    return sequence\n",
            "```\n",
            "\n",
            "This function starts with `a` and `b` as the first two numbers in the Fibonacci sequence. It then enters a loop where it appends `a` to the sequence, and then updates `a` and `b` to be the next two numbers in the sequence. This continues until `a` is no longer less than `n`, at which point the function returns the sequence. (Score: 1)\n",
            "--------------------------------------------------\n",
            "Description: Write a Python function that checks if a given string is a palindrome.\n",
            "Expected substring: palindrome\n",
            "DSPy Code:\n",
            " def is_palindrome(s):\n",
            "    return s == s[::-1] (Score: 1)\n",
            "Direct Code:\n",
            " Sure, here is a simple Python function that checks if a given string is a palindrome:\n",
            "\n",
            "```python\n",
            "def is_palindrome(s):\n",
            "    s = s.replace(' ', '')  # Removing spaces for phrases\n",
            "    return s == s[::-1]\n",
            "```\n",
            "\n",
            "This function works by comparing the original string with its reverse. If they are the same, the string is a palindrome. Note that this function is case sensitive and does not ignore special characters or spaces. If you want to ignore case, spaces, and special characters, you can modify the function like this:\n",
            "\n",
            "```python\n",
            "def is_palindrome(s):\n",
            "    s = ''.join(c for c in s if c.isalnum()).lower()  # Removing special characters and converting to lower case (Score: 1)\n",
            "--------------------------------------------------\n"
          ]
        }
      ]
    },
    {
      "cell_type": "markdown",
      "source": [
        "**Benchmark – Sentiment Classification Comparison**"
      ],
      "metadata": {
        "id": "YLDctHqsAmkA"
      }
    },
    {
      "cell_type": "code",
      "source": [
        "sentiment_results = []\n",
        "for sample in sentiment_benchmarks:\n",
        "    text = sample[\"text\"]\n",
        "    expected = sample[\"expected\"]\n",
        "\n",
        "    # DSPy approach\n",
        "    dspy_sent = sentiment_module(text=text).sentiment\n",
        "    score_dspy = evaluate_sentiment(dspy_sent, expected)\n",
        "\n",
        "    # Direct approach\n",
        "    direct_sent = direct_sentiment_classification(text)\n",
        "    score_direct = evaluate_sentiment(direct_sent, expected)\n",
        "\n",
        "    sentiment_results.append({\n",
        "        \"text\": text,\n",
        "        \"expected\": expected,\n",
        "        \"dspy_sent\": dspy_sent,\n",
        "        \"direct_sent\": direct_sent,\n",
        "        \"dspy_score\": score_dspy,\n",
        "        \"direct_score\": score_direct\n",
        "    })\n",
        "\n",
        "# Print Sentiment Classification results\n",
        "print(\"Sentiment Classification Benchmarks:\")\n",
        "for res in sentiment_results:\n",
        "    print(\"Text:\", res[\"text\"])\n",
        "    print(\"Expected:\", res[\"expected\"])\n",
        "    print(\"DSPy Sentiment:\", res[\"dspy_sent\"], f\"(Score: {res['dspy_score']})\")\n",
        "    print(\"Direct Sentiment:\", res[\"direct_sent\"], f\"(Score: {res['direct_score']})\")\n",
        "    print(\"-\" * 50)\n"
      ],
      "metadata": {
        "id": "DtivVYwU3XRo",
        "outputId": "0a54ea5b-94bc-4aa8-d0a8-742415d9047d",
        "colab": {
          "base_uri": "https://localhost:8080/"
        }
      },
      "execution_count": 26,
      "outputs": [
        {
          "output_type": "stream",
          "name": "stdout",
          "text": [
            "Sentiment Classification Benchmarks:\n",
            "Text: I absolutely loved the new movie, it was fantastic and inspiring!\n",
            "Expected: positive\n",
            "DSPy Sentiment: positive (Score: 1)\n",
            "Direct Sentiment: Positive (Score: 1)\n",
            "--------------------------------------------------\n",
            "Text: The service at the restaurant was terrible and the food was disappointing.\n",
            "Expected: negative\n",
            "DSPy Sentiment: negative (Score: 1)\n",
            "Direct Sentiment: Negative (Score: 1)\n",
            "--------------------------------------------------\n",
            "Text: The product is okay, not too bad but nothing exceptional.\n",
            "Expected: neutral\n",
            "DSPy Sentiment: neutral (Score: 1)\n",
            "Direct Sentiment: Neutral (Score: 1)\n",
            "--------------------------------------------------\n",
            "Text: I am not really sure how I feel about the new policy.\n",
            "Expected: neutral\n",
            "DSPy Sentiment: neutral (Score: 1)\n",
            "Direct Sentiment: neutral (Score: 1)\n",
            "--------------------------------------------------\n"
          ]
        }
      ]
    },
    {
      "cell_type": "markdown",
      "source": [
        "**Comparative Evaluation Graphs**"
      ],
      "metadata": {
        "id": "jhjpfvTOAq1g"
      }
    },
    {
      "cell_type": "code",
      "source": [
        "# For each task, compute average scores.\n",
        "def avg_score(results, key):\n",
        "    return np.mean([res[key] for res in results])\n",
        "\n",
        "avg_qa_dspy = avg_score(qa_results, \"dspy_score\")\n",
        "avg_qa_direct = avg_score(qa_results, \"direct_score\")\n",
        "\n",
        "avg_summ_dspy = avg_score(summ_results, \"dspy_score\")\n",
        "avg_summ_direct = avg_score(summ_results, \"direct_score\")\n",
        "\n",
        "avg_code_dspy = avg_score(code_results, \"dspy_score\")\n",
        "avg_code_direct = avg_score(code_results, \"direct_score\")\n",
        "\n",
        "avg_sent_dspy = avg_score(sentiment_results, \"dspy_score\")\n",
        "avg_sent_direct = avg_score(sentiment_results, \"direct_score\")\n",
        "\n",
        "# Prepare data for plotting\n",
        "tasks = [\"Question Answering\", \"Summarization\", \"Code Generation\", \"Sentiment\"]\n",
        "dspy_scores = [avg_qa_dspy, avg_summ_dspy, avg_code_dspy, avg_sent_dspy]\n",
        "direct_scores = [avg_qa_direct, avg_summ_direct, avg_code_direct, avg_sent_direct]\n",
        "\n",
        "x = np.arange(len(tasks))\n",
        "width = 0.35\n",
        "\n",
        "fig, ax = plt.subplots(figsize=(10, 6))\n",
        "bars1 = ax.bar(x - width/2, dspy_scores, width, label='DSPy')\n",
        "bars2 = ax.bar(x + width/2, direct_scores, width, label='Direct API')\n",
        "\n",
        "ax.set_ylabel('Average Evaluation Score')\n",
        "ax.set_title('Comparison of DSPy vs Direct API (Benchmark Averages)')\n",
        "ax.set_xticks(x)\n",
        "ax.set_xticklabels(tasks, rotation=15)\n",
        "ax.legend()\n",
        "\n",
        "def autolabel(rects):\n",
        "    for rect in rects:\n",
        "        height = rect.get_height()\n",
        "        ax.annotate(f'{height:.2f}',\n",
        "                    xy=(rect.get_x() + rect.get_width() / 2, height),\n",
        "                    xytext=(0,3),\n",
        "                    textcoords=\"offset points\",\n",
        "                    ha='center', va='bottom')\n",
        "\n",
        "autolabel(bars1)\n",
        "autolabel(bars2)\n",
        "\n",
        "plt.ylim(0, max(max(dspy_scores), max(direct_scores)) + 1)\n",
        "plt.show()\n"
      ],
      "metadata": {
        "id": "xoFYfuHE3eYo",
        "outputId": "650f76d5-3458-44b2-b159-8acd4b7ee565",
        "colab": {
          "base_uri": "https://localhost:8080/",
          "height": 580
        }
      },
      "execution_count": 27,
      "outputs": [
        {
          "output_type": "display_data",
          "data": {
            "text/plain": [
              "<Figure size 1000x600 with 1 Axes>"
            ],
            "image/png": "[encoded data removed]"
          },
          "metadata": {}
        }
      ]
    },
    {
      "cell_type": "markdown",
      "source": [
        "**THANK-YOU**"
      ],
      "metadata": {
        "id": "X0fHvzid9Qqv"
      }
    }
  ],
  "metadata": {
    "colab": {
      "name": "Welcome To Colab",
      "provenance": []
    },
    "kernelspec": {
      "display_name": "Python 3",
      "name": "python3"
    }
  },
  "nbformat": 4,
  "nbformat_minor": 0
}
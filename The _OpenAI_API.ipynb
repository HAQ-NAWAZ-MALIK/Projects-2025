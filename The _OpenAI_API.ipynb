{
  "cells": [
    {
      "cell_type": "markdown",
      "metadata": {
        "id": "view-in-github",
        "colab_type": "text"
      },
      "source": [
        "<a href=\"https://colab.research.google.com/github/HAQ-NAWAZ-MALIK/Projects-2025/blob/main/The%20_OpenAI_API.ipynb\" target=\"_parent\"><img src=\"https://colab.research.google.com/assets/colab-badge.svg\" alt=\"Open In Colab\"/></a>"
      ]
    },
    {
      "cell_type": "markdown",
      "source": [
        "\n",
        "#  the OpenAI API\n",
        "\n",
        "```\n",
        "By : HNM\n",
        "```\n",
        "\n"
      ],
      "metadata": {
        "id": "2sELMJgGHWF6"
      }
    },
    {
      "cell_type": "code",
      "source": [
        "# prompt: import secret key from colab named \"YOUR_OPENAI_API_KEY \"\n",
        "\n",
        "from google.colab import userdata\n",
        "\n",
        "# Get the API key from Colab secrets\n",
        "api_key = userdata.get('YOUR_OPENAI_API_KEY')\n",
        "\n"
      ],
      "metadata": {
        "id": "EFJ6IuHGNAGC"
      },
      "execution_count": null,
      "outputs": []
    },
    {
      "cell_type": "code",
      "source": [
        "import openai\n",
        "import time\n"
      ],
      "metadata": {
        "id": "vS6fH-pXLjqa"
      },
      "execution_count": 10,
      "outputs": []
    },
    {
      "source": [
        "openai.api_key = api_key # use imported sk or just copy-paste it here"
      ],
      "cell_type": "code",
      "metadata": {
        "id": "37TuFDZjNi_y"
      },
      "execution_count": 12,
      "outputs": []
    },
    {
      "cell_type": "markdown",
      "source": [
        "# First call\n"
      ],
      "metadata": {
        "id": "xjLTi0hdHquz"
      }
    },
    {
      "source": [
        "# create a chat completion\n",
        "chat_completion = openai.chat.completions.create(model=\"gpt-3.5-turbo\",\n",
        "                                messages=[{\"role\": \"user\", \"content\": \"Listen to your\"}])"
      ],
      "cell_type": "code",
      "metadata": {
        "id": "qitMAuUPNweD"
      },
      "execution_count": 14,
      "outputs": []
    },
    {
      "cell_type": "code",
      "source": [
        "chat_completion.to_dict()"
      ],
      "metadata": {
        "id": "XOeAKgCHHufy",
        "outputId": "c987de74-2789-4987-da2e-9be21a5050ec",
        "colab": {
          "base_uri": "https://localhost:8080/"
        }
      },
      "execution_count": 15,
      "outputs": [
        {
          "output_type": "execute_result",
          "data": {
            "text/plain": [
              "{'id': 'chatcmpl-B8L9hB9iIhxFsEbQmps3IKWOmFUGA',\n",
              " 'choices': [{'finish_reason': 'stop',\n",
              "   'index': 0,\n",
              "   'logprobs': None,\n",
              "   'message': {'content': ' inner voice and trust your intuition. It often knows what is best for you and can guide you in making decisions that align with your true self. Trusting yourself and your instincts can lead to greater self-awareness and personal growth. So, take the time to listen to your inner voice and see where it leads you.',\n",
              "    'refusal': None,\n",
              "    'role': 'assistant'}}],\n",
              " 'created': 1741327645,\n",
              " 'model': 'gpt-3.5-turbo-0125',\n",
              " 'object': 'chat.completion',\n",
              " 'service_tier': 'default',\n",
              " 'system_fingerprint': None,\n",
              " 'usage': {'completion_tokens': 65,\n",
              "  'prompt_tokens': 10,\n",
              "  'total_tokens': 75,\n",
              "  'completion_tokens_details': {'accepted_prediction_tokens': 0,\n",
              "   'audio_tokens': 0,\n",
              "   'reasoning_tokens': 0,\n",
              "   'rejected_prediction_tokens': 0},\n",
              "  'prompt_tokens_details': {'audio_tokens': 0, 'cached_tokens': 0}}}"
            ]
          },
          "metadata": {},
          "execution_count": 15
        }
      ]
    },
    {
      "cell_type": "code",
      "source": [
        "# print the chat completion\n",
        "print(chat_completion.choices[0].message.content)"
      ],
      "metadata": {
        "id": "CYipF9-fHxRy",
        "outputId": "0f441b8d-53ff-47a6-ccc8-c8fda9862088",
        "colab": {
          "base_uri": "https://localhost:8080/"
        }
      },
      "execution_count": 16,
      "outputs": [
        {
          "output_type": "stream",
          "name": "stdout",
          "text": [
            " inner voice and trust your intuition. It often knows what is best for you and can guide you in making decisions that align with your true self. Trusting yourself and your instincts can lead to greater self-awareness and personal growth. So, take the time to listen to your inner voice and see where it leads you.\n"
          ]
        }
      ]
    },
    {
      "cell_type": "markdown",
      "source": [
        "Max tokens\n"
      ],
      "metadata": {
        "id": "5ttKN-xCH6XJ"
      }
    },
    {
      "source": [
        "# create a chat completion\n",
        "chat_completion = openai.chat.completions.create(\n",
        "    model=\"gpt-3.5-turbo\",\n",
        "    messages=[{\"role\": \"user\", \"content\": \"Listen to your\"}],\n",
        "    max_tokens=1\n",
        ")\n",
        "\n",
        "# print the chat completion\n",
        "print(chat_completion.choices[0].message.content)"
      ],
      "cell_type": "code",
      "metadata": {
        "id": "K5tVZGJ7OCsr",
        "outputId": "ec8b9fbd-e4fd-44b8-afc4-7129a3060a45",
        "colab": {
          "base_uri": "https://localhost:8080/"
        }
      },
      "execution_count": 18,
      "outputs": [
        {
          "output_type": "stream",
          "name": "stdout",
          "text": [
            " inner\n"
          ]
        }
      ]
    },
    {
      "cell_type": "markdown",
      "source": [
        "n = number of chat completions\n"
      ],
      "metadata": {
        "id": "8KvcNMk6IC7K"
      }
    },
    {
      "source": [
        "# create a chat completion\n",
        "chat_completion = openai.chat.completions.create( # Use openai.chat.completions.create() instead of openai.ChatCompletion.create()\n",
        "                                model=\"gpt-3.5-turbo\",\n",
        "                                messages=[{\"role\": \"user\", \"content\": \"Listen to your\"}],\n",
        "                                max_tokens = 2,\n",
        "                                n=5)\n",
        "\n",
        "# print the chat completion\n",
        "for i in range(len(chat_completion.choices)):\n",
        "    print(chat_completion.choices[i].message.content)"
      ],
      "cell_type": "code",
      "metadata": {
        "id": "smMN6RmFOJib",
        "outputId": "9982f099-3a30-43bc-d1d8-261b37ec8ff3",
        "colab": {
          "base_uri": "https://localhost:8080/"
        }
      },
      "execution_count": 20,
      "outputs": [
        {
          "output_type": "stream",
          "name": "stdout",
          "text": [
            " inner voice\n",
            "heart,\n",
            "heart,\n",
            " instincts and\n",
            "heart,\n"
          ]
        }
      ]
    },
    {
      "cell_type": "markdown",
      "source": [
        "temperature\n"
      ],
      "metadata": {
        "id": "0O1Vr-pJILEp"
      }
    },
    {
      "source": [
        "# create a chat completion\n",
        "chat_completion = openai.chat.completions.create(  # Use openai.chat.completions.create() instead of openai.ChatCompletion.create()\n",
        "                                model=\"gpt-3.5-turbo\",\n",
        "                                messages=[{\"role\": \"user\", \"content\": \"Listen to your\"}],\n",
        "                                max_tokens = 2,\n",
        "                                n=5,\n",
        "                                temperature=0)\n",
        "\n",
        "# print the chat completion\n",
        "for i in range(len(chat_completion.choices)):\n",
        "    print(chat_completion.choices[i].message.content)"
      ],
      "cell_type": "code",
      "metadata": {
        "id": "6-cdFYOuOYYa",
        "outputId": "204e4b9a-083b-402a-b773-30c3a830f9bc",
        "colab": {
          "base_uri": "https://localhost:8080/"
        }
      },
      "execution_count": 22,
      "outputs": [
        {
          "output_type": "stream",
          "name": "stdout",
          "text": [
            "heart,\n",
            "heart,\n",
            "heart,\n",
            "heart,\n",
            "heart,\n"
          ]
        }
      ]
    },
    {
      "cell_type": "code",
      "source": [
        "# create a chat completion\n",
        "chat_completion = openai.chat.completions.create(model=\"gpt-3.5-turbo\",\n",
        "                                messages=[{\"role\": \"user\", \"content\": \"Listen to your\"}],\n",
        "                                max_tokens = 2,\n",
        "                                n=5,\n",
        "                                temperature=2)\n",
        "\n",
        "# print the chat completion\n",
        "for i in range(len(chat_completion.choices)):\n",
        "    print(chat_completion.choices[i].message.content)"
      ],
      "metadata": {
        "id": "NCMBC8g-H2VZ",
        "outputId": "a55290a0-541c-46a5-a8fa-a47bee09e22e",
        "colab": {
          "base_uri": "https://localhost:8080/"
        }
      },
      "execution_count": 23,
      "outputs": [
        {
          "output_type": "stream",
          "name": "stdout",
          "text": [
            "heart.\n",
            " eux_re\n",
            " inner voice\n",
            " inner voice\n",
            "heart and\n"
          ]
        }
      ]
    },
    {
      "cell_type": "markdown",
      "source": [
        "Demo: Lyric Completion Assistant\n"
      ],
      "metadata": {
        "id": "7E4OsPnlIUoZ"
      }
    },
    {
      "cell_type": "code",
      "source": [
        "# initial prompt with system message and 2 task examples\n",
        "messages_list = [{\"role\":\"system\", \"content\": \"I am Roxette lyric completion assistant. When given a line from a song, I will provide the next line in the song.\"},\n",
        "                 {\"role\":\"user\", \"content\": \"I know there's something in the wake of your smile\"},\n",
        "                 {\"role\":\"assistant\", \"content\": \"I get a notion from the look in your eyes, yeah\"},\n",
        "                 {\"role\":\"user\", \"content\": \"You've built a love but that love falls apart\"},\n",
        "                 {\"role\":\"assistant\", \"content\": \"Your little piece of Heaven turns too dark\"},\n",
        "                 {\"role\":\"user\", \"content\": \"Listen to your\"}]"
      ],
      "metadata": {
        "id": "YdMiEk8GIQ4S"
      },
      "execution_count": 24,
      "outputs": []
    },
    {
      "cell_type": "code",
      "source": [
        "for i in range(4):\n",
        "    # create a chat completion\n",
        "    chat_completion = openai.chat.completions.create(model=\"gpt-3.5-turbo\",\n",
        "                                    messages=messages_list,\n",
        "                                    max_tokens = 15,\n",
        "                                    n=1,\n",
        "                                    temperature=0)\n",
        "\n",
        "    # print the chat completion\n",
        "    print(chat_completion.choices[0].message.content)\n",
        "\n",
        "    new_message = {\"role\":\"assistant\", \"content\":chat_completion.choices[0].message.content} # append new message to message list\n",
        "    messages_list.append(new_message)\n",
        "    time.sleep(0.1)"
      ],
      "metadata": {
        "id": "CgOZPqJ1IZg5",
        "outputId": "27637d18-02c6-4494-b4e9-fa853f0482ea",
        "colab": {
          "base_uri": "https://localhost:8080/"
        }
      },
      "execution_count": 26,
      "outputs": [
        {
          "output_type": "stream",
          "name": "stdout",
          "text": [
            "Heart when he's calling for you\n",
            "Listen to your heart, there's nothing else you can do\n",
            "I don't know where you're going and I don't know why\n",
            "But listen to your heart before you tell him goodbye\n"
          ]
        }
      ]
    },
    {
      "cell_type": "markdown",
      "source": [
        "* Actual lyrics:*\n",
        "\n",
        "*Listen to your heart when he's calling for you*\n",
        "*Listen to your heart, there's nothing else you can do*\n",
        "*I don't know where you're going and I don't know why*\n",
        "*But listen to your heart before you tell him goodbye*"
      ],
      "metadata": {
        "id": "baCgLqEZIeoa"
      }
    },
    {
      "cell_type": "markdown",
      "source": [
        "Crank the temp! (warning: it gets weird)\n"
      ],
      "metadata": {
        "id": "lcFalv2oJIBS"
      }
    },
    {
      "cell_type": "code",
      "source": [
        "for i in range(4):\n",
        "    # create a chat completion\n",
        "    chat_completion = openai.chat.completions.create(model=\"gpt-3.5-turbo\",\n",
        "                                    messages=messages_list,\n",
        "                                    max_tokens = 15,\n",
        "                                    n=1,\n",
        "                                    temperature=1)\n",
        "\n",
        "    # print the chat completion\n",
        "    print(chat_completion.choices[0].message.content)\n",
        "\n",
        "    new_message = {\"role\":\"assistant\", \"content\":chat_completion.choices[0].message.content}\n",
        "    messages_list.append(new_message)\n",
        "    time.sleep(0.1)"
      ],
      "metadata": {
        "id": "OHtrmASoJGqi",
        "outputId": "224a27cc-84b8-43b1-e819-ebdfee135e25",
        "colab": {
          "base_uri": "https://localhost:8080/"
        }
      },
      "execution_count": 28,
      "outputs": [
        {
          "output_type": "stream",
          "name": "stdout",
          "text": [
            "d Portuguese music`.ParisMorning组actress Documentación团每le\n",
            "I'm sorry, but I couldn't generate a meaningful completion for the given\n",
            "I'm sorry, but I couldn't generate a meaningful completion for the given\n",
            "I'm sorry, but I couldn't generate a meaningful completion for the given\n"
          ]
        }
      ]
    },
    {
      "cell_type": "markdown",
      "source": [],
      "metadata": {
        "id": "XU5zy0n2JQ1i"
      }
    },
    {
      "cell_type": "code",
      "source": [],
      "metadata": {
        "id": "Lk0qbxuVIbsh"
      },
      "execution_count": null,
      "outputs": []
    }
  ],
  "metadata": {
    "colab": {
      "name": "Welcome To Colab",
      "provenance": [],
      "include_colab_link": true
    },
    "kernelspec": {
      "display_name": "Python 3",
      "name": "python3"
    }
  },
  "nbformat": 4,
  "nbformat_minor": 0
}